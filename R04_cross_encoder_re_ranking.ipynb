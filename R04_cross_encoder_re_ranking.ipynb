{
 "cells": [
  {
   "cell_type": "markdown",
   "metadata": {
    "id": "bsE5acPAhFCR"
   },
   "source": [
    "The purpose of this notebook is to show how to score the relevance of the documents we retrieved for a query.\n",
    "\n",
    "Two approaches:\n",
    "\n",
    "\n",
    "1) Re-ranking a long tail of results.\n",
    "\n",
    "    a. For a query we retrieve a list of 10 documents.\n",
    "\n",
    "    b. We then create pairs of query and each document.\n",
    "\n",
    "    c. Then we ask th encoder to re-rank these pairs for relevance.\n",
    "\n",
    "\n",
    "\n",
    "2) Re-rank after query expansion.\n",
    "\n",
    "    a. We expand the given query with a set of additional queries.\n",
    "\n",
    "    b. We then retrieve 10 documents for each query.\n",
    "\n",
    "    c. We remove duplicate documents.\n",
    "\n",
    "    d. We then pair the original query with each of the documents and proceed to scoring them\n",
    "\n",
    "\n",
    "This notebook is adapted from:\n",
    "https://learn.deeplearning.ai/advanced-retrieval-for-ai/lesson/5/cross-encoder-re-ranking"
   ]
  },
  {
   "cell_type": "code",
   "execution_count": null,
   "metadata": {
    "id": "J13c1ujFSJi6",
    "tags": []
   },
   "outputs": [],
   "source": [
    "%pip install --upgrade --quiet pypdf python-dotenv\\\n",
    "    chromadb langchain sentence-transformers"
   ]
  },
  {
   "cell_type": "code",
   "execution_count": 4,
   "metadata": {
    "tags": []
   },
   "outputs": [
    {
     "data": {
      "application/vnd.jupyter.widget-view+json": {
       "model_id": "6957aa46f7884ffea8664f8386067b2d",
       "version_major": 2,
       "version_minor": 0
      },
      "text/plain": [
       "README.md:   0%|          | 0.00/10.7k [00:00<?, ?B/s]"
      ]
     },
     "metadata": {},
     "output_type": "display_data"
    },
    {
     "name": "stderr",
     "output_type": "stream",
     "text": [
      "/home/studio-lab-user/.conda/envs/default/lib/python3.9/site-packages/torch/_utils.py:831: UserWarning: TypedStorage is deprecated. It will be removed in the future and UntypedStorage will be the only storage class. This should only matter to you if you are using storages directly.  To access UntypedStorage directly, use tensor.untyped_storage() instead of tensor.storage()\n",
      "  return self.fget.__get__(instance, owner)()\n"
     ]
    },
    {
     "data": {
      "application/vnd.jupyter.widget-view+json": {
       "model_id": "e79f5ee8c0b14a8596e4171176f53ee6",
       "version_major": 2,
       "version_minor": 0
      },
      "text/plain": [
       "README.md:   0%|          | 0.00/10.6k [00:00<?, ?B/s]"
      ]
     },
     "metadata": {},
     "output_type": "display_data"
    },
    {
     "data": {
      "text/plain": [
       "349"
      ]
     },
     "execution_count": 4,
     "metadata": {},
     "output_type": "execute_result"
    }
   ],
   "source": [
    "from embedding_utils import load_chroma, word_wrap\n",
    "from chromadb.utils.embedding_functions import SentenceTransformerEmbeddingFunction\n",
    "\n",
    "embedding_function = SentenceTransformerEmbeddingFunction()\n",
    "\n",
    "chroma_collection = load_chroma(filename='microsoft_annual_report_2022.pdf',\n",
    "    collection_name='microsoft_annual_report_2022',\n",
    "    embedding_function=embedding_function)\n",
    "\n",
    "chroma_collection.count()"
   ]
  },
  {
   "cell_type": "markdown",
   "metadata": {},
   "source": [
    "1. Re-ranking the long tail"
   ]
  },
  {
   "cell_type": "code",
   "execution_count": 6,
   "metadata": {
    "colab": {
     "base_uri": "https://localhost:8080/"
    },
    "id": "ZkuBdecJXyfr",
    "outputId": "06c17e3f-f5df-46dc-f47f-ae9f83c3a77b",
    "tags": []
   },
   "outputs": [
    {
     "name": "stdout",
     "output_type": "stream",
     "text": [
      "• operating expenses increased $ 1. 5 billion or 14 % driven by\n",
      "investments in gaming, search and news advertising, and windows\n",
      "marketing. operating expenses research and development ( in millions,\n",
      "except percentages ) 2022 2021 percentage change research and\n",
      "development $ 24, 512 $ 20, 716 18 % as a percent of revenue 12 % 12 %\n",
      "0ppt research and development expenses include payroll, employee\n",
      "benefits, stock - based compensation expense, and other headcount -\n",
      "related expenses associated with product development. research and\n",
      "development expenses also include third - party development and\n",
      "programming costs, localization costs incurred to translate software\n",
      "for international markets, and the amortization of purchased software\n",
      "code and services content. research and development expenses increased\n",
      "$ 3. 8 billion or 18 % driven by investments in cloud engineering,\n",
      "gaming, and linkedin. sales and marketing\n",
      "\n",
      "competitive in local markets and enables us to continue to attract top\n",
      "talent from across the world. we plan to continue to make significant\n",
      "investments in a broad range of product research and development\n",
      "activities, and as appropriate we will coordinate our research and\n",
      "development across operating segments and leverage the results across\n",
      "the company. in addition to our main research and development\n",
      "operations, we also operate microsoft research. microsoft research is\n",
      "one of the world ’ s largest corporate research organizations and works\n",
      "in close collaboration with top universities around the world to\n",
      "advance the state - of - the - art in computer science and a broad\n",
      "range of other disciplines, providing us a unique perspective on future\n",
      "trends and contributing to our innovation.\n",
      "\n",
      "our success is based on our ability to create new and compelling\n",
      "products, services, and experiences for our users, to initiate and\n",
      "embrace disruptive technology trends, to enter new geographic and\n",
      "product markets, and to drive broad adoption of our products and\n",
      "services. we invest in a range of emerging technology trends and\n",
      "breakthroughs that we believe offer significant opportunities to\n",
      "deliver value to our customers and growth for the company. based on our\n",
      "assessment of key technology trends, we maintain our long - term\n",
      "commitment to research and development across a wide spectrum of\n",
      "technologies, tools, and platforms spanning digital work and life\n",
      "experiences, cloud computing, ai, devices, and operating systems. while\n",
      "our main product research and development facilities are located in\n",
      "redmond, washington, we also operate research and development\n",
      "facilities in other parts of the u. s. and around the world. this\n",
      "global approach helps us remain\n",
      "\n",
      "when the world around us does well. that ’ s what i believe will lead\n",
      "to widespread human progress and ultimately improve the lives of\n",
      "everyone. there is no more powerful input than digital technology to\n",
      "drive the world ’ s economic output. this is the core thesis for our\n",
      "being as a company, but it ’ s not enough. as we drive global economic\n",
      "growth, we must also commit to creating a more inclusive, equitable,\n",
      "sustainable, and trusted future. support inclusive economic growth we\n",
      "must ensure the growth we drive reaches every person, organization,\n",
      "community, and country. this starts with increasing access to digital\n",
      "skills. this year alone, more than 23 million people accessed digital\n",
      "skills training as part of our global skills initiative.\n",
      "\n",
      "also increased the number of identified partners in the black partner\n",
      "growth initiative and continue to invest in the partner community\n",
      "through the black channel partner alliance by supporting events focused\n",
      "on business growth, accelerators, and mentorship. progress does not\n",
      "undo the egregious injustices of the past or diminish those who\n",
      "continue to live with inequity. we are committed to leveraging our\n",
      "resources to help accelerate diversity and inclusion across our\n",
      "ecosystem and to hold ourselves accountable to accelerate change – for\n",
      "microsoft, and beyond. investing in digital skills the covid - 19\n",
      "pandemic led to record unemployment, disrupting livelihoods of people\n",
      "around the world. after helping over 30 million people in 249 countries\n",
      "and territories with our global skills initiative, we introduced a new\n",
      "initiative to support a more skills - based labor market, with greater\n",
      "flexibility and accessible learning paths to develop the right skills\n",
      "\n",
      "at times, we make select intellectual property broadly available at no\n",
      "or low cost to achieve a strategic objective, such as promoting\n",
      "industry standards, advancing interoperability, supporting societal and\n",
      "/ or environmental efforts, or attracting and enabling our external\n",
      "development community. our increasing engagement with open source\n",
      "software will also cause us to license our intellectual property rights\n",
      "broadly in certain situations. while it may be necessary in the future\n",
      "to seek or renew licenses relating to various aspects of our products,\n",
      "services, and business methods, we believe, based upon past experience\n",
      "and industry practice, such licenses generally can be obtained on\n",
      "commercially reasonable terms. we believe our continuing research and\n",
      "product development are not materially dependent on any single license\n",
      "or other agreement with a third party relating to the development of\n",
      "our products. investing in the future\n",
      "\n",
      "but generally include parts and labor over a period generally ranging\n",
      "from 90 days to three years. for software warranties, we estimate the\n",
      "costs to provide bug fixes, such as security patches, over the\n",
      "estimated life of the software. we regularly reevaluate our estimates\n",
      "to assess the adequacy of the recorded warranty liabilities and adjust\n",
      "the amounts as necessary. research and development research and\n",
      "development expenses include payroll, employee benefits, stock - based\n",
      "compensation expense, and other headcount - related expenses associated\n",
      "with product development. research and development expenses also\n",
      "include third - party development and programming costs, localization\n",
      "costs incurred to translate software for international markets, and the\n",
      "amortization of purchased software code and services content. such\n",
      "costs related to software development are included in research and\n",
      "development expense until the point that technological feasibility is\n",
      "reached, which for our\n",
      "\n",
      "fiscal year 2021 was a year of both successes and challenges. while we\n",
      "continued to make progress on several of our goals, with an overall\n",
      "reduction in our combined scope 1 and scope 2 emissions, our scope 3\n",
      "emissions increased, due in substantial part to significant global\n",
      "datacenter expansions and growth in xbox sales and usage as a result of\n",
      "the covid - 19 pandemic. despite these scope 3 increases, we will\n",
      "continue to build the foundations and do the work to deliver on our\n",
      "commitments, and help our customers and partners achieve theirs. we\n",
      "have learned the impact of our work will not all be felt immediately,\n",
      "and our experience highlights how progress won ’ t always be linear.\n",
      "while fiscal year 2021 presented us with some new learnings, we also\n",
      "made some great progress. a few examples that illuminate the diversity\n",
      "of our work include : • we purchased the removal of 1. 4 million\n",
      "metrics tons of carbon.\n",
      "\n",
      "we protect our intellectual property investments in a variety of ways.\n",
      "we work actively in the u. s. and internationally to ensure the\n",
      "enforcement of copyright, trademark, trade secret, and other\n",
      "protections that apply to our software and hardware products, services,\n",
      "business plans, and branding. we are a leader among technology\n",
      "companies in pursuing patents and currently have a portfolio of over\n",
      "69, 000 u. s. and international patents issued and over 19, 000 pending\n",
      "worldwide. while we employ much of our internally - developed\n",
      "intellectual property exclusively in our products and services, we also\n",
      "engage in outbound licensing of specific patented technologies that are\n",
      "incorporated into licensees ’ products. from time to time, we enter\n",
      "into broader cross - license agreements with other technology companies\n",
      "covering entire groups of patents. we may also purchase or license\n",
      "technology that we incorporate into our products and services.\n",
      "\n",
      "15 corporate social responsibility commitment to sustainability we work\n",
      "to ensure that technology is inclusive, trusted, and increases\n",
      "sustainability. we are accelerating progress toward a more sustainable\n",
      "future by reducing our environmental footprint, advancing research,\n",
      "helping our customers build sustainable solutions, and advocating for\n",
      "policies that benefit the environment. in january 2020, we announced a\n",
      "bold commitment and detailed plan to be carbon negative by 2030, and to\n",
      "remove from the environment by 2050 all the carbon we have emitted\n",
      "since our founding in 1975. this included a commitment to invest $ 1\n",
      "billion over four years in new technologies and innovative climate\n",
      "solutions. we built on this pledge by adding commitments to be water\n",
      "positive by 2030, zero waste by 2030, and to protect ecosystems by\n",
      "developing a planetary computer. we also help our suppliers and\n",
      "customers around the world use microsoft technology to reduce their own\n",
      "carbon footprint.\n",
      "\n"
     ]
    }
   ],
   "source": [
    "query = \"What has been the investment in research and development?\"\n",
    "results = chroma_collection.query(query_texts=query, n_results=10, include=['documents', 'embeddings'])\n",
    "\n",
    "retrieved_documents = results['documents'][0]\n",
    "\n",
    "for document in results['documents'][0]:\n",
    "    print(word_wrap(document))\n",
    "    print()"
   ]
  },
  {
   "cell_type": "code",
   "execution_count": 7,
   "metadata": {
    "id": "L1RgcJ0xTBOh",
    "tags": []
   },
   "outputs": [
    {
     "data": {
      "application/vnd.jupyter.widget-view+json": {
       "model_id": "3dd6ec263810419e85b199ff56c8d46a",
       "version_major": 2,
       "version_minor": 0
      },
      "text/plain": [
       "config.json:   0%|          | 0.00/794 [00:00<?, ?B/s]"
      ]
     },
     "metadata": {},
     "output_type": "display_data"
    },
    {
     "data": {
      "application/vnd.jupyter.widget-view+json": {
       "model_id": "8ca91dd3677243f68704b424990b1115",
       "version_major": 2,
       "version_minor": 0
      },
      "text/plain": [
       "pytorch_model.bin:   0%|          | 0.00/90.9M [00:00<?, ?B/s]"
      ]
     },
     "metadata": {},
     "output_type": "display_data"
    },
    {
     "data": {
      "application/vnd.jupyter.widget-view+json": {
       "model_id": "4477ae9e98b34ceab02ecc891f466f5f",
       "version_major": 2,
       "version_minor": 0
      },
      "text/plain": [
       "tokenizer_config.json:   0%|          | 0.00/316 [00:00<?, ?B/s]"
      ]
     },
     "metadata": {},
     "output_type": "display_data"
    },
    {
     "data": {
      "application/vnd.jupyter.widget-view+json": {
       "model_id": "37df320a3c5c4cb3a06035d7aecaa30c",
       "version_major": 2,
       "version_minor": 0
      },
      "text/plain": [
       "vocab.txt:   0%|          | 0.00/232k [00:00<?, ?B/s]"
      ]
     },
     "metadata": {},
     "output_type": "display_data"
    },
    {
     "data": {
      "application/vnd.jupyter.widget-view+json": {
       "model_id": "99e8853daeb44108a9791e61fc26971d",
       "version_major": 2,
       "version_minor": 0
      },
      "text/plain": [
       "special_tokens_map.json:   0%|          | 0.00/112 [00:00<?, ?B/s]"
      ]
     },
     "metadata": {},
     "output_type": "display_data"
    }
   ],
   "source": [
    "from sentence_transformers import CrossEncoder\n",
    "cross_encoder = CrossEncoder('cross-encoder/ms-marco-MiniLM-L-6-v2')"
   ]
  },
  {
   "cell_type": "code",
   "execution_count": 8,
   "metadata": {
    "colab": {
     "base_uri": "https://localhost:8080/"
    },
    "id": "X71D2SfpTR9c",
    "outputId": "84296e4e-8b66-4d12-91cf-267e0d096d38",
    "tags": []
   },
   "outputs": [
    {
     "name": "stdout",
     "output_type": "stream",
     "text": [
      "[  0.98693573   2.6445804   -0.2680317  -10.731592    -7.7066045\n",
      "  -5.646997    -4.2970366  -10.933232    -7.038429    -7.324694  ]\n"
     ]
    }
   ],
   "source": [
    "pairs = [[query, doc] for doc in retrieved_documents]\n",
    "scores = cross_encoder.predict(pairs)\n",
    "print(scores)"
   ]
  },
  {
   "cell_type": "markdown",
   "metadata": {},
   "source": [
    "Sort document, score pairs from best score to lowest score. As you can see 2nd document is the highest scored and the 8th document is the lowest scored. What's more the 4th document is second to last."
   ]
  },
  {
   "cell_type": "code",
   "execution_count": 9,
   "metadata": {
    "colab": {
     "base_uri": "https://localhost:8080/"
    },
    "id": "NQTR0hb8YjCQ",
    "outputId": "6bf2b983-6ea8-44ac-888a-f31bfc47da71",
    "tags": []
   },
   "outputs": [
    {
     "data": {
      "text/plain": [
       "[(2, 2.6445804),\n",
       " (1, 0.98693573),\n",
       " (3, -0.2680317),\n",
       " (7, -4.2970366),\n",
       " (6, -5.646997),\n",
       " (9, -7.038429),\n",
       " (10, -7.324694),\n",
       " (5, -7.7066045),\n",
       " (4, -10.731592),\n",
       " (8, -10.933232)]"
      ]
     },
     "execution_count": 9,
     "metadata": {},
     "output_type": "execute_result"
    }
   ],
   "source": [
    "ranks = [(index+1, score) for index, score in enumerate(scores)]\n",
    "ranks.sort(key=lambda p: p[1], reverse=True)\n",
    "ranks"
   ]
  },
  {
   "cell_type": "markdown",
   "metadata": {},
   "source": [
    "2. Re-rank with query expansion"
   ]
  },
  {
   "cell_type": "code",
   "execution_count": 10,
   "metadata": {
    "id": "DKJV370pUo3E",
    "tags": []
   },
   "outputs": [],
   "source": [
    "original_query = \"What were the most important factors that contributed to increases in revenue?\"\n",
    "generated_queries = [\n",
    "    \"What were the major drivers of revenue growth?\",\n",
    "    \"Were there any new product launches that contributed to the increase in revenue?\",\n",
    "    \"Did any changes in pricing or promotions impact the revenue growth?\",\n",
    "    \"What were the key market trends that facilitated the increase in revenue?\",\n",
    "    \"Did any acquisitions or partnerships contribute to the revenue growth?\"\n",
    "]\n",
    "\n",
    "queries = [original_query] + generated_queries\n",
    "\n",
    "results = chroma_collection.query(query_texts=queries, n_results=10, include=['documents', 'embeddings'])\n",
    "retrieved_documents = results['documents']"
   ]
  },
  {
   "cell_type": "markdown",
   "metadata": {},
   "source": [
    "Deduplicate documents. The same document might have been retrieved more than once."
   ]
  },
  {
   "cell_type": "code",
   "execution_count": 19,
   "metadata": {
    "colab": {
     "base_uri": "https://localhost:8080/"
    },
    "id": "3H2s2xjTZnG_",
    "outputId": "693c711c-f122-40c6-d94a-aab962ef0bb1",
    "tags": []
   },
   "outputs": [
    {
     "name": "stdout",
     "output_type": "stream",
     "text": [
      "unique docs = 23\n"
     ]
    }
   ],
   "source": [
    "unique_docs = list(set(doc for docs in retrieved_documents for doc in docs))\n",
    "print(f\"unique docs = {len(unique_docs)}\")"
   ]
  },
  {
   "cell_type": "code",
   "execution_count": 12,
   "metadata": {
    "colab": {
     "base_uri": "https://localhost:8080/"
    },
    "id": "8gfJBiCfaAEJ",
    "outputId": "c4788b65-720c-4a25-c682-3a57567c65ec",
    "tags": []
   },
   "outputs": [
    {
     "data": {
      "text/plain": [
       "[(6, -1.136996),\n",
       " (15, -3.7681513),\n",
       " (18, -3.7948644),\n",
       " (20, -4.341767),\n",
       " (5, -4.6518893),\n",
       " (4, -4.8184843),\n",
       " (23, -5.1418314),\n",
       " (17, -5.27475),\n",
       " (22, -6.9020915),\n",
       " (16, -7.4906545),\n",
       " (12, -7.7541003),\n",
       " (1, -7.917177),\n",
       " (7, -8.505109),\n",
       " (11, -9.357722),\n",
       " (19, -9.768025),\n",
       " (8, -9.807878),\n",
       " (2, -9.918429),\n",
       " (14, -10.000137),\n",
       " (21, -10.042843),\n",
       " (3, -10.0839405),\n",
       " (10, -10.148885),\n",
       " (13, -10.711211),\n",
       " (9, -11.079268)]"
      ]
     },
     "execution_count": 12,
     "metadata": {},
     "output_type": "execute_result"
    }
   ],
   "source": [
    "pairs = [[original_query , doc] for doc in unique_docs]\n",
    "scores = cross_encoder.predict(pairs)\n",
    "ranks = [(index+1, score) for index, score in enumerate(scores)]\n",
    "ranks.sort(key=lambda p: p[1], reverse=True)\n",
    "ranks"
   ]
  },
  {
   "cell_type": "markdown",
   "metadata": {},
   "source": [
    "Top ranked document"
   ]
  },
  {
   "cell_type": "code",
   "execution_count": 17,
   "metadata": {
    "colab": {
     "base_uri": "https://localhost:8080/"
    },
    "id": "xPk9FZqDbTBo",
    "outputId": "f8dd5f69-8356-4647-d621-cf5b68fe37ad",
    "tags": []
   },
   "outputs": [
    {
     "name": "stdout",
     "output_type": "stream",
     "text": [
      "What were the most important factors that contributed to increases in revenue?\n",
      "\n",
      "• windows revenue increased $ 2. 3 billion or 10 % driven by growth in\n",
      "windows oem and windows commercial. windows oem revenue increased 11 %\n",
      "driven by continued strength in the commercial pc market, which has\n",
      "higher revenue per license. windows commercial products and cloud\n",
      "services revenue increased 11 % driven by demand for microsoft 365.\n"
     ]
    }
   ],
   "source": [
    "index = ranks[0][0] - 1\n",
    "print(original_query)\n",
    "print()\n",
    "print(word_wrap(unique_docs[index]))"
   ]
  },
  {
   "cell_type": "markdown",
   "metadata": {},
   "source": [
    "Lowest ranked document"
   ]
  },
  {
   "cell_type": "code",
   "execution_count": 18,
   "metadata": {
    "colab": {
     "base_uri": "https://localhost:8080/"
    },
    "id": "Q10Vm1I_fR2f",
    "outputId": "3481eece-a8e0-471a-e61d-0ffa3a741f2e",
    "tags": []
   },
   "outputs": [
    {
     "name": "stdout",
     "output_type": "stream",
     "text": [
      "What were the most important factors that contributed to increases in revenue?\n",
      "\n",
      "66 gains ( losses ), net of tax, on derivative instruments recognized\n",
      "in our consolidated comprehensive income statements were as follows : (\n",
      "in millions ) year ended june 30, 2022 2021 2020 designated as cash\n",
      "flow hedging instruments foreign exchange contracts included in\n",
      "effectiveness assessment $ ( 57 ) $ 34 $ ( 38 ) note 6 — inventories\n",
      "the components of inventories were as follows : ( in millions ) june\n",
      "30, 2022 2021 raw materials $ 1, 144 $ 1, 190 work in process 82 79\n",
      "finished goods 2, 516 1, 367 total $ 3, 742 $ 2, 636 note 7 — property\n",
      "and equipment the components of property and equipment were as follows\n",
      ": ( in millions ) june 30, 2022 2021 land $ 4, 734 $ 3, 660 buildings\n",
      "and improvements 55, 014 43, 928 leasehold improvements 7, 819 6, 884\n",
      "computer equipment and software 60, 631 51, 250\n"
     ]
    }
   ],
   "source": [
    "index = ranks[-1][0] - 1\n",
    "print(original_query)\n",
    "print()\n",
    "print(word_wrap(unique_docs[index]))"
   ]
  },
  {
   "cell_type": "code",
   "execution_count": null,
   "metadata": {},
   "outputs": [],
   "source": []
  }
 ],
 "metadata": {
  "colab": {
   "provenance": []
  },
  "kernelspec": {
   "display_name": "default:Python",
   "language": "python",
   "name": "conda-env-default-py"
  },
  "language_info": {
   "codemirror_mode": {
    "name": "ipython",
    "version": 3
   },
   "file_extension": ".py",
   "mimetype": "text/x-python",
   "name": "python",
   "nbconvert_exporter": "python",
   "pygments_lexer": "ipython3",
   "version": "3.9.16"
  }
 },
 "nbformat": 4,
 "nbformat_minor": 4
}
