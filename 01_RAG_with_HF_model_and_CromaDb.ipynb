{
 "cells": [
  {
   "cell_type": "code",
   "execution_count": 1,
   "metadata": {
    "id": "BPfajf-ZSI7I",
    "tags": []
   },
   "outputs": [
    {
     "name": "stdout",
     "output_type": "stream",
     "text": [
      "Note: you may need to restart the kernel to use updated packages.\n"
     ]
    }
   ],
   "source": [
    "%pip install --upgrade --quiet python_dotenv pypdf langchain \\\n",
    " sentence-transformers huggingface_hub chromadb"
   ]
  },
  {
   "cell_type": "code",
   "execution_count": 1,
   "metadata": {
    "colab": {
     "base_uri": "https://localhost:8080/"
    },
    "id": "uFjv4aCvU0Hn",
    "outputId": "5fefe38f-dfe0-4c31-d41e-a0106c6725cb",
    "tags": []
   },
   "outputs": [
    {
     "name": "stdout",
     "output_type": "stream",
     "text": [
      "Token will not been saved to git credential helper. Pass `add_to_git_credential=True` if you want to set the git credential as well.\n",
      "Token is valid (permission: read).\n",
      "Your token has been saved to /home/studio-lab-user/.cache/huggingface/token\n",
      "Login successful\n"
     ]
    }
   ],
   "source": [
    "import os\n",
    "from dotenv import load_dotenv, find_dotenv\n",
    "from huggingface_hub import login\n",
    "_ = load_dotenv(find_dotenv()) # read local .env file\n",
    "hugging_face_access_token = os.environ['HUGGINGFACEHUB_API_TOKEN']\n",
    "login(hugging_face_access_token)"
   ]
  },
  {
   "cell_type": "code",
   "execution_count": 2,
   "metadata": {
    "id": "57E8t2JNe0dE",
    "tags": []
   },
   "outputs": [],
   "source": [
    "def word_wrap(text: str, max_len: int = 72) -> str:\n",
    "    if len(text) < max_len:\n",
    "        return text\n",
    "    ans = text[:max_len].rsplit(' ', 1)[0] + \"\\n\" + \\\n",
    "        word_wrap(text[len(text[:max_len].rsplit(' ', 1)[0]):], max_len)\n",
    "    return ans"
   ]
  },
  {
   "cell_type": "code",
   "execution_count": 3,
   "metadata": {
    "id": "jFZscGg-WATa",
    "tags": []
   },
   "outputs": [],
   "source": [
    "from langchain_community.document_loaders import PyPDFLoader\n",
    "loader = PyPDFLoader(\"microsoft_annual_report_2022.pdf\")\n",
    "pdf_docs = [doc for doc in loader.load() if len(doc.page_content.strip()) != 0]"
   ]
  },
  {
   "cell_type": "code",
   "execution_count": 4,
   "metadata": {
    "colab": {
     "base_uri": "https://localhost:8080/"
    },
    "id": "7ZQzLIIXWcUM",
    "outputId": "721dbbb8-283d-4624-e683-6f6997972bce",
    "tags": []
   },
   "outputs": [
    {
     "name": "stdout",
     "output_type": "stream",
     "text": [
      "90\n",
      "{'source': 'microsoft_annual_report_2022.pdf', 'page': 2}\n",
      "1 Dear shareholders, colleagues, customers, and partners:  \n",
      "We are\n",
      " living through a period of historic economic, societal, and\n",
      " geopolitical change. The world in 2022 looks nothing like \n",
      "the world\n",
      " in 2019. As I write this, inflation is at a 40 -year high, supply\n",
      " chains are stretched, and the war in Ukraine is \n",
      "ongoing. At the same\n",
      " time, we are entering a technological era with the potential to power\n",
      " awesome advancements \n",
      "across every sector of our economy and society.\n",
      " As the world’s largest software company, this places us at a historic\n",
      " \n",
      "intersection of opportunity and responsibility to the world around\n",
      " us.  \n",
      "Our mission to empower every person and every organization on\n",
      " the planet to achieve more has never been more \n",
      "urgent or more\n",
      " necessary. For all the uncertainty in the world, one thing is clear:\n",
      " People and organizations in every \n",
      "industry are increasingly looking\n",
      " to digital technology to overcome today’s challenges and emerge\n",
      " stronger. And no \n",
      "company is better positioned to help them than\n",
      " Microsoft.  \n",
      "Every day this past fiscal year I have had the privilege\n",
      " to witness our customers use our platforms and tools to connect \n",
      "what\n",
      " technology can do with what the world needs  it to do.  \n",
      "Here are just\n",
      " a few examples:  \n",
      "• Ferrovial, which builds and manages some of the\n",
      " world’s busiest airports and highways, is using our cloud\n",
      " \n",
      "infrastructure to build safer roads as it prepares for a future of\n",
      " autonomous transportation.  \n",
      "• Peace Parks Foundation, a nonprofit\n",
      " helping protect natural ecosystems in Southern Africa, is using\n",
      " Microsoft \n",
      "Dynamics 365 and Power BI to secure essential funding, as\n",
      " well as our Azure AI and IoT solutions to help \n",
      "rangers scale their\n",
      " park maintenance and wildlife crime prevention work.  \n",
      "• One of the\n",
      " world’s largest robotics companies, Kawasaki Heavy Industries, is\n",
      " using the breadth of our tools —\n",
      "from Azure IoT and HoloLens —to\n",
      " create an industrial metaverse solution that brings its distributed\n",
      " workforce \n",
      "together with its network of connected equipment to improve\n",
      " productivity and keep employees safe.  \n",
      "• Globo, the biggest media and\n",
      " TV company in Brazil, is using Power Platform to empower its employees\n",
      " to \n",
      "build their own solutions for everything from booking sets to\n",
      " setting schedules.  \n",
      "• And Ørsted, which produces a quarter of the\n",
      " world’s wind energy, is using the Microsoft Intelligent Data \n",
      "Platform\n",
      " to turn data from its offshore turbines into insights for predictive\n",
      " maintenance.  \n",
      "Amid this dynamic environment, we delivered record\n",
      " results in fiscal year 2022: We reported $198  billion in revenue and\n",
      " \n",
      "$83 billion in operating income. And the Microsoft Cloud surpassed\n",
      " $100  billion in annualized revenue for the first time.  \n",
      "OUR\n",
      " RESPONSIBILITY  \n",
      "As a corporation, our purpose and actions must be\n",
      " aligned with addressing the world’s problems, not creating new ones.\n",
      " \n",
      "At our very core, we need to deliver innovation that helps drive\n",
      " broad economic growth. We, as a company, will do well \n",
      "when the world\n",
      " around us does well.  \n",
      "That’s what I believe will lead to widespread\n",
      " human progress and ultimately improve the lives of everyone. There is\n",
      " no \n",
      "more powerful input than digital technology to drive the world’s\n",
      " economic output. This is the core thesis for our being as a \n",
      "company,\n",
      " but it’s not enough. As we drive global economic growth, we must also\n",
      " commit to creating a more inclusive, \n",
      "equitable, sustainable, and\n",
      " trusted future.  \n",
      "Support inclusive economic growth  \n",
      "We must ensure\n",
      " the growth we drive reaches every person, organization, community, and\n",
      " country. This starts with \n",
      "increasing access to digital skills. This\n",
      " year alone, more than 23  million people accessed digital skills\n",
      " training as part of \n",
      "our global skills initiative.  \n"
     ]
    }
   ],
   "source": [
    "print(len(pdf_docs))\n",
    "print(pdf_docs[0].metadata)\n",
    "print(word_wrap(pdf_docs[0].page_content))"
   ]
  },
  {
   "cell_type": "code",
   "execution_count": 5,
   "metadata": {
    "id": "gsAXi9o69QHX",
    "tags": []
   },
   "outputs": [],
   "source": [
    "from langchain.text_splitter import (\n",
    "    RecursiveCharacterTextSplitter,\n",
    "    SentenceTransformersTokenTextSplitter)\n",
    "\n",
    "# separators are characters used for recursive splitting\n",
    "# first by \"\\n\\n\" if the chunk is over 1000 then by \"\\n\"\n",
    "# and so on\n",
    "\n",
    "# chunk over lap is a hyper parameter for you\n",
    "# to decide what the optimal chunking is. Overlap\n",
    "# preserves some context from the previous chunk to the next\n",
    "character_splitter = RecursiveCharacterTextSplitter(\n",
    "    separators=[\"\\n\\n\", \"\\n\", \". \", \" \", \"\"],\n",
    "    chunk_overlap=0,\n",
    "    chunk_size=1000\n",
    ")"
   ]
  },
  {
   "cell_type": "code",
   "execution_count": 6,
   "metadata": {
    "id": "dEDP5Bmd92av",
    "tags": []
   },
   "outputs": [],
   "source": [
    "pdf_docs_character_splits = character_splitter.split_documents(pdf_docs)"
   ]
  },
  {
   "cell_type": "code",
   "execution_count": 7,
   "metadata": {
    "colab": {
     "base_uri": "https://localhost:8080/"
    },
    "id": "om4I7QQB-nYf",
    "outputId": "56f74f25-f08b-4fc7-b269-14004f82d6b4",
    "tags": []
   },
   "outputs": [
    {
     "data": {
      "text/plain": [
       "347"
      ]
     },
     "execution_count": 7,
     "metadata": {},
     "output_type": "execute_result"
    }
   ],
   "source": [
    "len(pdf_docs_character_splits)"
   ]
  },
  {
   "cell_type": "code",
   "execution_count": 8,
   "metadata": {
    "id": "k-ZsSKgM_lpo",
    "tags": []
   },
   "outputs": [
    {
     "name": "stderr",
     "output_type": "stream",
     "text": [
      "/home/studio-lab-user/.conda/envs/default/lib/python3.9/site-packages/torch/_utils.py:831: UserWarning: TypedStorage is deprecated. It will be removed in the future and UntypedStorage will be the only storage class. This should only matter to you if you are using storages directly.  To access UntypedStorage directly, use tensor.untyped_storage() instead of tensor.storage()\n",
      "  return self.fget.__get__(instance, owner)()\n"
     ]
    }
   ],
   "source": [
    "# we need to tokenize (token split the charater splitted documents to be able to fit\n",
    "# the context window size of sentense transformers embedding model) which we will\n",
    "# use to construct the vector store below. This max context size is 256 tokes.\n",
    "# It downloads sentence-tranformers from HuggingFace to tokenize documents\n",
    "token_splitter = SentenceTransformersTokenTextSplitter(chunk_overlap=0, tokens_per_chunk=256)"
   ]
  },
  {
   "cell_type": "code",
   "execution_count": 9,
   "metadata": {
    "id": "sc9F9E9Q_qv_",
    "tags": []
   },
   "outputs": [],
   "source": [
    "pdf_docs_token_splits = token_splitter.split_documents(pdf_docs_character_splits)"
   ]
  },
  {
   "cell_type": "code",
   "execution_count": 10,
   "metadata": {
    "colab": {
     "base_uri": "https://localhost:8080/"
    },
    "id": "I1Lltnk5AQkP",
    "outputId": "4b2e8ed4-ea1f-4951-81ae-0876838d6032",
    "tags": []
   },
   "outputs": [
    {
     "name": "stdout",
     "output_type": "stream",
     "text": [
      "349\n",
      "{'source': 'microsoft_annual_report_2022.pdf', 'page': 4}\n",
      "increased, due in large part to significant global datacenter\n",
      " expansions and the growth in xbox sales and usage. despite these\n",
      " increases, we remain dedicated to achieving a net - zero future. we\n",
      " recognize that progress won ’ t always be linear, and the rate at\n",
      " which we can implement emissions reductions is dependent on many\n",
      " factors that can fluctuate over time. on the path to becoming water\n",
      " positive, we invested in 21 water replenishment projects that are\n",
      " expected to generate over 1. 3 million cubic meters of volumetric\n",
      " benefits in nine water basins around the world. progress toward our\n",
      " zero waste commitment included diverting more than 15, 200 metric tons\n",
      " of solid waste otherwise headed to landfills and incinerators, as well\n",
      " as launching new circular centers to increase reuse and reduce e -\n",
      " waste at our datacenters. we contracted to protect over 17, 000 acres\n",
      " of land ( 50 % more than the land we use to operate ), thus achieving\n",
      " our\n"
     ]
    }
   ],
   "source": [
    "# it adds 2 more chunks after token splitting\n",
    "print(len(pdf_docs_token_splits))\n",
    "print(pdf_docs_token_splits[10].metadata)\n",
    "print(word_wrap(pdf_docs_token_splits[10].page_content))"
   ]
  },
  {
   "cell_type": "code",
   "execution_count": 11,
   "metadata": {
    "colab": {
     "base_uri": "https://localhost:8080/"
    },
    "id": "N5LiEG6HGKnz",
    "outputId": "924ed157-fd53-4fb8-953c-a1d7eaf626f3",
    "tags": []
   },
   "outputs": [
    {
     "data": {
      "text/plain": [
       "193"
      ]
     },
     "execution_count": 11,
     "metadata": {},
     "output_type": "execute_result"
    }
   ],
   "source": [
    "# token splitts fit with in the 256 context size for the\n",
    "# selected setence-transofrmers embedding model\n",
    "token_splitter.count_tokens(text=pdf_docs_token_splits[10].page_content)"
   ]
  },
  {
   "cell_type": "code",
   "execution_count": 12,
   "metadata": {
    "id": "YhnfHudbToyJ",
    "tags": []
   },
   "outputs": [],
   "source": [
    "# If we were to use sentence transformers outside of\n",
    "# LangChain integration, we could directly use the one\n",
    "# we downloaded above when tokinizing docs. However,\n",
    "# out of the box embedder can't be used with LangChain.\n",
    "# And hence, we have to download it again from HuggingFace\n",
    "# but this time it will fit the LangChain framework.\n",
    "# This will be used in constructing the vector store\n",
    "# along with the embedding appropriate tokenized docs.\n",
    "\n",
    "# Note: sentence-transformers embedding creates a single\n",
    "# dense vector per document chunk. It creates the chunk dense\n",
    "# vector via a pooking layer on top of bert-based token embedding\n",
    "\n",
    "from langchain_community.embeddings import HuggingFaceEmbeddings\n",
    "hf_embedding_model = HuggingFaceEmbeddings(model_name='all-MiniLM-L6-v2')"
   ]
  },
  {
   "cell_type": "code",
   "execution_count": 13,
   "metadata": {
    "colab": {
     "base_uri": "https://localhost:8080/"
    },
    "id": "PoXavfhuYwDS",
    "outputId": "6e1c2adc-9057-4898-b590-c2169c28fc19",
    "tags": []
   },
   "outputs": [
    {
     "name": "stdout",
     "output_type": "stream",
     "text": [
      "384\n"
     ]
    }
   ],
   "source": [
    "embeddig = hf_embedding_model.embed_query(\"this is a text\")\n",
    "# embedding vector is has 384 dimensions\n",
    "print(len(embeddig))"
   ]
  },
  {
   "cell_type": "code",
   "execution_count": 14,
   "metadata": {
    "id": "dVWP8_AmYpw3",
    "tags": []
   },
   "outputs": [],
   "source": [
    "from enum import Enum\n",
    "\"\"\" Conivnient Enum for selecting search type\n",
    "to be used when generating a retriever.\n",
    "\"\"\"\n",
    "class SearchType(Enum):\n",
    "    # default\n",
    "    similarity = 1\n",
    "    # Maximal marginal relevance optimizes for similarity\n",
    "    # to query and diversity among selected documents.\n",
    "    mmr = 2\n",
    "    # You can also set a retrieval method that\n",
    "    # sets a similarity score threshold and only\n",
    "    # returns documents with a score above that threshold.\n",
    "    similarity_score_threshold = 3 #\n",
    "\n",
    "    \"\"\"\n",
    "      retriever = db.as_retriever(\n",
    "          search_type=\"similarity_score_threshold\",\n",
    "          search_kwargs={\"score_threshold\": 0.5}\n",
    "      )\n",
    "    \"\"\"\n",
    "\n",
    "\n",
    "# LangChain Chroma integration hides some methods\n",
    "# like counting the nuber of items in the collection.\n",
    "# Out of the box chroma collection has a count method.\n",
    "\n",
    "from langchain_community.vectorstores import Chroma\n",
    "\n",
    "vectorstore = Chroma(\n",
    "    collection_name=\"microsoft_annual_report_2022\"\n",
    ")\n",
    "\n",
    "db = vectorstore.from_documents(pdf_docs_token_splits, hf_embedding_model)\n",
    "\n",
    "# retriever = db.as_retriever(search_type=SearchType.mmr.name)\n",
    "# to specify top k results\n",
    "# retriever = db.as_retriever(search_type=SearchType.mmr.name, search_kwargs={\"k\": 4})"
   ]
  },
  {
   "cell_type": "code",
   "execution_count": 15,
   "metadata": {
    "id": "x-QfMd_64KFE",
    "tags": []
   },
   "outputs": [],
   "source": [
    "# top k is a hyper parameter you can experiment with\n",
    "retriever = db.as_retriever(search_type=SearchType.mmr.name, search_kwargs={\"k\": 4})"
   ]
  },
  {
   "cell_type": "code",
   "execution_count": 16,
   "metadata": {
    "id": "GFSiujCZVsLP",
    "tags": []
   },
   "outputs": [],
   "source": [
    "query = \"What was the total revenue?\"\n",
    "retrieved_docs = retriever.get_relevant_documents(query)\n",
    "retrieved_docs.sort(key=lambda doc: doc.metadata['page'])"
   ]
  },
  {
   "cell_type": "code",
   "execution_count": 17,
   "metadata": {
    "colab": {
     "base_uri": "https://localhost:8080/"
    },
    "id": "NjRXeAIway3u",
    "outputId": "ade6b7cd-7b6a-4210-bd5c-6d6a0363021f",
    "tags": []
   },
   "outputs": [
    {
     "name": "stdout",
     "output_type": "stream",
     "text": [
      "{'page': 35, 'source': 'microsoft_annual_report_2022.pdf'}\n",
      "engineering, gaming, and linkedin. • sales and marketing expenses\n",
      " increased $ 1. 7 billion or 8 % driven by investments in commercial\n",
      " sales and linkedin. sales and marketing included a favorable foreign\n",
      " currency impact of 2 %. • general and administrative expenses\n",
      " increased $ 793 million or 16 % driven by investments in corporate\n",
      " functions. operating income increased $ 13. 5 billion or 19 % driven\n",
      " by growth across each of our segments. current year net income and\n",
      " diluted eps were positively impacted by the net tax benefit related to\n",
      " the transfer of intangible properties, which resulted in an increase\n",
      " to net income and diluted eps of $ 3. 3 billion and $ 0. 44,\n",
      " respectively. prior year net income and diluted eps were positively\n",
      " impacted by the net tax benefit related to the india supreme court\n",
      " decision on withholding taxes, which resulted in an increase to net\n",
      " income and diluted eps of $ 620 million and $ 0. 08, respectively.\n",
      "\n",
      "{'page': 50, 'source': 'microsoft_annual_report_2022.pdf'}\n",
      "accounts payable $ 19, 000 $ 15, 163 current portion of long - term\n",
      " debt 2, 749 8, 072 accrued compensation 10, 661 10, 057 short - term\n",
      " income taxes 4, 067 2, 174 short - term unearned revenue 45, 538 41,\n",
      " 525 other current liabilities 13, 067 11, 666 total current\n",
      " liabilities 95, 082 88, 657 long - term debt 47, 032 50, 074 long -\n",
      " term income taxes 26, 069 27, 190 long - term unearned revenue 2, 870\n",
      " 2, 616 deferred income taxes 230 198 operating lease liabilities 11,\n",
      " 489 9, 629 other long - term liabilities 15, 526 13, 427 total\n",
      " liabilities 198, 298 191, 791 commitments and contingencies\n",
      " stockholders ’ equity : common stock and paid - in capital – shares\n",
      " authorized 24, 000 ; outstanding 7, 464 and 7, 519 86, 939 83, 111\n",
      " retained earnings 84, 281 57, 055 accumulated other comprehensive\n",
      " income ( loss ) ( 4, 678 ) 1, 822 total stockholders ’ equity 166, 542\n",
      " 141, 988\n",
      "\n",
      "{'page': 83, 'source': 'microsoft_annual_report_2022.pdf'}\n",
      "revenue, classified by significant product and service offerings, was\n",
      " as follows : ( in millions ) year ended june 30, 2022 2021 2020 server\n",
      " products and cloud services $ 67, 321 $ 52, 589 $ 41, 379 office\n",
      " products and cloud services 44, 862 39, 872 35, 316 windows 24, 761\n",
      " 22, 488 21, 510 gaming 16, 230 15, 370 11, 575 linkedin 13, 816 10,\n",
      " 289 8, 077 search and news advertising 11, 591 9, 267 8, 524\n",
      " enterprise services 7, 407 6, 943 6, 409 devices 6, 991 6, 791 6, 457\n",
      " other 5, 291 4, 479 3, 768 total $ 198, 270 $ 168, 088 $ 143, 015 we\n",
      " have recast certain previously reported amounts in the table above to\n",
      " conform to the way we internally manage and monitor our business.\n",
      "\n",
      "{'page': 86, 'source': 'microsoft_annual_report_2022.pdf'}\n",
      "that are not sold separately. • we tested the mathematical accuracy of\n",
      " management ’ s calculations of revenue and the associated timing of\n",
      " revenue recognized in the financial statements.\n",
      "\n"
     ]
    }
   ],
   "source": [
    "for doc in retrieved_docs:\n",
    "    print(doc.metadata)\n",
    "    print(word_wrap(doc.page_content))\n",
    "    print(\"\")"
   ]
  },
  {
   "cell_type": "code",
   "execution_count": 18,
   "metadata": {
    "id": "AIFhDDzUP5WX",
    "tags": []
   },
   "outputs": [],
   "source": [
    "from langchain.schema import HumanMessage, SystemMessage\n",
    "from langchain.prompts import ChatPromptTemplate\n",
    "\n",
    "def rag(query: str, retrieved_docs, chat_model) -> str:\n",
    "\n",
    "    text = [doc.page_content for doc in retrieved_docs]\n",
    "    information = \"\\n\\n\".join(text)\n",
    "\n",
    "    system_message = \"You are a helpful expert financial research assistant.\\\n",
    "      Your users are asking questions about information contained in an annual report.\\\n",
    "      You will be shown the user's question, and the relevant information from\\\n",
    "      the annual report. Answer the user's question using only this information.\"\n",
    "\n",
    "    content = f\"Question: {query}. \\n Information: {information}\"\n",
    "\n",
    "    messages = [\n",
    "      SystemMessage(content=system_message),\n",
    "      HumanMessage(\n",
    "        content=content\n",
    "      ),\n",
    "    ]\n",
    "\n",
    "    response = chat_model.invoke(messages)\n",
    "\n",
    "    return response.content"
   ]
  },
  {
   "cell_type": "code",
   "execution_count": 19,
   "metadata": {
    "colab": {
     "base_uri": "https://localhost:8080/"
    },
    "id": "6GDHgcWmV8OB",
    "outputId": "f9387cea-0f53-436f-f983-6c21f8dcabca",
    "tags": []
   },
   "outputs": [],
   "source": [
    "import llm_utils\n",
    "llm = llm_utils.HuggingFaceHub(\n",
    "    repo_id=\"HuggingFaceH4/zephyr-7b-beta\",\n",
    "    task=\"text-generation\",\n",
    "    model_kwargs={\n",
    "        \"max_new_tokens\": 512,\n",
    "        \"top_k\": 30,\n",
    "        \"temperature\": 0.1,\n",
    "        \"repetition_penalty\": 1.03,\n",
    "    },\n",
    ")"
   ]
  },
  {
   "cell_type": "code",
   "execution_count": 20,
   "metadata": {
    "colab": {
     "base_uri": "https://localhost:8080/"
    },
    "id": "IxSAyI13WBC2",
    "outputId": "9b0e054b-fac4-4630-df47-1f803c44b34d",
    "tags": []
   },
   "outputs": [
    {
     "name": "stderr",
     "output_type": "stream",
     "text": [
      "WARNING! repo_id is not default parameter.\n",
      "                    repo_id was transferred to model_kwargs.\n",
      "                    Please confirm that repo_id is what you intended.\n",
      "WARNING! task is not default parameter.\n",
      "                    task was transferred to model_kwargs.\n",
      "                    Please confirm that task is what you intended.\n",
      "WARNING! huggingfacehub_api_token is not default parameter.\n",
      "                    huggingfacehub_api_token was transferred to model_kwargs.\n",
      "                    Please confirm that huggingfacehub_api_token is what you intended.\n"
     ]
    }
   ],
   "source": [
    "chat_model = llm_utils.ChatHuggingFace(llm=llm)"
   ]
  },
  {
   "cell_type": "code",
   "execution_count": 21,
   "metadata": {
    "colab": {
     "base_uri": "https://localhost:8080/"
    },
    "id": "kWINlnBaZXU1",
    "outputId": "c491e21d-5137-46bf-a276-f23d33a60a79",
    "tags": []
   },
   "outputs": [
    {
     "name": "stdout",
     "output_type": "stream",
     "text": [
      "Based on the provided information, the total revenue for the year ended\n",
      " June 30, 2022, is $198,270 million. This can be found by adding up the\n",
      " revenue figures listed under each product and service offering in the\n",
      " \"Revenue, classified by significant product and service offerings\"\n",
      " section. The total revenue for the previous years, 2021 and 2020, are\n",
      " also provided for reference.\n"
     ]
    }
   ],
   "source": [
    "query = \"What was the total revenue?\"\n",
    "retrieved_docs = retriever.get_relevant_documents(query)\n",
    "retrieved_docs.sort(key=lambda doc: doc.metadata['page'])\n",
    "response = rag(query, retrieved_docs, chat_model)\n",
    "print(word_wrap(response))"
   ]
  },
  {
   "cell_type": "code",
   "execution_count": 22,
   "metadata": {
    "colab": {
     "base_uri": "https://localhost:8080/"
    },
    "id": "UYnivGoaZboV",
    "outputId": "4cbc64e0-372a-4abd-ef5c-e074fbea57c8"
   },
   "outputs": [
    {
     "name": "stdout",
     "output_type": "stream",
     "text": [
      "Based on the provided information, the expenses for the given time\n",
      " period can be summarized as follows:\n",
      "\n",
      "1. General and administrative\n",
      " expenses: These expenses include salaries, benefits, stock-based\n",
      " compensation, and other related costs for various departments such as\n",
      " finance, legal, facilities, human resources, and administrative\n",
      " personnel. They increased by $793 million or 16% in the latest year,\n",
      " mainly due to investments in corporate functions.\n",
      "\n",
      "2. Other income\n",
      " (expense), net: This category includes various sources of income and\n",
      " expenses, such as interest and dividends, interest expense,\n",
      " gains/losses on investments, gains/losses on derivatives, and foreign\n",
      " currency remeasurements. In the latest year, other income was $333\n",
      " million, while other expense was $1,186 million in the previous\n",
      " year.\n",
      "\n",
      "3. Other receivables due from suppliers: These are receivables\n",
      " from suppliers that are expected to be paid within one year. As of the\n",
      " latest year, they were $1 billion, compared to $965 million in the\n",
      " previous year.\n",
      "\n",
      "4. Long-term accounts receivable, net: These are\n",
      " receivables from customers that are expected to be paid beyond one\n",
      " year. As of the latest year, they were $3.8 billion, compared to $3.4\n",
      " billion in the previous year. The allowance for doubtful accounts is\n",
      " deducted from these balances to reflect potential losses.\n",
      "\n",
      "5. Research\n",
      " and development expenses: These expenses include salaries, benefits,\n",
      " stock-based compensation, and other related costs for product\n",
      " development and third-party development services. They also include\n",
      " localization costs for translating software for international markets\n",
      " and the amortization of purchased software code and services\n",
      " content.\n",
      "\n",
      "6. Lease expense: This category includes operating lease\n",
      " costs and finance lease costs, which include amortization of\n",
      " right-of-use assets and interest on lease liabilities. The latest\n",
      " year's operating lease cost was $2.461 billion, while the finance\n",
      " lease cost was $1.409 billion, including amortization and\n",
      " interest.\n",
      "\n",
      "Note: The provided information is limited, and it may not\n",
      " cover all expenses. It's essential to review the company's annual\n",
      " report for a comprehensive understanding of its expenses.\n"
     ]
    }
   ],
   "source": [
    "query = \"What were the expenses?\"\n",
    "retrieved_docs = retriever.get_relevant_documents(query)\n",
    "retrieved_docs.sort(key=lambda doc: doc.metadata['page'])\n",
    "response = rag(query, retrieved_docs, chat_model)\n",
    "print(word_wrap(response))"
   ]
  },
  {
   "cell_type": "code",
   "execution_count": null,
   "metadata": {
    "id": "l4loZgkhkjRP"
   },
   "outputs": [],
   "source": []
  }
 ],
 "metadata": {
  "colab": {
   "provenance": []
  },
  "kernelspec": {
   "display_name": "default:Python",
   "language": "python",
   "name": "conda-env-default-py"
  },
  "language_info": {
   "codemirror_mode": {
    "name": "ipython",
    "version": 3
   },
   "file_extension": ".py",
   "mimetype": "text/x-python",
   "name": "python",
   "nbconvert_exporter": "python",
   "pygments_lexer": "ipython3",
   "version": "3.9.16"
  }
 },
 "nbformat": 4,
 "nbformat_minor": 4
}
