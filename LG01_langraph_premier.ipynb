{
 "cells": [
  {
   "cell_type": "code",
   "execution_count": null,
   "metadata": {
    "id": "1ISsHOCiZdnD",
    "tags": []
   },
   "outputs": [],
   "source": [
    "!pip install langgraph"
   ]
  },
  {
   "cell_type": "code",
   "execution_count": 1,
   "metadata": {
    "id": "riI62bDhoB45",
    "tags": []
   },
   "outputs": [],
   "source": [
    "greetings_pool = [[\"salve\", \"hello\"],\n",
    " [\"ciao\", \"hi\"],\n",
    " [\"bounaserra\", \"good evening\"],\n",
    " [\"buongiorno\", \"good morning\"]]"
   ]
  },
  {
   "cell_type": "markdown",
   "metadata": {
    "tags": []
   },
   "source": [
    "## State\n",
    "\n",
    "We will define a graph.\n",
    "\n",
    "Our state will be a dict.\n",
    "\n",
    "We can access this from any graph node as state['keys']."
   ]
  },
  {
   "cell_type": "code",
   "execution_count": 2,
   "metadata": {
    "id": "Tcuy7lHnwPau",
    "tags": []
   },
   "outputs": [],
   "source": [
    "from typing import List, Dict, TypedDict\n",
    "from pydantic import BaseModel, Field"
   ]
  },
  {
   "cell_type": "code",
   "execution_count": 3,
   "metadata": {
    "id": "lfYrye1YO6OH",
    "tags": []
   },
   "outputs": [],
   "source": [
    "class GraphState(TypedDict):\n",
    "    \"\"\"\n",
    "    Represents the state of our graph.\n",
    "\n",
    "    Attributes:\n",
    "        keys: A dictionary where each key is a string.\n",
    "    \"\"\"\n",
    "\n",
    "    keys: Dict[str, any]"
   ]
  },
  {
   "cell_type": "markdown",
   "metadata": {},
   "source": [
    "## Nodes\n",
    "\n",
    "Each node will simply modify the state."
   ]
  },
  {
   "cell_type": "code",
   "execution_count": 4,
   "metadata": {
    "id": "h1ZH26agRnpX",
    "tags": []
   },
   "outputs": [],
   "source": [
    "def anna(state):\n",
    "    state_dict = state[\"keys\"]\n",
    "    greetings = state_dict[\"greetings\"]\n",
    "    print(\"System Greetings\")\n",
    "    print(greetings)\n",
    "    choice = random.randint(0,3)\n",
    "    greetings = greetings_pool[choice]\n",
    "    print(\"----Anna-----\")\n",
    "    print(greetings)\n",
    "    return {\n",
    "        \"keys\": {\"greetings\": greetings}\n",
    "    }"
   ]
  },
  {
   "cell_type": "code",
   "execution_count": 5,
   "metadata": {
    "id": "bfQaefvEYye-",
    "tags": []
   },
   "outputs": [],
   "source": [
    "import random\n",
    "def matteo(state):\n",
    "    print(\"------Matteo---------\")\n",
    "    state_dict = state[\"keys\"]\n",
    "    greetings = state_dict[\"greetings\"]\n",
    "    choice = random.randint(0,3)\n",
    "    return_greetings = greetings_pool[choice]\n",
    "    print(return_greetings)\n",
    "    return {\n",
    "        \"keys\": {\"greetings\": greetings, \"return_greetings\":return_greetings}\n",
    "    }"
   ]
  },
  {
   "cell_type": "markdown",
   "metadata": {},
   "source": [
    "## Edges\n",
    "\n",
    "Each edge will choose which node to call next."
   ]
  },
  {
   "cell_type": "code",
   "execution_count": 9,
   "metadata": {
    "id": "JFBxBSvUZpCI",
    "tags": []
   },
   "outputs": [],
   "source": [
    "def greetings_grader(state):\n",
    "    state_dict = state[\"keys\"]\n",
    "    greetings = state_dict[\"greetings\"]\n",
    "    return_greetings = state_dict[\"return_greetings\"]\n",
    "    grade = None\n",
    "    if greetings == return_greetings:\n",
    "        grade = \"good greeter\"\n",
    "        print(\"DECISION-----GOOD GREETER----GOODBYE\")\n",
    "    else:\n",
    "        grade = \"bad greeter\"\n",
    "        print(\"DECISION-----BAD GREETER----TRY AGAIN\")\n",
    "    return grade"
   ]
  },
  {
   "cell_type": "markdown",
   "metadata": {},
   "source": [
    "## Build and Compile Graph"
   ]
  },
  {
   "cell_type": "code",
   "execution_count": 10,
   "metadata": {
    "colab": {
     "base_uri": "https://localhost:8080/",
     "height": 120
    },
    "id": "3fzB9mnTb665",
    "outputId": "9f1557c9-592c-4ef0-d153-07b969b92d3a",
    "tags": []
   },
   "outputs": [
    {
     "data": {
      "text/plain": [
       "langgraph.pregel.Pregel"
      ]
     },
     "execution_count": 10,
     "metadata": {},
     "output_type": "execute_result"
    }
   ],
   "source": [
    "from langgraph.graph import StateGraph, END\n",
    "\n",
    "# Define a new graph\n",
    "workflow = StateGraph(GraphState)\n",
    "\n",
    "# Define the two nodes we will cycle between\n",
    "workflow.add_node(\"anna\", anna)\n",
    "workflow.add_node(\"matteo\", matteo)\n",
    "\n",
    "# Set the entrypoint to `Anna`\n",
    "workflow.set_entry_point(\"anna\")\n",
    "\n",
    "# We now add a conditional edge.\n",
    "# We grade the greetings from matteo.\n",
    "# If grade is \"good greeter\", we end; if not, we cycle\n",
    "# back to matteo for his greetings.\n",
    "workflow.add_conditional_edges(\n",
    "\n",
    "    \"matteo\",\n",
    "    greetings_grader,\n",
    "    {\n",
    "        \"bad greeter\": \"matteo\",\n",
    "        \"good greeter\": END\n",
    "    }\n",
    ")\n",
    "\n",
    "# We add an edge between `Anna` and `Matteo`\n",
    "workflow.add_edge('anna', 'matteo')\n",
    "\n",
    "app = workflow.compile()\n",
    "\n",
    "type(app)"
   ]
  },
  {
   "cell_type": "markdown",
   "metadata": {},
   "source": [
    "## Run Graph"
   ]
  },
  {
   "cell_type": "code",
   "execution_count": 11,
   "metadata": {
    "colab": {
     "base_uri": "https://localhost:8080/"
    },
    "id": "lVR8EhMDee6N",
    "outputId": "b38985b1-75b3-435b-c2a8-b092fb86aca0",
    "tags": []
   },
   "outputs": [
    {
     "name": "stdout",
     "output_type": "stream",
     "text": [
      "System Greetings\n",
      "['Hello you two, greet politely']\n",
      "----Anna-----\n",
      "['buongiorno', 'good morning']\n",
      "------Matteo---------\n",
      "['ciao', 'hi']\n",
      "DECISION-----BAD GREETER----TRY AGAIN\n",
      "------Matteo---------\n",
      "['buongiorno', 'good morning']\n",
      "DECISION-----GOOD GREETER----GOODBYE\n"
     ]
    }
   ],
   "source": [
    "greetings = [\"Hello you two, greet politely\"]\n",
    "try:\n",
    "    app.invoke({\"keys\":{\"greetings\": greetings}}, config={\"recursion_limit\": 10})\n",
    "except:\n",
    "    print(\"Oh no, you reached the greeting limit!\")"
   ]
  },
  {
   "cell_type": "code",
   "execution_count": null,
   "metadata": {},
   "outputs": [],
   "source": []
  }
 ],
 "metadata": {
  "colab": {
   "provenance": []
  },
  "kernelspec": {
   "display_name": "default:Python",
   "language": "python",
   "name": "conda-env-default-py"
  },
  "language_info": {
   "codemirror_mode": {
    "name": "ipython",
    "version": 3
   },
   "file_extension": ".py",
   "mimetype": "text/x-python",
   "name": "python",
   "nbconvert_exporter": "python",
   "pygments_lexer": "ipython3",
   "version": "3.9.16"
  }
 },
 "nbformat": 4,
 "nbformat_minor": 4
}
