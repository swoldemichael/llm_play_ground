{
 "cells": [
  {
   "cell_type": "code",
   "execution_count": null,
   "metadata": {
    "id": "1ISsHOCiZdnD",
    "tags": []
   },
   "outputs": [],
   "source": [
    "!pip install langgraph"
   ]
  },
  {
   "cell_type": "code",
   "execution_count": 2,
   "metadata": {
    "id": "Tcuy7lHnwPau",
    "tags": []
   },
   "outputs": [],
   "source": [
    "from typing import List, Dict, TypedDict\n",
    "from pydantic import BaseModel, Field"
   ]
  },
  {
   "cell_type": "code",
   "execution_count": 3,
   "metadata": {
    "id": "lfYrye1YO6OH",
    "tags": []
   },
   "outputs": [],
   "source": [
    "class GraphState(TypedDict):\n",
    "    \"\"\"\n",
    "    Represents the state of our graph.\n",
    "\n",
    "    Attributes:\n",
    "        keys: A dictionary where each key is a string.\n",
    "    \"\"\"\n",
    "\n",
    "    keys: Dict[str, any]"
   ]
  },
  {
   "cell_type": "code",
   "execution_count": 4,
   "metadata": {
    "id": "riI62bDhoB45",
    "tags": []
   },
   "outputs": [],
   "source": [
    "greetings_pool = [[\"salve\", \"hello\"],\n",
    " [\"ciao\", \"hi\"],\n",
    " [\"bounaserra\", \"good evening\"],\n",
    " [\"buongiorno\", \"good morning\"]]"
   ]
  },
  {
   "cell_type": "code",
   "execution_count": 5,
   "metadata": {
    "id": "h1ZH26agRnpX",
    "tags": []
   },
   "outputs": [],
   "source": [
    "def hello(state):\n",
    "    print(\"----HELLO-----\")\n",
    "    state_dict = state[\"keys\"]\n",
    "    greetings = state_dict[\"greetings\"]\n",
    "    print(greetings)\n",
    "    return {\n",
    "        \"keys\": {\"greetings\": greetings}\n",
    "    }"
   ]
  },
  {
   "cell_type": "code",
   "execution_count": 6,
   "metadata": {
    "id": "bfQaefvEYye-",
    "tags": []
   },
   "outputs": [],
   "source": [
    "import random\n",
    "def hello_back(state):\n",
    "    print(\"------HELLO BACK---------\")\n",
    "    state_dict = state[\"keys\"]\n",
    "    choice = random.randint(0,3)\n",
    "    return_greetings = greetings_pool[choice]\n",
    "    print(return_greetings)\n",
    "    return {\n",
    "        \"keys\": {\"greetings\": greetings, \"return_greetings\":return_greetings}\n",
    "    }"
   ]
  },
  {
   "cell_type": "code",
   "execution_count": 8,
   "metadata": {
    "id": "JFBxBSvUZpCI",
    "tags": []
   },
   "outputs": [],
   "source": [
    "def greetings_grader(state):\n",
    "    state_dict = state[\"keys\"]\n",
    "    greetings = state_dict[\"greetings\"]\n",
    "    return_greetings = state_dict[\"return_greetings\"]\n",
    "    grade = \"good greeter\"\n",
    "    for greeting in return_greetings:\n",
    "        if greeting in greetings:\n",
    "            continue\n",
    "        grade = \"bad greeter\"\n",
    "        break\n",
    "    if grade == \"good greeter\":\n",
    "        print(\"DECISION-----GOOD GREETER----GOODBYE\")\n",
    "    else:\n",
    "        print(\"DECISION-----BAD GREETER----GREET AGAIN\")\n",
    "    return grade"
   ]
  },
  {
   "cell_type": "code",
   "execution_count": 9,
   "metadata": {
    "colab": {
     "base_uri": "https://localhost:8080/",
     "height": 120
    },
    "id": "3fzB9mnTb665",
    "outputId": "9f1557c9-592c-4ef0-d153-07b969b92d3a",
    "tags": []
   },
   "outputs": [
    {
     "data": {
      "text/plain": [
       "langgraph.pregel.Pregel"
      ]
     },
     "execution_count": 9,
     "metadata": {},
     "output_type": "execute_result"
    }
   ],
   "source": [
    "from langgraph.graph import StateGraph, END\n",
    "\n",
    "# Define a new graph\n",
    "workflow = StateGraph(GraphState)\n",
    "\n",
    "# Define the two nodes we will cycle between\n",
    "workflow.add_node(\"hello\", hello)\n",
    "workflow.add_node(\"hello_back\", hello_back)\n",
    "\n",
    "# Set the entrypoint as `hello`\n",
    "workflow.set_entry_point(\"hello\")\n",
    "\n",
    "# We now add a conditional edge\n",
    "# We grade the greetings from hello-back\n",
    "# If grade is \"good greeter\", we end or we cycle\n",
    "# back to hello-back\n",
    "workflow.add_conditional_edges(\n",
    "\n",
    "    \"hello_back\",\n",
    "    greetings_grader,\n",
    "    {\n",
    "        \"bad greeter\": \"hello_back\",\n",
    "        \"good greeter\": END\n",
    "    }\n",
    ")\n",
    "\n",
    "workflow.add_edge('hello', 'hello_back')\n",
    "\n",
    "app = workflow.compile()\n",
    "\n",
    "type(app)"
   ]
  },
  {
   "cell_type": "code",
   "execution_count": 15,
   "metadata": {
    "colab": {
     "base_uri": "https://localhost:8080/"
    },
    "id": "lVR8EhMDee6N",
    "outputId": "b38985b1-75b3-435b-c2a8-b092fb86aca0",
    "tags": []
   },
   "outputs": [
    {
     "name": "stdout",
     "output_type": "stream",
     "text": [
      "----HELLO-----\n",
      "['hello', 'salve']\n",
      "------HELLO BACK---------\n",
      "['ciao', 'hi']\n",
      "DECISION-----BAD GREETER----GREET AGAIN\n",
      "------HELLO BACK---------\n",
      "['salve', 'hello']\n",
      "DECISION-----GOOD GREETER----GOODBYE\n"
     ]
    }
   ],
   "source": [
    "greetings = [\"hello\", \"salve\"]\n",
    "try:\n",
    "    app.invoke({\"keys\":{\"greetings\": greetings}}, config={\"recursion_limit\": 10})\n",
    "except:\n",
    "    print(\"Oh no, you reached the greeting limit!\")"
   ]
  },
  {
   "cell_type": "code",
   "execution_count": null,
   "metadata": {},
   "outputs": [],
   "source": []
  }
 ],
 "metadata": {
  "colab": {
   "provenance": []
  },
  "kernelspec": {
   "display_name": "default:Python",
   "language": "python",
   "name": "conda-env-default-py"
  },
  "language_info": {
   "codemirror_mode": {
    "name": "ipython",
    "version": 3
   },
   "file_extension": ".py",
   "mimetype": "text/x-python",
   "name": "python",
   "nbconvert_exporter": "python",
   "pygments_lexer": "ipython3",
   "version": "3.9.16"
  }
 },
 "nbformat": 4,
 "nbformat_minor": 4
}
