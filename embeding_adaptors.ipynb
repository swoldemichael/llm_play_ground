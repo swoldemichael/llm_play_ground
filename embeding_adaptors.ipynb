{
  "nbformat": 4,
  "nbformat_minor": 0,
  "metadata": {
    "colab": {
      "provenance": []
    },
    "kernelspec": {
      "name": "python3",
      "display_name": "Python 3"
    },
    "language_info": {
      "name": "python"
    },
    "widgets": {
      "application/vnd.jupyter.widget-state+json": {
        "825d998b583a4d3ab1f1a4ec44747139": {
          "model_module": "@jupyter-widgets/controls",
          "model_name": "HBoxModel",
          "model_module_version": "1.5.0",
          "state": {
            "_dom_classes": [],
            "_model_module": "@jupyter-widgets/controls",
            "_model_module_version": "1.5.0",
            "_model_name": "HBoxModel",
            "_view_count": null,
            "_view_module": "@jupyter-widgets/controls",
            "_view_module_version": "1.5.0",
            "_view_name": "HBoxView",
            "box_style": "",
            "children": [
              "IPY_MODEL_9ed95e50bb4e469abdc0f595f9e671f9",
              "IPY_MODEL_7cb41f32b0c244e6b46ad196e7f8612e",
              "IPY_MODEL_894dcf6587df4735ae1ea380ec8a7cb6"
            ],
            "layout": "IPY_MODEL_1daf109263c84d07a30c7d12d53fa5f8"
          }
        },
        "9ed95e50bb4e469abdc0f595f9e671f9": {
          "model_module": "@jupyter-widgets/controls",
          "model_name": "HTMLModel",
          "model_module_version": "1.5.0",
          "state": {
            "_dom_classes": [],
            "_model_module": "@jupyter-widgets/controls",
            "_model_module_version": "1.5.0",
            "_model_name": "HTMLModel",
            "_view_count": null,
            "_view_module": "@jupyter-widgets/controls",
            "_view_module_version": "1.5.0",
            "_view_name": "HTMLView",
            "description": "",
            "description_tooltip": null,
            "layout": "IPY_MODEL_cdd4ed09093848e4a8819620f68799b4",
            "placeholder": "​",
            "style": "IPY_MODEL_bec366f5b6a84166a1b4e5d62fc36f85",
            "value": "tokenizer_config.json: 100%"
          }
        },
        "7cb41f32b0c244e6b46ad196e7f8612e": {
          "model_module": "@jupyter-widgets/controls",
          "model_name": "FloatProgressModel",
          "model_module_version": "1.5.0",
          "state": {
            "_dom_classes": [],
            "_model_module": "@jupyter-widgets/controls",
            "_model_module_version": "1.5.0",
            "_model_name": "FloatProgressModel",
            "_view_count": null,
            "_view_module": "@jupyter-widgets/controls",
            "_view_module_version": "1.5.0",
            "_view_name": "ProgressView",
            "bar_style": "success",
            "description": "",
            "description_tooltip": null,
            "layout": "IPY_MODEL_ced86ee911774b77a782006331bc401e",
            "max": 1431,
            "min": 0,
            "orientation": "horizontal",
            "style": "IPY_MODEL_a4bfc37e855f49a88eb48aa7ca554e95",
            "value": 1431
          }
        },
        "894dcf6587df4735ae1ea380ec8a7cb6": {
          "model_module": "@jupyter-widgets/controls",
          "model_name": "HTMLModel",
          "model_module_version": "1.5.0",
          "state": {
            "_dom_classes": [],
            "_model_module": "@jupyter-widgets/controls",
            "_model_module_version": "1.5.0",
            "_model_name": "HTMLModel",
            "_view_count": null,
            "_view_module": "@jupyter-widgets/controls",
            "_view_module_version": "1.5.0",
            "_view_name": "HTMLView",
            "description": "",
            "description_tooltip": null,
            "layout": "IPY_MODEL_b075914a735645e08e008a786c4598b3",
            "placeholder": "​",
            "style": "IPY_MODEL_14e946c4bd3f4e7eb295b120266fd87a",
            "value": " 1.43k/1.43k [00:00&lt;00:00, 63.0kB/s]"
          }
        },
        "1daf109263c84d07a30c7d12d53fa5f8": {
          "model_module": "@jupyter-widgets/base",
          "model_name": "LayoutModel",
          "model_module_version": "1.2.0",
          "state": {
            "_model_module": "@jupyter-widgets/base",
            "_model_module_version": "1.2.0",
            "_model_name": "LayoutModel",
            "_view_count": null,
            "_view_module": "@jupyter-widgets/base",
            "_view_module_version": "1.2.0",
            "_view_name": "LayoutView",
            "align_content": null,
            "align_items": null,
            "align_self": null,
            "border": null,
            "bottom": null,
            "display": null,
            "flex": null,
            "flex_flow": null,
            "grid_area": null,
            "grid_auto_columns": null,
            "grid_auto_flow": null,
            "grid_auto_rows": null,
            "grid_column": null,
            "grid_gap": null,
            "grid_row": null,
            "grid_template_areas": null,
            "grid_template_columns": null,
            "grid_template_rows": null,
            "height": null,
            "justify_content": null,
            "justify_items": null,
            "left": null,
            "margin": null,
            "max_height": null,
            "max_width": null,
            "min_height": null,
            "min_width": null,
            "object_fit": null,
            "object_position": null,
            "order": null,
            "overflow": null,
            "overflow_x": null,
            "overflow_y": null,
            "padding": null,
            "right": null,
            "top": null,
            "visibility": null,
            "width": null
          }
        },
        "cdd4ed09093848e4a8819620f68799b4": {
          "model_module": "@jupyter-widgets/base",
          "model_name": "LayoutModel",
          "model_module_version": "1.2.0",
          "state": {
            "_model_module": "@jupyter-widgets/base",
            "_model_module_version": "1.2.0",
            "_model_name": "LayoutModel",
            "_view_count": null,
            "_view_module": "@jupyter-widgets/base",
            "_view_module_version": "1.2.0",
            "_view_name": "LayoutView",
            "align_content": null,
            "align_items": null,
            "align_self": null,
            "border": null,
            "bottom": null,
            "display": null,
            "flex": null,
            "flex_flow": null,
            "grid_area": null,
            "grid_auto_columns": null,
            "grid_auto_flow": null,
            "grid_auto_rows": null,
            "grid_column": null,
            "grid_gap": null,
            "grid_row": null,
            "grid_template_areas": null,
            "grid_template_columns": null,
            "grid_template_rows": null,
            "height": null,
            "justify_content": null,
            "justify_items": null,
            "left": null,
            "margin": null,
            "max_height": null,
            "max_width": null,
            "min_height": null,
            "min_width": null,
            "object_fit": null,
            "object_position": null,
            "order": null,
            "overflow": null,
            "overflow_x": null,
            "overflow_y": null,
            "padding": null,
            "right": null,
            "top": null,
            "visibility": null,
            "width": null
          }
        },
        "bec366f5b6a84166a1b4e5d62fc36f85": {
          "model_module": "@jupyter-widgets/controls",
          "model_name": "DescriptionStyleModel",
          "model_module_version": "1.5.0",
          "state": {
            "_model_module": "@jupyter-widgets/controls",
            "_model_module_version": "1.5.0",
            "_model_name": "DescriptionStyleModel",
            "_view_count": null,
            "_view_module": "@jupyter-widgets/base",
            "_view_module_version": "1.2.0",
            "_view_name": "StyleView",
            "description_width": ""
          }
        },
        "ced86ee911774b77a782006331bc401e": {
          "model_module": "@jupyter-widgets/base",
          "model_name": "LayoutModel",
          "model_module_version": "1.2.0",
          "state": {
            "_model_module": "@jupyter-widgets/base",
            "_model_module_version": "1.2.0",
            "_model_name": "LayoutModel",
            "_view_count": null,
            "_view_module": "@jupyter-widgets/base",
            "_view_module_version": "1.2.0",
            "_view_name": "LayoutView",
            "align_content": null,
            "align_items": null,
            "align_self": null,
            "border": null,
            "bottom": null,
            "display": null,
            "flex": null,
            "flex_flow": null,
            "grid_area": null,
            "grid_auto_columns": null,
            "grid_auto_flow": null,
            "grid_auto_rows": null,
            "grid_column": null,
            "grid_gap": null,
            "grid_row": null,
            "grid_template_areas": null,
            "grid_template_columns": null,
            "grid_template_rows": null,
            "height": null,
            "justify_content": null,
            "justify_items": null,
            "left": null,
            "margin": null,
            "max_height": null,
            "max_width": null,
            "min_height": null,
            "min_width": null,
            "object_fit": null,
            "object_position": null,
            "order": null,
            "overflow": null,
            "overflow_x": null,
            "overflow_y": null,
            "padding": null,
            "right": null,
            "top": null,
            "visibility": null,
            "width": null
          }
        },
        "a4bfc37e855f49a88eb48aa7ca554e95": {
          "model_module": "@jupyter-widgets/controls",
          "model_name": "ProgressStyleModel",
          "model_module_version": "1.5.0",
          "state": {
            "_model_module": "@jupyter-widgets/controls",
            "_model_module_version": "1.5.0",
            "_model_name": "ProgressStyleModel",
            "_view_count": null,
            "_view_module": "@jupyter-widgets/base",
            "_view_module_version": "1.2.0",
            "_view_name": "StyleView",
            "bar_color": null,
            "description_width": ""
          }
        },
        "b075914a735645e08e008a786c4598b3": {
          "model_module": "@jupyter-widgets/base",
          "model_name": "LayoutModel",
          "model_module_version": "1.2.0",
          "state": {
            "_model_module": "@jupyter-widgets/base",
            "_model_module_version": "1.2.0",
            "_model_name": "LayoutModel",
            "_view_count": null,
            "_view_module": "@jupyter-widgets/base",
            "_view_module_version": "1.2.0",
            "_view_name": "LayoutView",
            "align_content": null,
            "align_items": null,
            "align_self": null,
            "border": null,
            "bottom": null,
            "display": null,
            "flex": null,
            "flex_flow": null,
            "grid_area": null,
            "grid_auto_columns": null,
            "grid_auto_flow": null,
            "grid_auto_rows": null,
            "grid_column": null,
            "grid_gap": null,
            "grid_row": null,
            "grid_template_areas": null,
            "grid_template_columns": null,
            "grid_template_rows": null,
            "height": null,
            "justify_content": null,
            "justify_items": null,
            "left": null,
            "margin": null,
            "max_height": null,
            "max_width": null,
            "min_height": null,
            "min_width": null,
            "object_fit": null,
            "object_position": null,
            "order": null,
            "overflow": null,
            "overflow_x": null,
            "overflow_y": null,
            "padding": null,
            "right": null,
            "top": null,
            "visibility": null,
            "width": null
          }
        },
        "14e946c4bd3f4e7eb295b120266fd87a": {
          "model_module": "@jupyter-widgets/controls",
          "model_name": "DescriptionStyleModel",
          "model_module_version": "1.5.0",
          "state": {
            "_model_module": "@jupyter-widgets/controls",
            "_model_module_version": "1.5.0",
            "_model_name": "DescriptionStyleModel",
            "_view_count": null,
            "_view_module": "@jupyter-widgets/base",
            "_view_module_version": "1.2.0",
            "_view_name": "StyleView",
            "description_width": ""
          }
        },
        "5bc0a81781d44c749423967e464ce9c0": {
          "model_module": "@jupyter-widgets/controls",
          "model_name": "HBoxModel",
          "model_module_version": "1.5.0",
          "state": {
            "_dom_classes": [],
            "_model_module": "@jupyter-widgets/controls",
            "_model_module_version": "1.5.0",
            "_model_name": "HBoxModel",
            "_view_count": null,
            "_view_module": "@jupyter-widgets/controls",
            "_view_module_version": "1.5.0",
            "_view_name": "HBoxView",
            "box_style": "",
            "children": [
              "IPY_MODEL_67cbe3fe94af45f2a452dd518ca24d59",
              "IPY_MODEL_3666584c783e408abca01c8076c1cbb4",
              "IPY_MODEL_9da42de9f6ea4048bafd5b027eb5d063"
            ],
            "layout": "IPY_MODEL_c756d598ec9d444e83a03f96a2735cb7"
          }
        },
        "67cbe3fe94af45f2a452dd518ca24d59": {
          "model_module": "@jupyter-widgets/controls",
          "model_name": "HTMLModel",
          "model_module_version": "1.5.0",
          "state": {
            "_dom_classes": [],
            "_model_module": "@jupyter-widgets/controls",
            "_model_module_version": "1.5.0",
            "_model_name": "HTMLModel",
            "_view_count": null,
            "_view_module": "@jupyter-widgets/controls",
            "_view_module_version": "1.5.0",
            "_view_name": "HTMLView",
            "description": "",
            "description_tooltip": null,
            "layout": "IPY_MODEL_51d8f23ab3a843a4af0cb7982a5c8e43",
            "placeholder": "​",
            "style": "IPY_MODEL_839cd5ac24d24f91b920d6569232d492",
            "value": "tokenizer.model: 100%"
          }
        },
        "3666584c783e408abca01c8076c1cbb4": {
          "model_module": "@jupyter-widgets/controls",
          "model_name": "FloatProgressModel",
          "model_module_version": "1.5.0",
          "state": {
            "_dom_classes": [],
            "_model_module": "@jupyter-widgets/controls",
            "_model_module_version": "1.5.0",
            "_model_name": "FloatProgressModel",
            "_view_count": null,
            "_view_module": "@jupyter-widgets/controls",
            "_view_module_version": "1.5.0",
            "_view_name": "ProgressView",
            "bar_style": "success",
            "description": "",
            "description_tooltip": null,
            "layout": "IPY_MODEL_af42c78485bb471a805e4107071c2005",
            "max": 493443,
            "min": 0,
            "orientation": "horizontal",
            "style": "IPY_MODEL_6deeb9438c9a4c199b72f41251e84a50",
            "value": 493443
          }
        },
        "9da42de9f6ea4048bafd5b027eb5d063": {
          "model_module": "@jupyter-widgets/controls",
          "model_name": "HTMLModel",
          "model_module_version": "1.5.0",
          "state": {
            "_dom_classes": [],
            "_model_module": "@jupyter-widgets/controls",
            "_model_module_version": "1.5.0",
            "_model_name": "HTMLModel",
            "_view_count": null,
            "_view_module": "@jupyter-widgets/controls",
            "_view_module_version": "1.5.0",
            "_view_name": "HTMLView",
            "description": "",
            "description_tooltip": null,
            "layout": "IPY_MODEL_f31d59bc6147494e9a818dbb788c1989",
            "placeholder": "​",
            "style": "IPY_MODEL_102c914bc651429aae2d4bdaabef47f7",
            "value": " 493k/493k [00:00&lt;00:00, 18.1MB/s]"
          }
        },
        "c756d598ec9d444e83a03f96a2735cb7": {
          "model_module": "@jupyter-widgets/base",
          "model_name": "LayoutModel",
          "model_module_version": "1.2.0",
          "state": {
            "_model_module": "@jupyter-widgets/base",
            "_model_module_version": "1.2.0",
            "_model_name": "LayoutModel",
            "_view_count": null,
            "_view_module": "@jupyter-widgets/base",
            "_view_module_version": "1.2.0",
            "_view_name": "LayoutView",
            "align_content": null,
            "align_items": null,
            "align_self": null,
            "border": null,
            "bottom": null,
            "display": null,
            "flex": null,
            "flex_flow": null,
            "grid_area": null,
            "grid_auto_columns": null,
            "grid_auto_flow": null,
            "grid_auto_rows": null,
            "grid_column": null,
            "grid_gap": null,
            "grid_row": null,
            "grid_template_areas": null,
            "grid_template_columns": null,
            "grid_template_rows": null,
            "height": null,
            "justify_content": null,
            "justify_items": null,
            "left": null,
            "margin": null,
            "max_height": null,
            "max_width": null,
            "min_height": null,
            "min_width": null,
            "object_fit": null,
            "object_position": null,
            "order": null,
            "overflow": null,
            "overflow_x": null,
            "overflow_y": null,
            "padding": null,
            "right": null,
            "top": null,
            "visibility": null,
            "width": null
          }
        },
        "51d8f23ab3a843a4af0cb7982a5c8e43": {
          "model_module": "@jupyter-widgets/base",
          "model_name": "LayoutModel",
          "model_module_version": "1.2.0",
          "state": {
            "_model_module": "@jupyter-widgets/base",
            "_model_module_version": "1.2.0",
            "_model_name": "LayoutModel",
            "_view_count": null,
            "_view_module": "@jupyter-widgets/base",
            "_view_module_version": "1.2.0",
            "_view_name": "LayoutView",
            "align_content": null,
            "align_items": null,
            "align_self": null,
            "border": null,
            "bottom": null,
            "display": null,
            "flex": null,
            "flex_flow": null,
            "grid_area": null,
            "grid_auto_columns": null,
            "grid_auto_flow": null,
            "grid_auto_rows": null,
            "grid_column": null,
            "grid_gap": null,
            "grid_row": null,
            "grid_template_areas": null,
            "grid_template_columns": null,
            "grid_template_rows": null,
            "height": null,
            "justify_content": null,
            "justify_items": null,
            "left": null,
            "margin": null,
            "max_height": null,
            "max_width": null,
            "min_height": null,
            "min_width": null,
            "object_fit": null,
            "object_position": null,
            "order": null,
            "overflow": null,
            "overflow_x": null,
            "overflow_y": null,
            "padding": null,
            "right": null,
            "top": null,
            "visibility": null,
            "width": null
          }
        },
        "839cd5ac24d24f91b920d6569232d492": {
          "model_module": "@jupyter-widgets/controls",
          "model_name": "DescriptionStyleModel",
          "model_module_version": "1.5.0",
          "state": {
            "_model_module": "@jupyter-widgets/controls",
            "_model_module_version": "1.5.0",
            "_model_name": "DescriptionStyleModel",
            "_view_count": null,
            "_view_module": "@jupyter-widgets/base",
            "_view_module_version": "1.2.0",
            "_view_name": "StyleView",
            "description_width": ""
          }
        },
        "af42c78485bb471a805e4107071c2005": {
          "model_module": "@jupyter-widgets/base",
          "model_name": "LayoutModel",
          "model_module_version": "1.2.0",
          "state": {
            "_model_module": "@jupyter-widgets/base",
            "_model_module_version": "1.2.0",
            "_model_name": "LayoutModel",
            "_view_count": null,
            "_view_module": "@jupyter-widgets/base",
            "_view_module_version": "1.2.0",
            "_view_name": "LayoutView",
            "align_content": null,
            "align_items": null,
            "align_self": null,
            "border": null,
            "bottom": null,
            "display": null,
            "flex": null,
            "flex_flow": null,
            "grid_area": null,
            "grid_auto_columns": null,
            "grid_auto_flow": null,
            "grid_auto_rows": null,
            "grid_column": null,
            "grid_gap": null,
            "grid_row": null,
            "grid_template_areas": null,
            "grid_template_columns": null,
            "grid_template_rows": null,
            "height": null,
            "justify_content": null,
            "justify_items": null,
            "left": null,
            "margin": null,
            "max_height": null,
            "max_width": null,
            "min_height": null,
            "min_width": null,
            "object_fit": null,
            "object_position": null,
            "order": null,
            "overflow": null,
            "overflow_x": null,
            "overflow_y": null,
            "padding": null,
            "right": null,
            "top": null,
            "visibility": null,
            "width": null
          }
        },
        "6deeb9438c9a4c199b72f41251e84a50": {
          "model_module": "@jupyter-widgets/controls",
          "model_name": "ProgressStyleModel",
          "model_module_version": "1.5.0",
          "state": {
            "_model_module": "@jupyter-widgets/controls",
            "_model_module_version": "1.5.0",
            "_model_name": "ProgressStyleModel",
            "_view_count": null,
            "_view_module": "@jupyter-widgets/base",
            "_view_module_version": "1.2.0",
            "_view_name": "StyleView",
            "bar_color": null,
            "description_width": ""
          }
        },
        "f31d59bc6147494e9a818dbb788c1989": {
          "model_module": "@jupyter-widgets/base",
          "model_name": "LayoutModel",
          "model_module_version": "1.2.0",
          "state": {
            "_model_module": "@jupyter-widgets/base",
            "_model_module_version": "1.2.0",
            "_model_name": "LayoutModel",
            "_view_count": null,
            "_view_module": "@jupyter-widgets/base",
            "_view_module_version": "1.2.0",
            "_view_name": "LayoutView",
            "align_content": null,
            "align_items": null,
            "align_self": null,
            "border": null,
            "bottom": null,
            "display": null,
            "flex": null,
            "flex_flow": null,
            "grid_area": null,
            "grid_auto_columns": null,
            "grid_auto_flow": null,
            "grid_auto_rows": null,
            "grid_column": null,
            "grid_gap": null,
            "grid_row": null,
            "grid_template_areas": null,
            "grid_template_columns": null,
            "grid_template_rows": null,
            "height": null,
            "justify_content": null,
            "justify_items": null,
            "left": null,
            "margin": null,
            "max_height": null,
            "max_width": null,
            "min_height": null,
            "min_width": null,
            "object_fit": null,
            "object_position": null,
            "order": null,
            "overflow": null,
            "overflow_x": null,
            "overflow_y": null,
            "padding": null,
            "right": null,
            "top": null,
            "visibility": null,
            "width": null
          }
        },
        "102c914bc651429aae2d4bdaabef47f7": {
          "model_module": "@jupyter-widgets/controls",
          "model_name": "DescriptionStyleModel",
          "model_module_version": "1.5.0",
          "state": {
            "_model_module": "@jupyter-widgets/controls",
            "_model_module_version": "1.5.0",
            "_model_name": "DescriptionStyleModel",
            "_view_count": null,
            "_view_module": "@jupyter-widgets/base",
            "_view_module_version": "1.2.0",
            "_view_name": "StyleView",
            "description_width": ""
          }
        },
        "636e028370de4598ae4b78ee42dac220": {
          "model_module": "@jupyter-widgets/controls",
          "model_name": "HBoxModel",
          "model_module_version": "1.5.0",
          "state": {
            "_dom_classes": [],
            "_model_module": "@jupyter-widgets/controls",
            "_model_module_version": "1.5.0",
            "_model_name": "HBoxModel",
            "_view_count": null,
            "_view_module": "@jupyter-widgets/controls",
            "_view_module_version": "1.5.0",
            "_view_name": "HBoxView",
            "box_style": "",
            "children": [
              "IPY_MODEL_a7d4ba030d6a430b940632fe687f8d4b",
              "IPY_MODEL_46437c608ebc4dd48b4a645b21195002",
              "IPY_MODEL_56a39aa0c5434b33aa6fb70409186874"
            ],
            "layout": "IPY_MODEL_c0f1e6e385504fcc98b5661fbb41f903"
          }
        },
        "a7d4ba030d6a430b940632fe687f8d4b": {
          "model_module": "@jupyter-widgets/controls",
          "model_name": "HTMLModel",
          "model_module_version": "1.5.0",
          "state": {
            "_dom_classes": [],
            "_model_module": "@jupyter-widgets/controls",
            "_model_module_version": "1.5.0",
            "_model_name": "HTMLModel",
            "_view_count": null,
            "_view_module": "@jupyter-widgets/controls",
            "_view_module_version": "1.5.0",
            "_view_name": "HTMLView",
            "description": "",
            "description_tooltip": null,
            "layout": "IPY_MODEL_80f31a6015fd4602b75c2db5ada4fbd5",
            "placeholder": "​",
            "style": "IPY_MODEL_3183441602f04b5a9a101eb426f74e01",
            "value": "tokenizer.json: 100%"
          }
        },
        "46437c608ebc4dd48b4a645b21195002": {
          "model_module": "@jupyter-widgets/controls",
          "model_name": "FloatProgressModel",
          "model_module_version": "1.5.0",
          "state": {
            "_dom_classes": [],
            "_model_module": "@jupyter-widgets/controls",
            "_model_module_version": "1.5.0",
            "_model_name": "FloatProgressModel",
            "_view_count": null,
            "_view_module": "@jupyter-widgets/controls",
            "_view_module_version": "1.5.0",
            "_view_name": "ProgressView",
            "bar_style": "success",
            "description": "",
            "description_tooltip": null,
            "layout": "IPY_MODEL_db9a12b899624a92b4599d77c3de08b7",
            "max": 1795303,
            "min": 0,
            "orientation": "horizontal",
            "style": "IPY_MODEL_72f515430a594b5f80fc0756d45459bf",
            "value": 1795303
          }
        },
        "56a39aa0c5434b33aa6fb70409186874": {
          "model_module": "@jupyter-widgets/controls",
          "model_name": "HTMLModel",
          "model_module_version": "1.5.0",
          "state": {
            "_dom_classes": [],
            "_model_module": "@jupyter-widgets/controls",
            "_model_module_version": "1.5.0",
            "_model_name": "HTMLModel",
            "_view_count": null,
            "_view_module": "@jupyter-widgets/controls",
            "_view_module_version": "1.5.0",
            "_view_name": "HTMLView",
            "description": "",
            "description_tooltip": null,
            "layout": "IPY_MODEL_be3db1c4584d4c35a1947005b380a54a",
            "placeholder": "​",
            "style": "IPY_MODEL_60df4b231d03446aa17a735fb82f3dd6",
            "value": " 1.80M/1.80M [00:00&lt;00:00, 23.0MB/s]"
          }
        },
        "c0f1e6e385504fcc98b5661fbb41f903": {
          "model_module": "@jupyter-widgets/base",
          "model_name": "LayoutModel",
          "model_module_version": "1.2.0",
          "state": {
            "_model_module": "@jupyter-widgets/base",
            "_model_module_version": "1.2.0",
            "_model_name": "LayoutModel",
            "_view_count": null,
            "_view_module": "@jupyter-widgets/base",
            "_view_module_version": "1.2.0",
            "_view_name": "LayoutView",
            "align_content": null,
            "align_items": null,
            "align_self": null,
            "border": null,
            "bottom": null,
            "display": null,
            "flex": null,
            "flex_flow": null,
            "grid_area": null,
            "grid_auto_columns": null,
            "grid_auto_flow": null,
            "grid_auto_rows": null,
            "grid_column": null,
            "grid_gap": null,
            "grid_row": null,
            "grid_template_areas": null,
            "grid_template_columns": null,
            "grid_template_rows": null,
            "height": null,
            "justify_content": null,
            "justify_items": null,
            "left": null,
            "margin": null,
            "max_height": null,
            "max_width": null,
            "min_height": null,
            "min_width": null,
            "object_fit": null,
            "object_position": null,
            "order": null,
            "overflow": null,
            "overflow_x": null,
            "overflow_y": null,
            "padding": null,
            "right": null,
            "top": null,
            "visibility": null,
            "width": null
          }
        },
        "80f31a6015fd4602b75c2db5ada4fbd5": {
          "model_module": "@jupyter-widgets/base",
          "model_name": "LayoutModel",
          "model_module_version": "1.2.0",
          "state": {
            "_model_module": "@jupyter-widgets/base",
            "_model_module_version": "1.2.0",
            "_model_name": "LayoutModel",
            "_view_count": null,
            "_view_module": "@jupyter-widgets/base",
            "_view_module_version": "1.2.0",
            "_view_name": "LayoutView",
            "align_content": null,
            "align_items": null,
            "align_self": null,
            "border": null,
            "bottom": null,
            "display": null,
            "flex": null,
            "flex_flow": null,
            "grid_area": null,
            "grid_auto_columns": null,
            "grid_auto_flow": null,
            "grid_auto_rows": null,
            "grid_column": null,
            "grid_gap": null,
            "grid_row": null,
            "grid_template_areas": null,
            "grid_template_columns": null,
            "grid_template_rows": null,
            "height": null,
            "justify_content": null,
            "justify_items": null,
            "left": null,
            "margin": null,
            "max_height": null,
            "max_width": null,
            "min_height": null,
            "min_width": null,
            "object_fit": null,
            "object_position": null,
            "order": null,
            "overflow": null,
            "overflow_x": null,
            "overflow_y": null,
            "padding": null,
            "right": null,
            "top": null,
            "visibility": null,
            "width": null
          }
        },
        "3183441602f04b5a9a101eb426f74e01": {
          "model_module": "@jupyter-widgets/controls",
          "model_name": "DescriptionStyleModel",
          "model_module_version": "1.5.0",
          "state": {
            "_model_module": "@jupyter-widgets/controls",
            "_model_module_version": "1.5.0",
            "_model_name": "DescriptionStyleModel",
            "_view_count": null,
            "_view_module": "@jupyter-widgets/base",
            "_view_module_version": "1.2.0",
            "_view_name": "StyleView",
            "description_width": ""
          }
        },
        "db9a12b899624a92b4599d77c3de08b7": {
          "model_module": "@jupyter-widgets/base",
          "model_name": "LayoutModel",
          "model_module_version": "1.2.0",
          "state": {
            "_model_module": "@jupyter-widgets/base",
            "_model_module_version": "1.2.0",
            "_model_name": "LayoutModel",
            "_view_count": null,
            "_view_module": "@jupyter-widgets/base",
            "_view_module_version": "1.2.0",
            "_view_name": "LayoutView",
            "align_content": null,
            "align_items": null,
            "align_self": null,
            "border": null,
            "bottom": null,
            "display": null,
            "flex": null,
            "flex_flow": null,
            "grid_area": null,
            "grid_auto_columns": null,
            "grid_auto_flow": null,
            "grid_auto_rows": null,
            "grid_column": null,
            "grid_gap": null,
            "grid_row": null,
            "grid_template_areas": null,
            "grid_template_columns": null,
            "grid_template_rows": null,
            "height": null,
            "justify_content": null,
            "justify_items": null,
            "left": null,
            "margin": null,
            "max_height": null,
            "max_width": null,
            "min_height": null,
            "min_width": null,
            "object_fit": null,
            "object_position": null,
            "order": null,
            "overflow": null,
            "overflow_x": null,
            "overflow_y": null,
            "padding": null,
            "right": null,
            "top": null,
            "visibility": null,
            "width": null
          }
        },
        "72f515430a594b5f80fc0756d45459bf": {
          "model_module": "@jupyter-widgets/controls",
          "model_name": "ProgressStyleModel",
          "model_module_version": "1.5.0",
          "state": {
            "_model_module": "@jupyter-widgets/controls",
            "_model_module_version": "1.5.0",
            "_model_name": "ProgressStyleModel",
            "_view_count": null,
            "_view_module": "@jupyter-widgets/base",
            "_view_module_version": "1.2.0",
            "_view_name": "StyleView",
            "bar_color": null,
            "description_width": ""
          }
        },
        "be3db1c4584d4c35a1947005b380a54a": {
          "model_module": "@jupyter-widgets/base",
          "model_name": "LayoutModel",
          "model_module_version": "1.2.0",
          "state": {
            "_model_module": "@jupyter-widgets/base",
            "_model_module_version": "1.2.0",
            "_model_name": "LayoutModel",
            "_view_count": null,
            "_view_module": "@jupyter-widgets/base",
            "_view_module_version": "1.2.0",
            "_view_name": "LayoutView",
            "align_content": null,
            "align_items": null,
            "align_self": null,
            "border": null,
            "bottom": null,
            "display": null,
            "flex": null,
            "flex_flow": null,
            "grid_area": null,
            "grid_auto_columns": null,
            "grid_auto_flow": null,
            "grid_auto_rows": null,
            "grid_column": null,
            "grid_gap": null,
            "grid_row": null,
            "grid_template_areas": null,
            "grid_template_columns": null,
            "grid_template_rows": null,
            "height": null,
            "justify_content": null,
            "justify_items": null,
            "left": null,
            "margin": null,
            "max_height": null,
            "max_width": null,
            "min_height": null,
            "min_width": null,
            "object_fit": null,
            "object_position": null,
            "order": null,
            "overflow": null,
            "overflow_x": null,
            "overflow_y": null,
            "padding": null,
            "right": null,
            "top": null,
            "visibility": null,
            "width": null
          }
        },
        "60df4b231d03446aa17a735fb82f3dd6": {
          "model_module": "@jupyter-widgets/controls",
          "model_name": "DescriptionStyleModel",
          "model_module_version": "1.5.0",
          "state": {
            "_model_module": "@jupyter-widgets/controls",
            "_model_module_version": "1.5.0",
            "_model_name": "DescriptionStyleModel",
            "_view_count": null,
            "_view_module": "@jupyter-widgets/base",
            "_view_module_version": "1.2.0",
            "_view_name": "StyleView",
            "description_width": ""
          }
        },
        "63e1301b22874f32bcc823739bcd1299": {
          "model_module": "@jupyter-widgets/controls",
          "model_name": "HBoxModel",
          "model_module_version": "1.5.0",
          "state": {
            "_dom_classes": [],
            "_model_module": "@jupyter-widgets/controls",
            "_model_module_version": "1.5.0",
            "_model_name": "HBoxModel",
            "_view_count": null,
            "_view_module": "@jupyter-widgets/controls",
            "_view_module_version": "1.5.0",
            "_view_name": "HBoxView",
            "box_style": "",
            "children": [
              "IPY_MODEL_2429eea3f9a047c4b84491a03df06b7e",
              "IPY_MODEL_a5fcbc1d299a443cbe760ee93f9405a3",
              "IPY_MODEL_3f9f30effcef407695737da5eabc097a"
            ],
            "layout": "IPY_MODEL_8eaae38b20c44990851ef9a28a90cbee"
          }
        },
        "2429eea3f9a047c4b84491a03df06b7e": {
          "model_module": "@jupyter-widgets/controls",
          "model_name": "HTMLModel",
          "model_module_version": "1.5.0",
          "state": {
            "_dom_classes": [],
            "_model_module": "@jupyter-widgets/controls",
            "_model_module_version": "1.5.0",
            "_model_name": "HTMLModel",
            "_view_count": null,
            "_view_module": "@jupyter-widgets/controls",
            "_view_module_version": "1.5.0",
            "_view_name": "HTMLView",
            "description": "",
            "description_tooltip": null,
            "layout": "IPY_MODEL_d98a917cf3b84a3cbb4d9e3922579f70",
            "placeholder": "​",
            "style": "IPY_MODEL_aba5887a53d246608fe9e20b2c177fdd",
            "value": "added_tokens.json: 100%"
          }
        },
        "a5fcbc1d299a443cbe760ee93f9405a3": {
          "model_module": "@jupyter-widgets/controls",
          "model_name": "FloatProgressModel",
          "model_module_version": "1.5.0",
          "state": {
            "_dom_classes": [],
            "_model_module": "@jupyter-widgets/controls",
            "_model_module_version": "1.5.0",
            "_model_name": "FloatProgressModel",
            "_view_count": null,
            "_view_module": "@jupyter-widgets/controls",
            "_view_module_version": "1.5.0",
            "_view_name": "ProgressView",
            "bar_style": "success",
            "description": "",
            "description_tooltip": null,
            "layout": "IPY_MODEL_d7e87610e69f48c599c8496e521bff82",
            "max": 42,
            "min": 0,
            "orientation": "horizontal",
            "style": "IPY_MODEL_368b59d10b9b4827bf13d7a199f311b2",
            "value": 42
          }
        },
        "3f9f30effcef407695737da5eabc097a": {
          "model_module": "@jupyter-widgets/controls",
          "model_name": "HTMLModel",
          "model_module_version": "1.5.0",
          "state": {
            "_dom_classes": [],
            "_model_module": "@jupyter-widgets/controls",
            "_model_module_version": "1.5.0",
            "_model_name": "HTMLModel",
            "_view_count": null,
            "_view_module": "@jupyter-widgets/controls",
            "_view_module_version": "1.5.0",
            "_view_name": "HTMLView",
            "description": "",
            "description_tooltip": null,
            "layout": "IPY_MODEL_66996b4b1f87484cada1dc192843b280",
            "placeholder": "​",
            "style": "IPY_MODEL_c4483bb9676c4ed89696fa0535f3aeca",
            "value": " 42.0/42.0 [00:00&lt;00:00, 1.98kB/s]"
          }
        },
        "8eaae38b20c44990851ef9a28a90cbee": {
          "model_module": "@jupyter-widgets/base",
          "model_name": "LayoutModel",
          "model_module_version": "1.2.0",
          "state": {
            "_model_module": "@jupyter-widgets/base",
            "_model_module_version": "1.2.0",
            "_model_name": "LayoutModel",
            "_view_count": null,
            "_view_module": "@jupyter-widgets/base",
            "_view_module_version": "1.2.0",
            "_view_name": "LayoutView",
            "align_content": null,
            "align_items": null,
            "align_self": null,
            "border": null,
            "bottom": null,
            "display": null,
            "flex": null,
            "flex_flow": null,
            "grid_area": null,
            "grid_auto_columns": null,
            "grid_auto_flow": null,
            "grid_auto_rows": null,
            "grid_column": null,
            "grid_gap": null,
            "grid_row": null,
            "grid_template_areas": null,
            "grid_template_columns": null,
            "grid_template_rows": null,
            "height": null,
            "justify_content": null,
            "justify_items": null,
            "left": null,
            "margin": null,
            "max_height": null,
            "max_width": null,
            "min_height": null,
            "min_width": null,
            "object_fit": null,
            "object_position": null,
            "order": null,
            "overflow": null,
            "overflow_x": null,
            "overflow_y": null,
            "padding": null,
            "right": null,
            "top": null,
            "visibility": null,
            "width": null
          }
        },
        "d98a917cf3b84a3cbb4d9e3922579f70": {
          "model_module": "@jupyter-widgets/base",
          "model_name": "LayoutModel",
          "model_module_version": "1.2.0",
          "state": {
            "_model_module": "@jupyter-widgets/base",
            "_model_module_version": "1.2.0",
            "_model_name": "LayoutModel",
            "_view_count": null,
            "_view_module": "@jupyter-widgets/base",
            "_view_module_version": "1.2.0",
            "_view_name": "LayoutView",
            "align_content": null,
            "align_items": null,
            "align_self": null,
            "border": null,
            "bottom": null,
            "display": null,
            "flex": null,
            "flex_flow": null,
            "grid_area": null,
            "grid_auto_columns": null,
            "grid_auto_flow": null,
            "grid_auto_rows": null,
            "grid_column": null,
            "grid_gap": null,
            "grid_row": null,
            "grid_template_areas": null,
            "grid_template_columns": null,
            "grid_template_rows": null,
            "height": null,
            "justify_content": null,
            "justify_items": null,
            "left": null,
            "margin": null,
            "max_height": null,
            "max_width": null,
            "min_height": null,
            "min_width": null,
            "object_fit": null,
            "object_position": null,
            "order": null,
            "overflow": null,
            "overflow_x": null,
            "overflow_y": null,
            "padding": null,
            "right": null,
            "top": null,
            "visibility": null,
            "width": null
          }
        },
        "aba5887a53d246608fe9e20b2c177fdd": {
          "model_module": "@jupyter-widgets/controls",
          "model_name": "DescriptionStyleModel",
          "model_module_version": "1.5.0",
          "state": {
            "_model_module": "@jupyter-widgets/controls",
            "_model_module_version": "1.5.0",
            "_model_name": "DescriptionStyleModel",
            "_view_count": null,
            "_view_module": "@jupyter-widgets/base",
            "_view_module_version": "1.2.0",
            "_view_name": "StyleView",
            "description_width": ""
          }
        },
        "d7e87610e69f48c599c8496e521bff82": {
          "model_module": "@jupyter-widgets/base",
          "model_name": "LayoutModel",
          "model_module_version": "1.2.0",
          "state": {
            "_model_module": "@jupyter-widgets/base",
            "_model_module_version": "1.2.0",
            "_model_name": "LayoutModel",
            "_view_count": null,
            "_view_module": "@jupyter-widgets/base",
            "_view_module_version": "1.2.0",
            "_view_name": "LayoutView",
            "align_content": null,
            "align_items": null,
            "align_self": null,
            "border": null,
            "bottom": null,
            "display": null,
            "flex": null,
            "flex_flow": null,
            "grid_area": null,
            "grid_auto_columns": null,
            "grid_auto_flow": null,
            "grid_auto_rows": null,
            "grid_column": null,
            "grid_gap": null,
            "grid_row": null,
            "grid_template_areas": null,
            "grid_template_columns": null,
            "grid_template_rows": null,
            "height": null,
            "justify_content": null,
            "justify_items": null,
            "left": null,
            "margin": null,
            "max_height": null,
            "max_width": null,
            "min_height": null,
            "min_width": null,
            "object_fit": null,
            "object_position": null,
            "order": null,
            "overflow": null,
            "overflow_x": null,
            "overflow_y": null,
            "padding": null,
            "right": null,
            "top": null,
            "visibility": null,
            "width": null
          }
        },
        "368b59d10b9b4827bf13d7a199f311b2": {
          "model_module": "@jupyter-widgets/controls",
          "model_name": "ProgressStyleModel",
          "model_module_version": "1.5.0",
          "state": {
            "_model_module": "@jupyter-widgets/controls",
            "_model_module_version": "1.5.0",
            "_model_name": "ProgressStyleModel",
            "_view_count": null,
            "_view_module": "@jupyter-widgets/base",
            "_view_module_version": "1.2.0",
            "_view_name": "StyleView",
            "bar_color": null,
            "description_width": ""
          }
        },
        "66996b4b1f87484cada1dc192843b280": {
          "model_module": "@jupyter-widgets/base",
          "model_name": "LayoutModel",
          "model_module_version": "1.2.0",
          "state": {
            "_model_module": "@jupyter-widgets/base",
            "_model_module_version": "1.2.0",
            "_model_name": "LayoutModel",
            "_view_count": null,
            "_view_module": "@jupyter-widgets/base",
            "_view_module_version": "1.2.0",
            "_view_name": "LayoutView",
            "align_content": null,
            "align_items": null,
            "align_self": null,
            "border": null,
            "bottom": null,
            "display": null,
            "flex": null,
            "flex_flow": null,
            "grid_area": null,
            "grid_auto_columns": null,
            "grid_auto_flow": null,
            "grid_auto_rows": null,
            "grid_column": null,
            "grid_gap": null,
            "grid_row": null,
            "grid_template_areas": null,
            "grid_template_columns": null,
            "grid_template_rows": null,
            "height": null,
            "justify_content": null,
            "justify_items": null,
            "left": null,
            "margin": null,
            "max_height": null,
            "max_width": null,
            "min_height": null,
            "min_width": null,
            "object_fit": null,
            "object_position": null,
            "order": null,
            "overflow": null,
            "overflow_x": null,
            "overflow_y": null,
            "padding": null,
            "right": null,
            "top": null,
            "visibility": null,
            "width": null
          }
        },
        "c4483bb9676c4ed89696fa0535f3aeca": {
          "model_module": "@jupyter-widgets/controls",
          "model_name": "DescriptionStyleModel",
          "model_module_version": "1.5.0",
          "state": {
            "_model_module": "@jupyter-widgets/controls",
            "_model_module_version": "1.5.0",
            "_model_name": "DescriptionStyleModel",
            "_view_count": null,
            "_view_module": "@jupyter-widgets/base",
            "_view_module_version": "1.2.0",
            "_view_name": "StyleView",
            "description_width": ""
          }
        },
        "17a5bf5f9175493380132d5fcd5e9e23": {
          "model_module": "@jupyter-widgets/controls",
          "model_name": "HBoxModel",
          "model_module_version": "1.5.0",
          "state": {
            "_dom_classes": [],
            "_model_module": "@jupyter-widgets/controls",
            "_model_module_version": "1.5.0",
            "_model_name": "HBoxModel",
            "_view_count": null,
            "_view_module": "@jupyter-widgets/controls",
            "_view_module_version": "1.5.0",
            "_view_name": "HBoxView",
            "box_style": "",
            "children": [
              "IPY_MODEL_0c0c3a33be2a4a8f8911e55aa3ecb95f",
              "IPY_MODEL_d9af64a0707447ee8558de9ca3e0053b",
              "IPY_MODEL_5aeeb802b112497e884f1050aee00205"
            ],
            "layout": "IPY_MODEL_b6e5b5a3674c46aeb1f1be79e66b50a2"
          }
        },
        "0c0c3a33be2a4a8f8911e55aa3ecb95f": {
          "model_module": "@jupyter-widgets/controls",
          "model_name": "HTMLModel",
          "model_module_version": "1.5.0",
          "state": {
            "_dom_classes": [],
            "_model_module": "@jupyter-widgets/controls",
            "_model_module_version": "1.5.0",
            "_model_name": "HTMLModel",
            "_view_count": null,
            "_view_module": "@jupyter-widgets/controls",
            "_view_module_version": "1.5.0",
            "_view_name": "HTMLView",
            "description": "",
            "description_tooltip": null,
            "layout": "IPY_MODEL_af8d32da420e4faa952d4465bade2c37",
            "placeholder": "​",
            "style": "IPY_MODEL_11ea25458a2e44369b5c3123a085b004",
            "value": "special_tokens_map.json: 100%"
          }
        },
        "d9af64a0707447ee8558de9ca3e0053b": {
          "model_module": "@jupyter-widgets/controls",
          "model_name": "FloatProgressModel",
          "model_module_version": "1.5.0",
          "state": {
            "_dom_classes": [],
            "_model_module": "@jupyter-widgets/controls",
            "_model_module_version": "1.5.0",
            "_model_name": "FloatProgressModel",
            "_view_count": null,
            "_view_module": "@jupyter-widgets/controls",
            "_view_module_version": "1.5.0",
            "_view_name": "ProgressView",
            "bar_style": "success",
            "description": "",
            "description_tooltip": null,
            "layout": "IPY_MODEL_9b5a2bca16144aa7b6450715da4b526a",
            "max": 168,
            "min": 0,
            "orientation": "horizontal",
            "style": "IPY_MODEL_1bc32219699f4030950a6f8354584b2e",
            "value": 168
          }
        },
        "5aeeb802b112497e884f1050aee00205": {
          "model_module": "@jupyter-widgets/controls",
          "model_name": "HTMLModel",
          "model_module_version": "1.5.0",
          "state": {
            "_dom_classes": [],
            "_model_module": "@jupyter-widgets/controls",
            "_model_module_version": "1.5.0",
            "_model_name": "HTMLModel",
            "_view_count": null,
            "_view_module": "@jupyter-widgets/controls",
            "_view_module_version": "1.5.0",
            "_view_name": "HTMLView",
            "description": "",
            "description_tooltip": null,
            "layout": "IPY_MODEL_897f622661f64181b8619a1fe3cecb84",
            "placeholder": "​",
            "style": "IPY_MODEL_70b7c5a2562a4a1c92e12f694d2cb6a4",
            "value": " 168/168 [00:00&lt;00:00, 7.72kB/s]"
          }
        },
        "b6e5b5a3674c46aeb1f1be79e66b50a2": {
          "model_module": "@jupyter-widgets/base",
          "model_name": "LayoutModel",
          "model_module_version": "1.2.0",
          "state": {
            "_model_module": "@jupyter-widgets/base",
            "_model_module_version": "1.2.0",
            "_model_name": "LayoutModel",
            "_view_count": null,
            "_view_module": "@jupyter-widgets/base",
            "_view_module_version": "1.2.0",
            "_view_name": "LayoutView",
            "align_content": null,
            "align_items": null,
            "align_self": null,
            "border": null,
            "bottom": null,
            "display": null,
            "flex": null,
            "flex_flow": null,
            "grid_area": null,
            "grid_auto_columns": null,
            "grid_auto_flow": null,
            "grid_auto_rows": null,
            "grid_column": null,
            "grid_gap": null,
            "grid_row": null,
            "grid_template_areas": null,
            "grid_template_columns": null,
            "grid_template_rows": null,
            "height": null,
            "justify_content": null,
            "justify_items": null,
            "left": null,
            "margin": null,
            "max_height": null,
            "max_width": null,
            "min_height": null,
            "min_width": null,
            "object_fit": null,
            "object_position": null,
            "order": null,
            "overflow": null,
            "overflow_x": null,
            "overflow_y": null,
            "padding": null,
            "right": null,
            "top": null,
            "visibility": null,
            "width": null
          }
        },
        "af8d32da420e4faa952d4465bade2c37": {
          "model_module": "@jupyter-widgets/base",
          "model_name": "LayoutModel",
          "model_module_version": "1.2.0",
          "state": {
            "_model_module": "@jupyter-widgets/base",
            "_model_module_version": "1.2.0",
            "_model_name": "LayoutModel",
            "_view_count": null,
            "_view_module": "@jupyter-widgets/base",
            "_view_module_version": "1.2.0",
            "_view_name": "LayoutView",
            "align_content": null,
            "align_items": null,
            "align_self": null,
            "border": null,
            "bottom": null,
            "display": null,
            "flex": null,
            "flex_flow": null,
            "grid_area": null,
            "grid_auto_columns": null,
            "grid_auto_flow": null,
            "grid_auto_rows": null,
            "grid_column": null,
            "grid_gap": null,
            "grid_row": null,
            "grid_template_areas": null,
            "grid_template_columns": null,
            "grid_template_rows": null,
            "height": null,
            "justify_content": null,
            "justify_items": null,
            "left": null,
            "margin": null,
            "max_height": null,
            "max_width": null,
            "min_height": null,
            "min_width": null,
            "object_fit": null,
            "object_position": null,
            "order": null,
            "overflow": null,
            "overflow_x": null,
            "overflow_y": null,
            "padding": null,
            "right": null,
            "top": null,
            "visibility": null,
            "width": null
          }
        },
        "11ea25458a2e44369b5c3123a085b004": {
          "model_module": "@jupyter-widgets/controls",
          "model_name": "DescriptionStyleModel",
          "model_module_version": "1.5.0",
          "state": {
            "_model_module": "@jupyter-widgets/controls",
            "_model_module_version": "1.5.0",
            "_model_name": "DescriptionStyleModel",
            "_view_count": null,
            "_view_module": "@jupyter-widgets/base",
            "_view_module_version": "1.2.0",
            "_view_name": "StyleView",
            "description_width": ""
          }
        },
        "9b5a2bca16144aa7b6450715da4b526a": {
          "model_module": "@jupyter-widgets/base",
          "model_name": "LayoutModel",
          "model_module_version": "1.2.0",
          "state": {
            "_model_module": "@jupyter-widgets/base",
            "_model_module_version": "1.2.0",
            "_model_name": "LayoutModel",
            "_view_count": null,
            "_view_module": "@jupyter-widgets/base",
            "_view_module_version": "1.2.0",
            "_view_name": "LayoutView",
            "align_content": null,
            "align_items": null,
            "align_self": null,
            "border": null,
            "bottom": null,
            "display": null,
            "flex": null,
            "flex_flow": null,
            "grid_area": null,
            "grid_auto_columns": null,
            "grid_auto_flow": null,
            "grid_auto_rows": null,
            "grid_column": null,
            "grid_gap": null,
            "grid_row": null,
            "grid_template_areas": null,
            "grid_template_columns": null,
            "grid_template_rows": null,
            "height": null,
            "justify_content": null,
            "justify_items": null,
            "left": null,
            "margin": null,
            "max_height": null,
            "max_width": null,
            "min_height": null,
            "min_width": null,
            "object_fit": null,
            "object_position": null,
            "order": null,
            "overflow": null,
            "overflow_x": null,
            "overflow_y": null,
            "padding": null,
            "right": null,
            "top": null,
            "visibility": null,
            "width": null
          }
        },
        "1bc32219699f4030950a6f8354584b2e": {
          "model_module": "@jupyter-widgets/controls",
          "model_name": "ProgressStyleModel",
          "model_module_version": "1.5.0",
          "state": {
            "_model_module": "@jupyter-widgets/controls",
            "_model_module_version": "1.5.0",
            "_model_name": "ProgressStyleModel",
            "_view_count": null,
            "_view_module": "@jupyter-widgets/base",
            "_view_module_version": "1.2.0",
            "_view_name": "StyleView",
            "bar_color": null,
            "description_width": ""
          }
        },
        "897f622661f64181b8619a1fe3cecb84": {
          "model_module": "@jupyter-widgets/base",
          "model_name": "LayoutModel",
          "model_module_version": "1.2.0",
          "state": {
            "_model_module": "@jupyter-widgets/base",
            "_model_module_version": "1.2.0",
            "_model_name": "LayoutModel",
            "_view_count": null,
            "_view_module": "@jupyter-widgets/base",
            "_view_module_version": "1.2.0",
            "_view_name": "LayoutView",
            "align_content": null,
            "align_items": null,
            "align_self": null,
            "border": null,
            "bottom": null,
            "display": null,
            "flex": null,
            "flex_flow": null,
            "grid_area": null,
            "grid_auto_columns": null,
            "grid_auto_flow": null,
            "grid_auto_rows": null,
            "grid_column": null,
            "grid_gap": null,
            "grid_row": null,
            "grid_template_areas": null,
            "grid_template_columns": null,
            "grid_template_rows": null,
            "height": null,
            "justify_content": null,
            "justify_items": null,
            "left": null,
            "margin": null,
            "max_height": null,
            "max_width": null,
            "min_height": null,
            "min_width": null,
            "object_fit": null,
            "object_position": null,
            "order": null,
            "overflow": null,
            "overflow_x": null,
            "overflow_y": null,
            "padding": null,
            "right": null,
            "top": null,
            "visibility": null,
            "width": null
          }
        },
        "70b7c5a2562a4a1c92e12f694d2cb6a4": {
          "model_module": "@jupyter-widgets/controls",
          "model_name": "DescriptionStyleModel",
          "model_module_version": "1.5.0",
          "state": {
            "_model_module": "@jupyter-widgets/controls",
            "_model_module_version": "1.5.0",
            "_model_name": "DescriptionStyleModel",
            "_view_count": null,
            "_view_module": "@jupyter-widgets/base",
            "_view_module_version": "1.2.0",
            "_view_name": "StyleView",
            "description_width": ""
          }
        }
      }
    }
  },
  "cells": [
    {
      "cell_type": "markdown",
      "source": [
        "The purpose of this notebook is to show how to train adapter\n",
        "models to transform query embeddings based on user feedback.\n",
        "\n",
        "In this notebook, both queries and feedbacks are generated with the an LLM model. So, this is for demonstration purposes. You may obtain better fitted adapter model with actual user feedback and more powerful models.\n",
        "\n",
        "You will train a simple adapter model, transform model genenerated queires and see if you can get same, worse or better documents retrieved with the query and the adapted query.\n",
        "\n",
        "Most importantly, you can see that -ve labels are moved in the nagative direction of cosine similarity and +ve labels in the positive direction.\n",
        "\n",
        "This notebook is adapted from:\n",
        "https://learn.deeplearning.ai/advanced-retrieval-for-ai/lesson/6/embedding-adaptors\n",
        "\n",
        "Noteboos is created on google"
      ],
      "metadata": {
        "id": "bsE5acPAhFCR"
      }
    },
    {
      "cell_type": "code",
      "execution_count": null,
      "metadata": {
        "id": "J13c1ujFSJi6"
      },
      "outputs": [],
      "source": [
        "!pip install --upgrade --quiet pypdf python-dotenv umap-learn chromadb \\\n",
        "    langchain huggingface_hub sentence-transformers"
      ]
    },
    {
      "cell_type": "code",
      "source": [
        "import os\n",
        "from dotenv import load_dotenv, find_dotenv\n",
        "from huggingface_hub import login\n",
        "_ = load_dotenv(find_dotenv()) # read local .env file\n",
        "hugging_face_access_token = os.environ['HUGGINGFACEHUB_API_TOKEN']\n",
        "login(hugging_face_access_token)"
      ],
      "metadata": {
        "colab": {
          "base_uri": "https://localhost:8080/"
        },
        "id": "I7lb3ro57hPG",
        "outputId": "ec15c688-5c5b-47dc-cad5-0a0e38da54a7"
      },
      "execution_count": 86,
      "outputs": [
        {
          "output_type": "stream",
          "name": "stdout",
          "text": [
            "Token will not been saved to git credential helper. Pass `add_to_git_credential=True` if you want to set the git credential as well.\n",
            "Token is valid (permission: read).\n",
            "Your token has been saved to /root/.cache/huggingface/token\n",
            "Login successful\n"
          ]
        }
      ]
    },
    {
      "cell_type": "code",
      "source": [
        "from embedding_utils import load_chroma, word_wrap\n",
        "from chromadb.utils.embedding_functions import SentenceTransformerEmbeddingFunction\n",
        "\n",
        "embedding_function = SentenceTransformerEmbeddingFunction()\n",
        "\n",
        "chroma_collection = load_chroma(filename='microsoft_annual_report_2022.pdf',\n",
        "    collection_name='microsoft_annual_report_2022',\n",
        "    embedding_function=embedding_function)\n",
        "\n",
        "chroma_collection.count()"
      ],
      "metadata": {
        "id": "Lahzkg4ETIeY"
      },
      "execution_count": null,
      "outputs": []
    },
    {
      "cell_type": "code",
      "source": [
        "import numpy as np\n",
        "from tqdm import tqdm\n",
        "def project_embeddings(embeddings, umap_transform):\n",
        "    umap_embeddings = np.empty((len(embeddings),2))\n",
        "    for i, embedding in enumerate(tqdm(embeddings)):\n",
        "        umap_embeddings[i] = umap_transform.transform([embedding])\n",
        "    return umap_embeddings"
      ],
      "metadata": {
        "id": "VfSGcXb-3XMV"
      },
      "execution_count": null,
      "outputs": []
    },
    {
      "cell_type": "code",
      "source": [
        "# https://pypi.org/project/umap-learn/\n",
        "import umap\n",
        "embeddings = chroma_collection.get(include=['embeddings'])['embeddings']\n",
        "umap_transform = umap.UMAP(random_state=0, transform_seed=0).fit(embeddings)\n",
        "projected_dataset_embeddings = project_embeddings(embeddings, umap_transform)"
      ],
      "metadata": {
        "colab": {
          "base_uri": "https://localhost:8080/"
        },
        "id": "jsxwQrruVJbs",
        "outputId": "86c22957-eee9-4a29-d01b-930534ff0543"
      },
      "execution_count": null,
      "outputs": [
        {
          "output_type": "stream",
          "name": "stderr",
          "text": [
            "/usr/local/lib/python3.10/dist-packages/umap/umap_.py:1943: UserWarning: n_jobs value -1 overridden to 1 by setting random_state. Use no seed for parallelism.\n",
            "  warn(f\"n_jobs value {self.n_jobs} overridden to 1 by setting random_state. Use no seed for parallelism.\")\n",
            "100%|██████████| 349/349 [05:56<00:00,  1.02s/it]\n"
          ]
        }
      ]
    },
    {
      "cell_type": "code",
      "source": [
        "from dataclasses import dataclass\n",
        "\n",
        "@dataclass\n",
        "class PlotLayer:\n",
        "    embedding: list\n",
        "    size: int = None\n",
        "    color: str = None\n",
        "    facecolor: str = None\n",
        "    edgecolor: str = None\n",
        "    marker: str = None\n",
        "    label: str = None\n",
        "\n",
        "import matplotlib.pyplot as plt\n",
        "%matplotlib inline\n",
        "\n",
        "def plot_projections(title, PlotLayers: list[PlotLayer], legend: list[str] = []) -> None:\n",
        "    plt.figure()\n",
        "    for PlotLayer in PlotLayers:\n",
        "        plt.scatter(PlotLayer.embedding[:, 0], PlotLayer.embedding[:, 1],\n",
        "            s=PlotLayer.size, marker=PlotLayer.marker, color=PlotLayer.color,\n",
        "            facecolor = PlotLayer.facecolor, edgecolor=PlotLayer.edgecolor)\n",
        "\n",
        "    plt.gca().set_aspect('equal', 'datalim')\n",
        "    plt.title(title)\n",
        "    plt.axis('off')\n",
        "    if len(legend) > 0:\n",
        "        plt.legend(legend)\n",
        "    plt.show()"
      ],
      "metadata": {
        "id": "RGfQfJGj8kuy"
      },
      "execution_count": 247,
      "outputs": []
    },
    {
      "cell_type": "code",
      "source": [
        "# Exapnsion with generated queries\n",
        "import llm_utils\n",
        "llm = llm_utils.HuggingFaceHub(\n",
        "    repo_id=\"HuggingFaceH4/zephyr-7b-beta\",\n",
        "    task=\"text-generation\",\n",
        "    model_kwargs={\n",
        "        \"max_new_tokens\": 512,\n",
        "        \"top_k\": 30,\n",
        "        \"temperature\": 0.1,\n",
        "        \"repetition_penalty\": 1.03,\n",
        "    },\n",
        ")\n",
        "\n",
        "chat_model = llm_utils.ChatHuggingFace(llm=llm)"
      ],
      "metadata": {
        "colab": {
          "base_uri": "https://localhost:8080/",
          "height": 356,
          "referenced_widgets": [
            "825d998b583a4d3ab1f1a4ec44747139",
            "9ed95e50bb4e469abdc0f595f9e671f9",
            "7cb41f32b0c244e6b46ad196e7f8612e",
            "894dcf6587df4735ae1ea380ec8a7cb6",
            "1daf109263c84d07a30c7d12d53fa5f8",
            "cdd4ed09093848e4a8819620f68799b4",
            "bec366f5b6a84166a1b4e5d62fc36f85",
            "ced86ee911774b77a782006331bc401e",
            "a4bfc37e855f49a88eb48aa7ca554e95",
            "b075914a735645e08e008a786c4598b3",
            "14e946c4bd3f4e7eb295b120266fd87a",
            "5bc0a81781d44c749423967e464ce9c0",
            "67cbe3fe94af45f2a452dd518ca24d59",
            "3666584c783e408abca01c8076c1cbb4",
            "9da42de9f6ea4048bafd5b027eb5d063",
            "c756d598ec9d444e83a03f96a2735cb7",
            "51d8f23ab3a843a4af0cb7982a5c8e43",
            "839cd5ac24d24f91b920d6569232d492",
            "af42c78485bb471a805e4107071c2005",
            "6deeb9438c9a4c199b72f41251e84a50",
            "f31d59bc6147494e9a818dbb788c1989",
            "102c914bc651429aae2d4bdaabef47f7",
            "636e028370de4598ae4b78ee42dac220",
            "a7d4ba030d6a430b940632fe687f8d4b",
            "46437c608ebc4dd48b4a645b21195002",
            "56a39aa0c5434b33aa6fb70409186874",
            "c0f1e6e385504fcc98b5661fbb41f903",
            "80f31a6015fd4602b75c2db5ada4fbd5",
            "3183441602f04b5a9a101eb426f74e01",
            "db9a12b899624a92b4599d77c3de08b7",
            "72f515430a594b5f80fc0756d45459bf",
            "be3db1c4584d4c35a1947005b380a54a",
            "60df4b231d03446aa17a735fb82f3dd6",
            "63e1301b22874f32bcc823739bcd1299",
            "2429eea3f9a047c4b84491a03df06b7e",
            "a5fcbc1d299a443cbe760ee93f9405a3",
            "3f9f30effcef407695737da5eabc097a",
            "8eaae38b20c44990851ef9a28a90cbee",
            "d98a917cf3b84a3cbb4d9e3922579f70",
            "aba5887a53d246608fe9e20b2c177fdd",
            "d7e87610e69f48c599c8496e521bff82",
            "368b59d10b9b4827bf13d7a199f311b2",
            "66996b4b1f87484cada1dc192843b280",
            "c4483bb9676c4ed89696fa0535f3aeca",
            "17a5bf5f9175493380132d5fcd5e9e23",
            "0c0c3a33be2a4a8f8911e55aa3ecb95f",
            "d9af64a0707447ee8558de9ca3e0053b",
            "5aeeb802b112497e884f1050aee00205",
            "b6e5b5a3674c46aeb1f1be79e66b50a2",
            "af8d32da420e4faa952d4465bade2c37",
            "11ea25458a2e44369b5c3123a085b004",
            "9b5a2bca16144aa7b6450715da4b526a",
            "1bc32219699f4030950a6f8354584b2e",
            "897f622661f64181b8619a1fe3cecb84",
            "70b7c5a2562a4a1c92e12f694d2cb6a4"
          ]
        },
        "id": "w9sdo0MoI2RG",
        "outputId": "b80f7aed-9bd4-4cea-a63d-9d93dfcbae60"
      },
      "execution_count": null,
      "outputs": [
        {
          "output_type": "stream",
          "name": "stderr",
          "text": [
            "WARNING:langchain_community.llms.huggingface_text_gen_inference:WARNING! repo_id is not default parameter.\n",
            "                    repo_id was transferred to model_kwargs.\n",
            "                    Please confirm that repo_id is what you intended.\n",
            "WARNING:langchain_community.llms.huggingface_text_gen_inference:WARNING! task is not default parameter.\n",
            "                    task was transferred to model_kwargs.\n",
            "                    Please confirm that task is what you intended.\n",
            "WARNING:langchain_community.llms.huggingface_text_gen_inference:WARNING! huggingfacehub_api_token is not default parameter.\n",
            "                    huggingfacehub_api_token was transferred to model_kwargs.\n",
            "                    Please confirm that huggingfacehub_api_token is what you intended.\n"
          ]
        },
        {
          "output_type": "display_data",
          "data": {
            "text/plain": [
              "tokenizer_config.json:   0%|          | 0.00/1.43k [00:00<?, ?B/s]"
            ],
            "application/vnd.jupyter.widget-view+json": {
              "version_major": 2,
              "version_minor": 0,
              "model_id": "825d998b583a4d3ab1f1a4ec44747139"
            }
          },
          "metadata": {}
        },
        {
          "output_type": "display_data",
          "data": {
            "text/plain": [
              "tokenizer.model:   0%|          | 0.00/493k [00:00<?, ?B/s]"
            ],
            "application/vnd.jupyter.widget-view+json": {
              "version_major": 2,
              "version_minor": 0,
              "model_id": "5bc0a81781d44c749423967e464ce9c0"
            }
          },
          "metadata": {}
        },
        {
          "output_type": "display_data",
          "data": {
            "text/plain": [
              "tokenizer.json:   0%|          | 0.00/1.80M [00:00<?, ?B/s]"
            ],
            "application/vnd.jupyter.widget-view+json": {
              "version_major": 2,
              "version_minor": 0,
              "model_id": "636e028370de4598ae4b78ee42dac220"
            }
          },
          "metadata": {}
        },
        {
          "output_type": "display_data",
          "data": {
            "text/plain": [
              "added_tokens.json:   0%|          | 0.00/42.0 [00:00<?, ?B/s]"
            ],
            "application/vnd.jupyter.widget-view+json": {
              "version_major": 2,
              "version_minor": 0,
              "model_id": "63e1301b22874f32bcc823739bcd1299"
            }
          },
          "metadata": {}
        },
        {
          "output_type": "display_data",
          "data": {
            "text/plain": [
              "special_tokens_map.json:   0%|          | 0.00/168 [00:00<?, ?B/s]"
            ],
            "application/vnd.jupyter.widget-view+json": {
              "version_major": 2,
              "version_minor": 0,
              "model_id": "17a5bf5f9175493380132d5fcd5e9e23"
            }
          },
          "metadata": {}
        }
      ]
    },
    {
      "cell_type": "code",
      "source": [
        "from langchain.schema import HumanMessage, SystemMessage\n",
        "from langchain.prompts import ChatPromptTemplate\n",
        "def generate_queries(chat_model):\n",
        "\n",
        "    system_message = \"\"\"\n",
        "        You are a helpful expert financial research assistant.\n",
        "        You help users analyze financial statements to better\n",
        "        understand companies. Suggest 10 to 15 short questions that\n",
        "        are important to ask when analyzing an annual report.\n",
        "        Do not output any compound questions\n",
        "        (questions with multiple sentences or conjunctions).\n",
        "        Output each question on a separate line divided by a newline.\n",
        "    \"\"\"\n",
        "\n",
        "    messages = [\n",
        "      SystemMessage(content=system_message),\n",
        "      HumanMessage(\n",
        "        content=\"Follow instructions when generating queries\"\n",
        "\n",
        "      ),\n",
        "    ]\n",
        "\n",
        "    response = chat_model.invoke(messages)\n",
        "\n",
        "    return response.content.split(\"\\n\")"
      ],
      "metadata": {
        "id": "eramcy_Lh3FZ"
      },
      "execution_count": null,
      "outputs": []
    },
    {
      "cell_type": "code",
      "source": [
        "generated_queries = generate_queries(chat_model=chat_model)\n",
        "for query in generated_queries:\n",
        "    print(query)"
      ],
      "metadata": {
        "colab": {
          "base_uri": "https://localhost:8080/"
        },
        "id": "jl1kkoAGjzWq",
        "outputId": "97f0140d-8e8f-4ad9-e64f-200768487b34"
      },
      "execution_count": 91,
      "outputs": [
        {
          "output_type": "stream",
          "name": "stdout",
          "text": [
            "1. What is the company's revenue for the past year?\n",
            "2. How does this year's revenue compare to the previous year's revenue?\n",
            "3. What is the company's net income for the past year?\n",
            "4. How does this year's net income compare to the previous year's net income?\n",
            "5. What is the company's gross profit margin?\n",
            "6. Has the gross profit margin increased, decreased, or remained the same from the previous year?\n",
            "7. What is the company's current ratio?\n",
            "8. Does the current ratio indicate that the company has enough assets to cover its short-term liabilities?\n",
            "9. What is the company's debt-to-equity ratio?\n",
            "10. Is the debt-to-equity ratio higher or lower than the industry average?\n",
            "11. What is the company's return on equity (ROE)?\n",
            "12. Has the ROE increased, decreased, or remained the same from the previous year?\n",
            "13. What is the company's earnings per share (EPS)?\n",
            "14. How does this year's EPS compare to the previous year's EPS?\n",
            "15. What is the company's dividend policy?\n",
            "16. Has the dividend per share increased, decreased, or remained the same from the previous year?\n",
            "17. What is the company's payout ratio?\n",
            "18. Is the payout ratio sustainable in the long run?\n",
            "19. What is the company's inventory turnover ratio?\n",
            "20. Has the inventory turnover ratio increased, decreased, or remained the same from the previous year?\n",
            "21. What is the company's accounts receivable turnover ratio?\n",
            "22. Has the accounts receivable turnover ratio increased, decreased, or remained the same from the previous year?\n",
            "23. What is the company's accounts payable turnover ratio?\n",
            "24. Has the accounts payable turnover ratio increased, decreased, or remained the same from the previous year?\n",
            "25. What is the company's fixed asset turnover ratio?\n",
            "26. Has the fixed asset turnover ratio increased, decreased, or remained the same from the previous year?\n",
            "27. What is the company's return on assets (ROA)?\n",
            "28.\n"
          ]
        }
      ]
    },
    {
      "cell_type": "code",
      "source": [
        "import copy\n",
        "from random import sample\n",
        "all_queries = copy.deepcopy(generated_queries)#these doesn't work. Try deep copy\n",
        "print(len(all_queries))"
      ],
      "metadata": {
        "colab": {
          "base_uri": "https://localhost:8080/"
        },
        "id": "hplpQhRdzE1P",
        "outputId": "50e3609c-a572-4b80-bbee-44bf52a130a1"
      },
      "execution_count": 92,
      "outputs": [
        {
          "output_type": "stream",
          "name": "stdout",
          "text": [
            "28\n"
          ]
        }
      ]
    },
    {
      "cell_type": "code",
      "source": [
        "generated_queries  = sample(all_queries, 16)\n",
        "generated_queries = [q for q in generated_queries if len(q.strip()) > 10]\n",
        "print(len(generated_queries))\n",
        "for query in generated_queries:\n",
        "    print(query)"
      ],
      "metadata": {
        "colab": {
          "base_uri": "https://localhost:8080/"
        },
        "id": "ESsR7ZKJ3--5",
        "outputId": "71d67422-8267-4919-c6cc-e7807237a74a"
      },
      "execution_count": 159,
      "outputs": [
        {
          "output_type": "stream",
          "name": "stdout",
          "text": [
            "16\n",
            "19. What is the company's inventory turnover ratio?\n",
            "26. Has the fixed asset turnover ratio increased, decreased, or remained the same from the previous year?\n",
            "3. What is the company's net income for the past year?\n",
            "2. How does this year's revenue compare to the previous year's revenue?\n",
            "11. What is the company's return on equity (ROE)?\n",
            "21. What is the company's accounts receivable turnover ratio?\n",
            "25. What is the company's fixed asset turnover ratio?\n",
            "20. Has the inventory turnover ratio increased, decreased, or remained the same from the previous year?\n",
            "9. What is the company's debt-to-equity ratio?\n",
            "14. How does this year's EPS compare to the previous year's EPS?\n",
            "23. What is the company's accounts payable turnover ratio?\n",
            "8. Does the current ratio indicate that the company has enough assets to cover its short-term liabilities?\n",
            "10. Is the debt-to-equity ratio higher or lower than the industry average?\n",
            "5. What is the company's gross profit margin?\n",
            "16. Has the dividend per share increased, decreased, or remained the same from the previous year?\n",
            "24. Has the accounts payable turnover ratio increased, decreased, or remained the same from the previous year?\n"
          ]
        }
      ]
    },
    {
      "cell_type": "code",
      "source": [
        "results = chroma_collection.query(query_texts=generated_queries, n_results=10,\n",
        "                                  include=['documents', 'embeddings'])\n",
        "retrieved_documents = results['documents']\n",
        "print(len(retrieved_documents) * len(retrieved_documents[0]))\n",
        "\n",
        "retrieved_embeddings = results['embeddings']\n",
        "\n",
        "# generated query embeddings\n",
        "query_embeddings = embedding_function(generated_queries)\n",
        "len(query_embeddings)"
      ],
      "metadata": {
        "colab": {
          "base_uri": "https://localhost:8080/"
        },
        "id": "rESsDl7hkMN0",
        "outputId": "59d9f52c-bb25-4f12-acf5-fe3b23bc421c"
      },
      "execution_count": 160,
      "outputs": [
        {
          "output_type": "stream",
          "name": "stdout",
          "text": [
            "160\n"
          ]
        },
        {
          "output_type": "execute_result",
          "data": {
            "text/plain": [
              "16"
            ]
          },
          "metadata": {},
          "execution_count": 160
        }
      ]
    },
    {
      "cell_type": "code",
      "source": [
        "def evaluate_results(query, statement, chat_model):\n",
        "\n",
        "    system_message = \"\"\"\n",
        "        You are a helpful expert financial research assistant.\n",
        "        You help users analyze financial statements\n",
        "        to better understand companies.\n",
        "        For the given query, evaluate whether the following satement is relevant.\n",
        "        Answer yes or no.\n",
        "    \"\"\"\n",
        "\n",
        "    messages = [\n",
        "      SystemMessage(content=system_message),\n",
        "      HumanMessage(\n",
        "        content=f\"Query: {query}, Statement: {statement}\"\n",
        "\n",
        "      ),\n",
        "    ]\n",
        "\n",
        "    response = chat_model.invoke(messages)\n",
        "    content = response.content\n",
        "    if len(content.strip()) > 0:\n",
        "        print(content)\n",
        "        print(\"\\n\")\n",
        "        if 'yes' in content or 'relevant' in content or \"Yes\" in content or \"Relevant\" in content:\n",
        "            return 1\n",
        "        return -1\n",
        "    return 0\n"
      ],
      "metadata": {
        "id": "wCW-qFj4llpl"
      },
      "execution_count": null,
      "outputs": []
    },
    {
      "cell_type": "code",
      "source": [
        "adapter_query_embeddings = [] # for query embeddings\n",
        "adapter_doc_embeddings = [] # for result embeddings\n",
        "adapter_labels = [] # for generated labels"
      ],
      "metadata": {
        "id": "wNeer5YuoUX6"
      },
      "execution_count": 161,
      "outputs": []
    },
    {
      "cell_type": "code",
      "source": [
        "# q and d are used as list indices\n",
        "# query and document are texts that are evaluated\n",
        "# label is the result of query and document evaluation\n",
        "\n",
        "for q, query in enumerate(tqdm(generated_queries)):\n",
        "    for d, document in enumerate(retrieved_documents[q]):\n",
        "        if len(document.strip()) != 0:\n",
        "            label = evaluate_results(query, document, chat_model)\n",
        "            if label == 1 or label == -1:\n",
        "                adapter_query_embeddings.append(query_embeddings[q])\n",
        "                adapter_doc_embeddings.append(retrieved_embeddings[q][d])\n",
        "                adapter_labels.append(label)"
      ],
      "metadata": {
        "id": "z8NxboYapxf4"
      },
      "execution_count": null,
      "outputs": []
    },
    {
      "cell_type": "code",
      "source": [
        "len(adapter_labels), len(adapter_query_embeddings), len(adapter_doc_embeddings)\n"
      ],
      "metadata": {
        "colab": {
          "base_uri": "https://localhost:8080/"
        },
        "id": "uQ5HOQrwsIog",
        "outputId": "dd7a408e-7ca8-4fc4-f85e-b9621dbbc0f4"
      },
      "execution_count": 163,
      "outputs": [
        {
          "output_type": "execute_result",
          "data": {
            "text/plain": [
              "(160, 160, 160)"
            ]
          },
          "metadata": {},
          "execution_count": 163
        }
      ]
    },
    {
      "cell_type": "code",
      "source": [
        "import torch\n",
        "\n",
        "adapter_query_embeddings = torch.Tensor(adapter_query_embeddings)\n",
        "adapter_doc_embeddings = torch.Tensor(adapter_doc_embeddings)\n",
        "adapter_labels = torch.Tensor(adapter_labels)\n",
        "adapter_labels = adapter_labels.reshape(adapter_labels.shape[0],)\n",
        "print(adapter_query_embeddings.shape, adapter_doc_embeddings.shape, adapter_labels.shape)\n",
        "dataset = torch.utils.data.TensorDataset(adapter_query_embeddings, adapter_doc_embeddings, adapter_labels)"
      ],
      "metadata": {
        "id": "YSYHwNNxxDuL",
        "colab": {
          "base_uri": "https://localhost:8080/"
        },
        "outputId": "fdda64b7-321a-4528-bbd5-18b94c0b02df"
      },
      "execution_count": 164,
      "outputs": [
        {
          "output_type": "stream",
          "name": "stdout",
          "text": [
            "torch.Size([160, 384]) torch.Size([160, 384]) torch.Size([160])\n"
          ]
        }
      ]
    },
    {
      "cell_type": "code",
      "source": [
        "import torch\n",
        "class AdapterModel(torch.nn.Module):\n",
        "    def __init__(self, adpater_matrix_shape):\n",
        "        super().__init__()\n",
        "        self.adapter_matrix = torch.nn.Parameter(\n",
        "            torch.zeros(adpater_matrix_shape),\n",
        "            requires_grad=True)\n",
        "\n",
        "        # try different initializaiton methods\n",
        "        torch.nn.init.xavier_uniform_(self.adapter_matrix)\n",
        "\n",
        "    def forward(self, input):\n",
        "        #self.adapter_matrix = self.adapter_matrix.relu()\n",
        "\n",
        "        output = self.adapter_matrix @ input.t()\n",
        "        return output.t()"
      ],
      "metadata": {
        "id": "J-RNZVM9fF7N"
      },
      "execution_count": 186,
      "outputs": []
    },
    {
      "cell_type": "code",
      "source": [
        "def get_model():\n",
        "    model = AdapterModel((384, 384))\n",
        "    return model"
      ],
      "metadata": {
        "id": "TRN_UXWXf86D"
      },
      "execution_count": 166,
      "outputs": []
    },
    {
      "cell_type": "code",
      "source": [
        "model = get_model()\n",
        "for p in model.parameters():\n",
        "    print(p.shape)\n",
        "    print(p)"
      ],
      "metadata": {
        "colab": {
          "base_uri": "https://localhost:8080/"
        },
        "id": "FO__Z6egorYt",
        "outputId": "b0291578-c7dc-4649-e794-14d2ea112e26"
      },
      "execution_count": 167,
      "outputs": [
        {
          "output_type": "stream",
          "name": "stdout",
          "text": [
            "torch.Size([384, 384])\n",
            "Parameter containing:\n",
            "tensor([[-0.0125,  0.0376, -0.0384,  ...,  0.0231,  0.0321, -0.0120],\n",
            "        [ 0.0445,  0.0862,  0.0292,  ..., -0.0457,  0.0409,  0.0354],\n",
            "        [ 0.0014,  0.0680, -0.0035,  ..., -0.0865, -0.0581,  0.0707],\n",
            "        ...,\n",
            "        [-0.0314, -0.0394, -0.0080,  ...,  0.0045, -0.0664, -0.0455],\n",
            "        [-0.0592,  0.0275, -0.0607,  ..., -0.0614, -0.0245,  0.0098],\n",
            "        [ 0.0782,  0.0107, -0.0283,  ..., -0.0183,  0.0560, -0.0118]],\n",
            "       requires_grad=True)\n"
          ]
        }
      ]
    },
    {
      "cell_type": "code",
      "source": [
        "model = get_model()\n",
        "test_vector = torch.ones([3, 384])\n",
        "test_vector.shape\n",
        "result = model(test_vector)\n",
        "result.shape"
      ],
      "metadata": {
        "colab": {
          "base_uri": "https://localhost:8080/"
        },
        "id": "UqFqYYtFip8R",
        "outputId": "83403c9f-b6ec-46aa-fbad-a8808b57fe69"
      },
      "execution_count": 188,
      "outputs": [
        {
          "output_type": "execute_result",
          "data": {
            "text/plain": [
              "torch.Size([3, 384])"
            ]
          },
          "metadata": {},
          "execution_count": 188
        }
      ]
    },
    {
      "cell_type": "code",
      "source": [
        "# define train function\n",
        "def train(model, optimizer, loss_func, epochs=150):\n",
        "    for epoch in tqdm(range(epochs)):\n",
        "        for query_embedding, document_embedding, label in dataset:\n",
        "            updated_query_embedding = model(query_embedding)\n",
        "            cosine_similarity = F.cosine_similarity(updated_query_embedding, document_embedding, dim=0)\n",
        "            loss = loss_func(cosine_similarity, label)\n",
        "            loss.backward()\n",
        "            optimizer.step()\n",
        "            optimizer.zero_grad()\n",
        "    print(\"\\n\")\n",
        "    print(f\"loss = {loss.detach().numpy()}\")\n"
      ],
      "metadata": {
        "id": "zm-jtQYsS5du"
      },
      "execution_count": 235,
      "outputs": []
    },
    {
      "cell_type": "code",
      "source": [
        "model = get_model()\n",
        "\n",
        "import torch.nn.functional as F\n",
        "# create a loss function\n",
        "def loss_function(cosine_similarity, label):\n",
        "    return F.mse_loss(cosine_similarity, label)\n",
        "\n",
        "# crete an optimizer\n",
        "from torch import optim\n",
        "\n",
        "optimizer = optim.Adam(model.parameters(), lr=0.01)\n",
        "#train\n",
        "train(model=model, optimizer=optimizer, loss_func=loss_function)"
      ],
      "metadata": {
        "id": "lGB1gtdG9tvK",
        "colab": {
          "base_uri": "https://localhost:8080/"
        },
        "outputId": "f19b8d15-6a37-4716-9533-bb49bd9bff09"
      },
      "execution_count": 236,
      "outputs": [
        {
          "output_type": "stream",
          "name": "stderr",
          "text": [
            "100%|██████████| 150/150 [00:40<00:00,  3.68it/s]"
          ]
        },
        {
          "output_type": "stream",
          "name": "stdout",
          "text": [
            "\n",
            "\n",
            "loss = 0.42067328095436096\n"
          ]
        },
        {
          "output_type": "stream",
          "name": "stderr",
          "text": [
            "\n"
          ]
        }
      ]
    },
    {
      "cell_type": "code",
      "source": [
        "# The transformation of a unit vector by the leaned adapter matrix.\n",
        "# Some of the dimenstion are stretched in the positive and some\n",
        "# in the opposite dimensions. Some are shrinked to 0\n",
        "\n",
        "model.eval()\n",
        "with torch.no_grad():\n",
        "    scaled_vector = model(test_vector[0])\n",
        "\n",
        "plt.plot(scaled_vector.numpy())\n",
        "plt.show()"
      ],
      "metadata": {
        "id": "UwDf_-fRxRFX",
        "colab": {
          "base_uri": "https://localhost:8080/",
          "height": 430
        },
        "outputId": "a40c0c64-1cb1-4400-c5f2-df9b16cd2383"
      },
      "execution_count": 237,
      "outputs": [
        {
          "output_type": "display_data",
          "data": {
            "text/plain": [
              "<Figure size 640x480 with 1 Axes>"
            ],
            "image/png": "[encoded data removed]"
          },
          "metadata": {}
        }
      ]
    },
    {
      "cell_type": "code",
      "source": [
        "query_embeddings = embedding_function(generated_queries)\n",
        "input_query_embeddings = torch.Tensor(query_embeddings)\n",
        "with torch.no_grad():\n",
        "    adapted_query_embeddings = model(input_query_embeddings).numpy()\n",
        "\n",
        "projected_query_embeddings = project_embeddings(query_embeddings, umap_transform)\n",
        "projected_adapted_query_embeddings = project_embeddings(adapted_query_embeddings, umap_transform)"
      ],
      "metadata": {
        "colab": {
          "base_uri": "https://localhost:8080/"
        },
        "id": "HgbsYuwGxkX_",
        "outputId": "257d5f28-f91d-4a57-cee5-56a7046172d9"
      },
      "execution_count": 238,
      "outputs": [
        {
          "output_type": "stream",
          "name": "stderr",
          "text": [
            "100%|██████████| 16/16 [00:17<00:00,  1.12s/it]\n",
            "100%|██████████| 16/16 [00:17<00:00,  1.08s/it]\n"
          ]
        }
      ]
    },
    {
      "cell_type": "code",
      "source": [
        "# Plot the projected query and retrieved documents in the embedding space\n",
        "# Notice how queries are now appearing\n",
        "layers = [PlotLayer(projected_dataset_embeddings, size=10, color='gray', label=\"embeding space\"),\n",
        "               PlotLayer(projected_query_embeddings, size=150, marker='X', color='r', label=\"original\"),\n",
        "               PlotLayer(projected_adapted_query_embeddings, size=150, marker='X', color='green', label=\"adapted\" )]\n",
        "plot_projections(\"Adapted queries\", layers, [\"embeding space\", \"original\", \"adapted\"])"
      ],
      "metadata": {
        "colab": {
          "base_uri": "https://localhost:8080/",
          "height": 428
        },
        "id": "oCl3zKshxxXN",
        "outputId": "5d166a71-b457-404e-d455-5f4b61eb32f7"
      },
      "execution_count": 248,
      "outputs": [
        {
          "output_type": "display_data",
          "data": {
            "text/plain": [
              "<Figure size 640x480 with 1 Axes>"
            ],
            "image/png": "[encoded data removed]"
          },
          "metadata": {}
        }
      ]
    },
    {
      "cell_type": "code",
      "source": [
        "label_index = 0\n",
        "\n",
        "for i in range(len(query_embeddings)):\n",
        "  print(\"label       orignial similarity   adapted similarity\")\n",
        "  print(\"-\"*60)\n",
        "  for j in range(len(retrieved_embeddings[i])):\n",
        "\n",
        "      label = adapter_labels[label_index]\n",
        "\n",
        "      old_query_embedding = torch.tensor(query_embeddings[i])\n",
        "      adapted_query = torch.tensor(adapted_query_embeddings[i])\n",
        "\n",
        "      sim0 = torch.cosine_similarity(old_query_embedding, adapted_query, dim=0).numpy()\n",
        "\n",
        "      document_embedding = torch.tensor(np.array(retrieved_embeddings[i][j]))\n",
        "\n",
        "      sim1 = torch.cosine_similarity(old_query_embedding, document_embedding, dim=0).numpy()\n",
        "      sim2 = torch.cosine_similarity(adapted_query, document_embedding, dim=0).numpy()\n",
        "\n",
        "      print(label, sim1, sim2)\n",
        "\n",
        "      label_index += 1\n",
        "\n",
        "      print(\"-\"*60)\n"
      ],
      "metadata": {
        "colab": {
          "base_uri": "https://localhost:8080/"
        },
        "id": "fLl3Ywdj_fIL",
        "outputId": "135efd14-3eb8-4f5b-e02b-c7b1e819983f"
      },
      "execution_count": 240,
      "outputs": [
        {
          "output_type": "stream",
          "name": "stdout",
          "text": [
            "label       orignial similarity   adapted similarity\n",
            "------------------------------------------------------------\n",
            "tensor(1.) 0.4979718466315829 0.7184716292408113\n",
            "------------------------------------------------------------\n",
            "tensor(1.) 0.4897288836395354 0.625468058345713\n",
            "------------------------------------------------------------\n",
            "tensor(1.) 0.48202951644277325 0.6714815750322616\n",
            "------------------------------------------------------------\n",
            "tensor(1.) 0.47409518150407814 0.7789529419494369\n",
            "------------------------------------------------------------\n",
            "tensor(1.) 0.4643656338652529 0.6096710292508007\n",
            "------------------------------------------------------------\n",
            "tensor(1.) 0.44965198257818406 0.7201301979476931\n",
            "------------------------------------------------------------\n",
            "tensor(-1.) 0.4420814227977097 0.10521455204288072\n",
            "------------------------------------------------------------\n",
            "tensor(1.) 0.44142222680057785 0.7042269164182532\n",
            "------------------------------------------------------------\n",
            "tensor(1.) 0.44142222680057785 0.7042269164182532\n",
            "------------------------------------------------------------\n",
            "tensor(1.) 0.43580815704145226 0.6966885513120595\n",
            "------------------------------------------------------------\n",
            "label       orignial similarity   adapted similarity\n",
            "------------------------------------------------------------\n",
            "tensor(-1.) 0.5041415945970821 -0.1330066359355485\n",
            "------------------------------------------------------------\n",
            "tensor(-1.) 0.48895747965718744 -0.02689579054259959\n",
            "------------------------------------------------------------\n",
            "tensor(1.) 0.47991688437227886 0.454732773714273\n",
            "------------------------------------------------------------\n",
            "tensor(1.) 0.47934384371879507 0.3623722489029727\n",
            "------------------------------------------------------------\n",
            "tensor(-1.) 0.4621027153330779 -0.13476277425698996\n",
            "------------------------------------------------------------\n",
            "tensor(1.) 0.46176698725520327 0.22862787961871983\n",
            "------------------------------------------------------------\n",
            "tensor(-1.) 0.4587639252461866 -0.04144064223953694\n",
            "------------------------------------------------------------\n",
            "tensor(1.) 0.4487768045202039 0.5208465476397608\n",
            "------------------------------------------------------------\n",
            "tensor(1.) 0.4453253221022272 0.4566999997997531\n",
            "------------------------------------------------------------\n",
            "tensor(1.) 0.44353027736122774 0.2648676376147069\n",
            "------------------------------------------------------------\n",
            "label       orignial similarity   adapted similarity\n",
            "------------------------------------------------------------\n",
            "tensor(-1.) 0.5754764510649767 0.12376204862340572\n",
            "------------------------------------------------------------\n",
            "tensor(1.) 0.567492210183447 0.4378071053712549\n",
            "------------------------------------------------------------\n",
            "tensor(1.) 0.5674648831556132 0.4742312209270163\n",
            "------------------------------------------------------------\n",
            "tensor(1.) 0.5655687718439126 0.45993525065108\n",
            "------------------------------------------------------------\n",
            "tensor(1.) 0.5556207449660863 0.52620203896507\n",
            "------------------------------------------------------------\n",
            "tensor(1.) 0.5507722448600875 0.5344562620527104\n",
            "------------------------------------------------------------\n",
            "tensor(1.) 0.5488030539408801 0.4863966751168663\n",
            "------------------------------------------------------------\n",
            "tensor(1.) 0.5383658116139294 0.4451191220820667\n",
            "------------------------------------------------------------\n",
            "tensor(-1.) 0.5294471073292981 -0.1265759943781546\n",
            "------------------------------------------------------------\n",
            "tensor(-1.) 0.5225147080465258 -0.1192654186687126\n",
            "------------------------------------------------------------\n",
            "label       orignial similarity   adapted similarity\n",
            "------------------------------------------------------------\n",
            "tensor(1.) 0.5653966626303497 0.6090950198391075\n",
            "------------------------------------------------------------\n",
            "tensor(1.) 0.5480913550512393 0.7179174144871515\n",
            "------------------------------------------------------------\n",
            "tensor(1.) 0.5390827017941908 0.6726986275851286\n",
            "------------------------------------------------------------\n",
            "tensor(1.) 0.5311241780884384 0.5917409543525904\n",
            "------------------------------------------------------------\n",
            "tensor(1.) 0.5233233920424727 0.7044910398450687\n",
            "------------------------------------------------------------\n",
            "tensor(1.) 0.5184059275893425 0.7300862393696835\n",
            "------------------------------------------------------------\n",
            "tensor(-1.) 0.5177516825544689 0.22223455603647937\n",
            "------------------------------------------------------------\n",
            "tensor(1.) 0.5127271149208499 0.7201988729252655\n",
            "------------------------------------------------------------\n",
            "tensor(1.) 0.49780282280115196 0.5074041785485429\n",
            "------------------------------------------------------------\n",
            "tensor(1.) 0.49541308405806106 0.6870797418653707\n",
            "------------------------------------------------------------\n",
            "label       orignial similarity   adapted similarity\n",
            "------------------------------------------------------------\n",
            "tensor(1.) 0.5275490277186137 0.5125571680898706\n",
            "------------------------------------------------------------\n",
            "tensor(-1.) 0.4971501233667261 -0.09693205152307514\n",
            "------------------------------------------------------------\n",
            "tensor(1.) 0.495545151727859 0.5090777094582497\n",
            "------------------------------------------------------------\n",
            "tensor(1.) 0.4874620055533132 0.5145159433162254\n",
            "------------------------------------------------------------\n",
            "tensor(-1.) 0.48179704432687165 0.04510152179688139\n",
            "------------------------------------------------------------\n",
            "tensor(-1.) 0.47148601856897887 0.05473428747593855\n",
            "------------------------------------------------------------\n",
            "tensor(1.) 0.46559213919193665 0.2923398301894883\n",
            "------------------------------------------------------------\n",
            "tensor(1.) 0.4476549413535094 0.4939967832926821\n",
            "------------------------------------------------------------\n",
            "tensor(1.) 0.44637627046958006 0.567067756729418\n",
            "------------------------------------------------------------\n",
            "tensor(1.) 0.43763551248901944 0.5484203124449505\n",
            "------------------------------------------------------------\n",
            "label       orignial similarity   adapted similarity\n",
            "------------------------------------------------------------\n",
            "tensor(1.) 0.57103085734391 0.517288939950949\n",
            "------------------------------------------------------------\n",
            "tensor(1.) 0.5571565589284615 0.41061872853823644\n",
            "------------------------------------------------------------\n",
            "tensor(1.) 0.5430335615612658 0.46550754152114615\n",
            "------------------------------------------------------------\n",
            "tensor(-1.) 0.5276120450027837 0.18234972912066696\n",
            "------------------------------------------------------------\n",
            "tensor(1.) 0.5113017654828887 0.3940082803279513\n",
            "------------------------------------------------------------\n",
            "tensor(1.) 0.5100901327263997 0.4588325360858808\n",
            "------------------------------------------------------------\n",
            "tensor(-1.) 0.4994500484062626 0.11373830219058823\n",
            "------------------------------------------------------------\n",
            "tensor(1.) 0.4956363341592454 0.4548763817244328\n",
            "------------------------------------------------------------\n",
            "tensor(-1.) 0.48867590584879383 -0.018576580224807154\n",
            "------------------------------------------------------------\n",
            "tensor(1.) 0.48538760507872936 0.3731730375561294\n",
            "------------------------------------------------------------\n",
            "label       orignial similarity   adapted similarity\n",
            "------------------------------------------------------------\n",
            "tensor(1.) 0.5197884079270982 0.42843612988109286\n",
            "------------------------------------------------------------\n",
            "tensor(1.) 0.48666841260277255 0.6067177815692726\n",
            "------------------------------------------------------------\n",
            "tensor(1.) 0.47847325019423814 0.4132622468960138\n",
            "------------------------------------------------------------\n",
            "tensor(1.) 0.46607677414186294 0.49068831243216426\n",
            "------------------------------------------------------------\n",
            "tensor(1.) 0.46480076818658767 0.6012332891253126\n",
            "------------------------------------------------------------\n",
            "tensor(1.) 0.46208777065179196 0.5899158244133569\n",
            "------------------------------------------------------------\n",
            "tensor(-1.) 0.45719188582674525 0.19637880240944922\n",
            "------------------------------------------------------------\n",
            "tensor(1.) 0.45622929440770704 0.5677305797067785\n",
            "------------------------------------------------------------\n",
            "tensor(1.) 0.4408083558708529 0.5203363213225185\n",
            "------------------------------------------------------------\n",
            "tensor(-1.) 0.43856019716791284 0.14391442825068884\n",
            "------------------------------------------------------------\n",
            "label       orignial similarity   adapted similarity\n",
            "------------------------------------------------------------\n",
            "tensor(1.) 0.5039084991163634 0.5069426357740647\n",
            "------------------------------------------------------------\n",
            "tensor(1.) 0.4928306420638132 0.6689521331890952\n",
            "------------------------------------------------------------\n",
            "tensor(-1.) 0.462751322181583 0.19206428159858188\n",
            "------------------------------------------------------------\n",
            "tensor(1.) 0.45453567523778415 0.4822302930830949\n",
            "------------------------------------------------------------\n",
            "tensor(1.) 0.44858991547203675 0.7518519217227875\n",
            "------------------------------------------------------------\n",
            "tensor(1.) 0.4411366285862745 0.7627878463551495\n",
            "------------------------------------------------------------\n",
            "tensor(1.) 0.43971599862258876 0.6889694375496065\n",
            "------------------------------------------------------------\n",
            "tensor(1.) 0.43760573133855585 0.7057305122474331\n",
            "------------------------------------------------------------\n",
            "tensor(1.) 0.4345089130096401 0.7748606753562581\n",
            "------------------------------------------------------------\n",
            "tensor(1.) 0.4345089130096401 0.7748606753562581\n",
            "------------------------------------------------------------\n",
            "label       orignial similarity   adapted similarity\n",
            "------------------------------------------------------------\n",
            "tensor(1.) 0.5566440546307851 0.6181773082045063\n",
            "------------------------------------------------------------\n",
            "tensor(-1.) 0.5129450553690648 0.1600975956862023\n",
            "------------------------------------------------------------\n",
            "tensor(1.) 0.5048002113495252 0.6560898042418091\n",
            "------------------------------------------------------------\n",
            "tensor(1.) 0.504586619937187 0.3477401263576336\n",
            "------------------------------------------------------------\n",
            "tensor(1.) 0.48951806192435937 0.48055227406305423\n",
            "------------------------------------------------------------\n",
            "tensor(1.) 0.47915752572535286 0.6664132497494237\n",
            "------------------------------------------------------------\n",
            "tensor(-1.) 0.46019800890370177 0.0726612326643004\n",
            "------------------------------------------------------------\n",
            "tensor(1.) 0.4578639919107764 0.5790840051052617\n",
            "------------------------------------------------------------\n",
            "tensor(1.) 0.4541942744288588 0.6119577439152044\n",
            "------------------------------------------------------------\n",
            "tensor(1.) 0.4541084185953418 0.6473151696611019\n",
            "------------------------------------------------------------\n",
            "label       orignial similarity   adapted similarity\n",
            "------------------------------------------------------------\n",
            "tensor(1.) 0.4010195585751795 0.7947540385358272\n",
            "------------------------------------------------------------\n",
            "tensor(1.) 0.3908429898870979 0.7428072747660598\n",
            "------------------------------------------------------------\n",
            "tensor(1.) 0.37391478151961777 0.7896086206385733\n",
            "------------------------------------------------------------\n",
            "tensor(1.) 0.34260004832558266 0.7607587720236013\n",
            "------------------------------------------------------------\n",
            "tensor(1.) 0.3380973283848272 0.7772052180013623\n",
            "------------------------------------------------------------\n",
            "tensor(1.) 0.337254966808755 0.7054439036883772\n",
            "------------------------------------------------------------\n",
            "tensor(1.) 0.3367231360830235 0.7467502020626106\n",
            "------------------------------------------------------------\n",
            "tensor(1.) 0.3047089331225501 0.7898203697278254\n",
            "------------------------------------------------------------\n",
            "tensor(1.) 0.29189061871074407 0.7510762841604747\n",
            "------------------------------------------------------------\n",
            "tensor(1.) 0.2872016261897594 0.7677621198288889\n",
            "------------------------------------------------------------\n",
            "label       orignial similarity   adapted similarity\n",
            "------------------------------------------------------------\n",
            "tensor(1.) 0.5035264217613521 0.33578361966298775\n",
            "------------------------------------------------------------\n",
            "tensor(-1.) 0.49952350250476696 0.15671556533349165\n",
            "------------------------------------------------------------\n",
            "tensor(1.) 0.49872206994302376 0.21304038079420826\n",
            "------------------------------------------------------------\n",
            "tensor(1.) 0.49781080808473743 0.2648438572621697\n",
            "------------------------------------------------------------\n",
            "tensor(1.) 0.4878240945403176 0.4422254673944348\n",
            "------------------------------------------------------------\n",
            "tensor(-1.) 0.48365550068845176 -0.015863841420890822\n",
            "------------------------------------------------------------\n",
            "tensor(1.) 0.47674089319450064 0.36542574734496847\n",
            "------------------------------------------------------------\n",
            "tensor(-1.) 0.47496240669636636 -0.05782115304144345\n",
            "------------------------------------------------------------\n",
            "tensor(-1.) 0.4748151768750578 -0.13521557134841306\n",
            "------------------------------------------------------------\n",
            "tensor(1.) 0.47092149695813795 0.20221482973602173\n",
            "------------------------------------------------------------\n",
            "label       orignial similarity   adapted similarity\n",
            "------------------------------------------------------------\n",
            "tensor(1.) 0.5921050423973131 0.19234936939282762\n",
            "------------------------------------------------------------\n",
            "tensor(-1.) 0.5842542172411568 -0.049000285644558245\n",
            "------------------------------------------------------------\n",
            "tensor(-1.) 0.5757511799730939 -0.09733334068204852\n",
            "------------------------------------------------------------\n",
            "tensor(-1.) 0.5220187335996596 -0.07324135157220923\n",
            "------------------------------------------------------------\n",
            "tensor(1.) 0.5171821752701601 0.37199821334389205\n",
            "------------------------------------------------------------\n",
            "tensor(1.) 0.5050793997078495 0.4074039834395399\n",
            "------------------------------------------------------------\n",
            "tensor(1.) 0.5033121449689224 0.33202212445083157\n",
            "------------------------------------------------------------\n",
            "tensor(-1.) 0.5025135266710995 -0.173604876530501\n",
            "------------------------------------------------------------\n",
            "tensor(1.) 0.5018385875369616 0.24913930449732738\n",
            "------------------------------------------------------------\n",
            "tensor(1.) 0.5017899863739952 0.409066468230798\n",
            "------------------------------------------------------------\n",
            "label       orignial similarity   adapted similarity\n",
            "------------------------------------------------------------\n",
            "tensor(1.) 0.5694402526566562 0.34201451804896454\n",
            "------------------------------------------------------------\n",
            "tensor(-1.) 0.49861356001315454 -0.013015084494392311\n",
            "------------------------------------------------------------\n",
            "tensor(1.) 0.47722483951297867 0.4757028434307201\n",
            "------------------------------------------------------------\n",
            "tensor(-1.) 0.46017056026771197 -0.035755695705669145\n",
            "------------------------------------------------------------\n",
            "tensor(-1.) 0.45089688698060515 0.11734743326674846\n",
            "------------------------------------------------------------\n",
            "tensor(1.) 0.44390625436660236 0.4220646879467851\n",
            "------------------------------------------------------------\n",
            "tensor(1.) 0.43818683671845376 0.3887113486715246\n",
            "------------------------------------------------------------\n",
            "tensor(1.) 0.4294360142599477 0.50514492903235\n",
            "------------------------------------------------------------\n",
            "tensor(1.) 0.42217469749562564 0.44794126364144343\n",
            "------------------------------------------------------------\n",
            "tensor(1.) 0.4218524967584655 0.5345337259465481\n",
            "------------------------------------------------------------\n",
            "label       orignial similarity   adapted similarity\n",
            "------------------------------------------------------------\n",
            "tensor(1.) 0.5626799295108281 0.5988099898995377\n",
            "------------------------------------------------------------\n",
            "tensor(1.) 0.5622758938487021 0.7031339260650848\n",
            "------------------------------------------------------------\n",
            "tensor(1.) 0.5297232049943693 0.7189499941948331\n",
            "------------------------------------------------------------\n",
            "tensor(1.) 0.5171790557875537 0.6610784428455136\n",
            "------------------------------------------------------------\n",
            "tensor(1.) 0.5059197904957542 0.7162753649290462\n",
            "------------------------------------------------------------\n",
            "tensor(1.) 0.49600854331781064 0.6837485137585675\n",
            "------------------------------------------------------------\n",
            "tensor(1.) 0.4918759412862 0.7090803643537913\n",
            "------------------------------------------------------------\n",
            "tensor(1.) 0.480940212579941 0.5672874272592874\n",
            "------------------------------------------------------------\n",
            "tensor(1.) 0.4765908352537511 0.4794502982652379\n",
            "------------------------------------------------------------\n",
            "tensor(-1.) 0.47268659144361663 0.25352557465559084\n",
            "------------------------------------------------------------\n",
            "label       orignial similarity   adapted similarity\n",
            "------------------------------------------------------------\n",
            "tensor(1.) 0.6273686344350414 0.5911791169659802\n",
            "------------------------------------------------------------\n",
            "tensor(1.) 0.5771827558330795 0.387161616776701\n",
            "------------------------------------------------------------\n",
            "tensor(1.) 0.5602079604382582 0.683128711969033\n",
            "------------------------------------------------------------\n",
            "tensor(1.) 0.5376108214898756 0.4719024568460054\n",
            "------------------------------------------------------------\n",
            "tensor(1.) 0.5268931101558731 0.44806446205789147\n",
            "------------------------------------------------------------\n",
            "tensor(-1.) 0.5214739045569455 0.25024470956153777\n",
            "------------------------------------------------------------\n",
            "tensor(1.) 0.5203217448078276 0.5444901285005886\n",
            "------------------------------------------------------------\n",
            "tensor(1.) 0.5022780897927909 0.6410034338505698\n",
            "------------------------------------------------------------\n",
            "tensor(-1.) 0.4796991451225027 0.08043362124065723\n",
            "------------------------------------------------------------\n",
            "tensor(1.) 0.45438228468054737 0.5952115868607519\n",
            "------------------------------------------------------------\n",
            "label       orignial similarity   adapted similarity\n",
            "------------------------------------------------------------\n",
            "tensor(-1.) 0.5471019910784086 -0.45010048516891\n",
            "------------------------------------------------------------\n",
            "tensor(1.) 0.5046693784843765 -0.06228707323211904\n",
            "------------------------------------------------------------\n",
            "tensor(1.) 0.4934218245407565 -0.053794535250485706\n",
            "------------------------------------------------------------\n",
            "tensor(-1.) 0.47904033873089236 -0.4575148234920256\n",
            "------------------------------------------------------------\n",
            "tensor(-1.) 0.4787082779759474 -0.33495567849000035\n",
            "------------------------------------------------------------\n",
            "tensor(-1.) 0.4783821288976257 -0.37520883591063536\n",
            "------------------------------------------------------------\n",
            "tensor(1.) 0.47809232583830186 -0.050907188985777646\n",
            "------------------------------------------------------------\n",
            "tensor(-1.) 0.4755299028149893 -0.4630037509462168\n",
            "------------------------------------------------------------\n",
            "tensor(-1.) 0.473935714484087 -0.46721057329463767\n",
            "------------------------------------------------------------\n",
            "tensor(-1.) 0.46853672457362805 -0.35891006376993867\n",
            "------------------------------------------------------------\n"
          ]
        }
      ]
    },
    {
      "cell_type": "code",
      "source": [
        "index = 2\n",
        "print(word_wrap(generated_queries[index]))\n",
        "print(\"\")\n",
        "qe = query_embeddings[index]\n",
        "results = chroma_collection.query(query_embeddings=qe, n_results=5,\n",
        "                                  include=['documents', 'embeddings'])\n",
        "docs = results[\"documents\"]\n",
        "for d in docs:\n",
        "    print(word_wrap(d[0]))"
      ],
      "metadata": {
        "colab": {
          "base_uri": "https://localhost:8080/"
        },
        "id": "GdbhzvJ14Jxs",
        "outputId": "2d8756f6-de9b-4e52-86e2-dfdb9e5d03b9"
      },
      "execution_count": 245,
      "outputs": [
        {
          "output_type": "stream",
          "name": "stdout",
          "text": [
            "3. What is the company's net income for the past year?\n",
            "\n",
            "37 general and administrative expenses include payroll, employee\n",
            "benefits, stock - based compensation expense, and other headcount -\n",
            "related expenses associated with finance, legal, facilities, certain\n",
            "human resources and other administrative personnel, certain taxes, and\n",
            "legal and other administrative fees. general and administrative\n",
            "expenses increased $ 793 million or 16 % driven by investments in\n",
            "corporate functions. other income ( expense ), net the components of\n",
            "other income ( expense ), net were as follows : ( in millions ) year\n",
            "ended june 30, 2022 2021 interest and dividends income $ 2, 094 $ 2,\n",
            "131 interest expense ( 2, 063 ) ( 2, 346 ) net recognized gains on\n",
            "investments 461 1, 232 net gains ( losses ) on derivatives ( 52 ) 17\n",
            "net gains ( losses ) on foreign currency remeasurements ( 75 ) 54\n",
            "other, net ( 32 ) 98 total $ 333 $ 1, 186\n"
          ]
        }
      ]
    },
    {
      "cell_type": "code",
      "source": [
        "print(word_wrap(generated_queries[index]))\n",
        "print(\"\")\n",
        "aqe = adapted_query_embeddings[index].tolist()\n",
        "results = chroma_collection.query(query_embeddings=aqe, n_results=5,\n",
        "                                  include=['documents', 'embeddings'])\n",
        "docs = results[\"documents\"]\n",
        "for d in docs:\n",
        "    print(word_wrap(d[0]))"
      ],
      "metadata": {
        "colab": {
          "base_uri": "https://localhost:8080/"
        },
        "id": "WqVkJHay69c9",
        "outputId": "d29dc1b0-74c8-403c-968d-91fb2f591e0d"
      },
      "execution_count": 246,
      "outputs": [
        {
          "output_type": "stream",
          "name": "stdout",
          "text": [
            "3. What is the company's net income for the past year?\n",
            "\n",
            "48 comprehensive income statements ( in millions ) year ended june 30,\n",
            "2022 2021 2020 net income $ 72, 738 $ 61, 271 $ 44, 281 other\n",
            "comprehensive income ( loss ), net of tax : net change related to\n",
            "derivatives 6 19 ( 38 ) net change related to investments ( 5, 360 ) (\n",
            "2, 266 ) 3, 990 translation adjustments and other ( 1, 146 ) 873 ( 426\n",
            ") other comprehensive income ( loss ) ( 6, 500 ) ( 1, 374 ) 3, 526\n",
            "comprehensive income $ 66, 238 $ 59, 897 $ 47, 807 refer to\n",
            "accompanying notes.\n"
          ]
        }
      ]
    },
    {
      "cell_type": "code",
      "source": [],
      "metadata": {
        "id": "ZkuBdecJXyfr"
      },
      "execution_count": null,
      "outputs": []
    }
  ]
}