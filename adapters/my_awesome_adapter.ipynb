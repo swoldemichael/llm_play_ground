{
  "nbformat": 4,
  "nbformat_minor": 0,
  "metadata": {
    "colab": {
      "provenance": []
    },
    "kernelspec": {
      "name": "python3",
      "display_name": "Python 3"
    },
    "language_info": {
      "name": "python"
    },
    "accelerator": "TPU"
  },
  "cells": [
    {
      "cell_type": "markdown",
      "source": [
        "Adapters are awesome for fine-tuning large language models with minimal effort. Adapters work with Hugging Face Transformers.\n",
        "\n",
        "AdapterHub.ml provides the adapters library. The docs are pretty comfortable to read. Examples are good to follow along:\n",
        "https://adapterhub.ml/\n",
        "\n",
        "They provide a very comfortable library. They have different types of adapter methods or configurations.\n",
        "Learn how to create adapters.\n",
        "\n",
        "Here is a notebook to let you experiment using my adapter:\n",
        "https://huggingface.co/solwol/my-awesome-adapter/tree/main"
      ],
      "metadata": {
        "id": "A1ukKUQnSonP"
      }
    },
    {
      "cell_type": "code",
      "source": [
        "!pip install adapters"
      ],
      "metadata": {
        "id": "OiG4ljTgBDBo"
      },
      "execution_count": null,
      "outputs": []
    },
    {
      "cell_type": "code",
      "source": [
        "from transformers import AutoTokenizer, TextClassificationPipeline\n",
        "from adapters import AutoAdapterModel"
      ],
      "metadata": {
        "id": "s7TLw1_hyLIt"
      },
      "execution_count": null,
      "outputs": []
    },
    {
      "cell_type": "code",
      "source": [
        "tokenizer = AutoTokenizer.from_pretrained(\"roberta-base\")"
      ],
      "metadata": {
        "id": "2mZf9aLgywN1"
      },
      "execution_count": null,
      "outputs": []
    },
    {
      "cell_type": "code",
      "source": [
        "model = AutoAdapterModel.from_pretrained(\"roberta-base\")\n",
        "adapter_name = model.load_adapter(\"solwol/my-awesome-adapter\", source=\"hf\", set_active=True)\n",
        "adapter_name"
      ],
      "metadata": {
        "id": "c7lqS0hEy_r-"
      },
      "execution_count": null,
      "outputs": []
    },
    {
      "cell_type": "code",
      "source": [
        "pipe = TextClassificationPipeline(model=model, tokenizer=tokenizer)"
      ],
      "metadata": {
        "id": "7kb7BgDFAZml"
      },
      "execution_count": null,
      "outputs": []
    },
    {
      "cell_type": "markdown",
      "source": [
        "Below are contrived examples to see how the model thinks. Results depend mostly on the data used to fine-tune the base model (create the adapter).\n",
        "`rotten_tomatoes` data is for movie reviews and words like `sleeping` even when\n",
        "one ` likes them` would get negetive classification; but, in a different context, they get a positive classification; this may be because of negative reviews in the data that contained sentences like `boring movie made me sleepy`. Play with it and see how you can improve this with your own data."
      ],
      "metadata": {
        "id": "aPQ40-mvRx8Z"
      }
    },
    {
      "cell_type": "code",
      "source": [
        "sample_inputs = [\"Adapter hub is awesome\",\n",
        "      \"my ride was terrible\",\n",
        "      \"the food was good but the ambience was not so\",\n",
        "      \"the experience would be good if the ambience was better\",\n",
        "      \"the ambience enhanced my experience\",\n",
        "      \"I like dancing in the rain\",\n",
        "      \"I like sleeping in the rain\",\n",
        "      \"I like dancing and sleeping in the rain\",\n",
        "      \"I like dancing and jumping in the rain\",\n",
        "      \"I like to sleep when it rains\",\n",
        "      \"I like the `actor` who is sleeping in the rain\"\n",
        "      \"rains are awesome\",\n",
        "      \"sleeping is awesome\",\n",
        "      \"I like the song `sleeping in the rain`\",\n",
        "      \"I like the movie `sleeping in the rain`\",\n",
        "      \"I like the movie `dancing in the rain`\"\n",
        "      ]\n",
        "\n",
        "answers  = pipe(sample_inputs)"
      ],
      "metadata": {
        "id": "2kR0k4BoAx_o"
      },
      "execution_count": 28,
      "outputs": []
    },
    {
      "cell_type": "code",
      "source": [
        "pairs = zip(sample_inputs, answers)\n",
        "\n",
        "for input, answer in pairs:\n",
        "    print(input)\n",
        "    print(answer)\n",
        "    print()"
      ],
      "metadata": {
        "colab": {
          "base_uri": "https://localhost:8080/"
        },
        "id": "O8HgXrBrEeit",
        "outputId": "22a3b931-4a9e-494b-f342-9e73efbaba67"
      },
      "execution_count": 29,
      "outputs": [
        {
          "output_type": "stream",
          "name": "stdout",
          "text": [
            "Adapter hub is awesome\n",
            "{'label': '👍', 'score': 0.9651941061019897}\n",
            "\n",
            "my ride was terrible\n",
            "{'label': '👎', 'score': 0.995469331741333}\n",
            "\n",
            "the food was good but the ambience was not so\n",
            "{'label': '👎', 'score': 0.7891050577163696}\n",
            "\n",
            "the experience would be good if the ambience was better\n",
            "{'label': '👎', 'score': 0.9030507206916809}\n",
            "\n",
            "the ambience enhanced my experience\n",
            "{'label': '👍', 'score': 0.9991707801818848}\n",
            "\n",
            "I like dancing in the rain\n",
            "{'label': '👍', 'score': 0.6137126088142395}\n",
            "\n",
            "I like sleeping in the rain\n",
            "{'label': '👎', 'score': 0.8579994440078735}\n",
            "\n",
            "I like dancing and sleeping in the rain\n",
            "{'label': '👎', 'score': 0.607133686542511}\n",
            "\n",
            "I like dancing and jumping in the rain\n",
            "{'label': '👍', 'score': 0.7667813301086426}\n",
            "\n",
            "I like to sleep when it rains\n",
            "{'label': '👎', 'score': 0.8799710273742676}\n",
            "\n",
            "I like the `actor` who is sleeping in the rainrains are awesome\n",
            "{'label': '👍', 'score': 0.8886600732803345}\n",
            "\n",
            "sleeping is awesome\n",
            "{'label': '👍', 'score': 0.8933192491531372}\n",
            "\n",
            "I like the song `sleeping in the rain`\n",
            "{'label': '👍', 'score': 0.8174813985824585}\n",
            "\n",
            "I like the movie `sleeping in the rain`\n",
            "{'label': '👍', 'score': 0.7999934554100037}\n",
            "\n",
            "I like the movie `dancing in the rain`\n",
            "{'label': '👍', 'score': 0.8938090801239014}\n",
            "\n"
          ]
        }
      ]
    },
    {
      "cell_type": "code",
      "source": [],
      "metadata": {
        "id": "H7kFSYXlQUHY"
      },
      "execution_count": null,
      "outputs": []
    }
  ]
}