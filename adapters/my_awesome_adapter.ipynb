{
  "nbformat": 4,
  "nbformat_minor": 0,
  "metadata": {
    "colab": {
      "provenance": []
    },
    "kernelspec": {
      "name": "python3",
      "display_name": "Python 3"
    },
    "language_info": {
      "name": "python"
    }
  },
  "cells": [
    {
      "cell_type": "markdown",
      "source": [
        "Adapters are awesome for fine-tuning large language models with minimal effort. Adapters work with Hugging Face Transformers.\n",
        "\n",
        "AdapterHub.ml provides the adapters library. The docs are pretty comfortable to read. Examples are good to follow along:\n",
        "https://adapterhub.ml/\n",
        "\n",
        "They provide a very comfortable library. They have different types of adapter methods or configurations.\n",
        "Learn how to create adapters.\n",
        "\n",
        "Here is a notebook to let you experiment using my adapter:\n",
        "https://huggingface.co/solwol/my-awesome-adapter/tree/main"
      ],
      "metadata": {
        "id": "A1ukKUQnSonP"
      }
    },
    {
      "cell_type": "code",
      "source": [
        "!pip install transformers adapters"
      ],
      "metadata": {
        "id": "OiG4ljTgBDBo"
      },
      "execution_count": null,
      "outputs": []
    },
    {
      "cell_type": "code",
      "source": [
        "from transformers import AutoTokenizer, TextClassificationPipeline\n",
        "from adapters import AutoAdapterModel"
      ],
      "metadata": {
        "id": "s7TLw1_hyLIt"
      },
      "execution_count": null,
      "outputs": []
    },
    {
      "cell_type": "code",
      "source": [
        "tokenizer = AutoTokenizer.from_pretrained(\"roberta-base\")"
      ],
      "metadata": {
        "id": "2mZf9aLgywN1"
      },
      "execution_count": null,
      "outputs": []
    },
    {
      "cell_type": "code",
      "source": [
        "model = AutoAdapterModel.from_pretrained(\"roberta-base\")\n",
        "adapter_name = model.load_adapter(\"solwol/my-awesome-adapter\", source=\"hf\", set_active=True)\n",
        "adapter_name"
      ],
      "metadata": {
        "id": "c7lqS0hEy_r-"
      },
      "execution_count": null,
      "outputs": []
    },
    {
      "cell_type": "code",
      "source": [
        "classifier = TextClassificationPipeline(model=model, tokenizer=tokenizer)"
      ],
      "metadata": {
        "id": "7kb7BgDFAZml"
      },
      "execution_count": null,
      "outputs": []
    },
    {
      "cell_type": "markdown",
      "source": [
        "Below are contrived examples to see how the model thinks. Results depend mostly on the data used to fine-tune the base model (create the adapter).\n",
        "`rotten_tomatoes` data is for movie reviews and words like `sleeping` even when\n",
        "one ` likes them` would get negetive classification; but, in a different context, they get a positive classification; this may be because of negative reviews in the data that contained sentences like `boring movie made me sleepy`. Play with it and see how you can improve this with your own data."
      ],
      "metadata": {
        "id": "aPQ40-mvRx8Z"
      }
    },
    {
      "cell_type": "code",
      "source": [
        "sample_inputs = [\"Adapter hub is awesome\",\n",
        "      \"my ride was terrible\",\n",
        "      \"the food was good but the ambience was not so\",\n",
        "      \"the experience would be good if the ambience was better\",\n",
        "      \"the ambience enhanced my experience\",\n",
        "      \"I like dancing in the rain\",\n",
        "      \"I like sleeping in the rain\",\n",
        "      \"I like dancing and sleeping in the rain\",\n",
        "      \"I like dancing and jumping in the rain\",\n",
        "      \"I like to sleep when it rains\",\n",
        "      \"I like the `actor` who is sleeping in the rain\",\n",
        "      \"rains are awesome\",\n",
        "      \"sleeping is awesome\",\n",
        "      \"I like the song `sleeping in the rain`\",\n",
        "      \"I like the movie `sleeping in the rain`\",\n",
        "      \"I like the movie `dancing in the rain`\"\n",
        "      ]\n",
        "\n",
        "answers  = classifier(sample_inputs)"
      ],
      "metadata": {
        "id": "2kR0k4BoAx_o"
      },
      "execution_count": 6,
      "outputs": []
    },
    {
      "cell_type": "code",
      "source": [
        "pairs = zip(sample_inputs, answers)\n",
        "\n",
        "for input, answer in pairs:\n",
        "    print(input)\n",
        "    print(answer)\n",
        "    print()"
      ],
      "metadata": {
        "colab": {
          "base_uri": "https://localhost:8080/"
        },
        "id": "O8HgXrBrEeit",
        "outputId": "91e09a81-6022-41fb-a8a2-b7b5cd679cad"
      },
      "execution_count": 7,
      "outputs": [
        {
          "output_type": "stream",
          "name": "stdout",
          "text": [
            "Adapter hub is awesome\n",
            "{'label': '👍', 'score': 0.9764199256896973}\n",
            "\n",
            "my ride was terrible\n",
            "{'label': '👎', 'score': 0.9949766397476196}\n",
            "\n",
            "the food was good but the ambience was not so\n",
            "{'label': '👎', 'score': 0.8765427470207214}\n",
            "\n",
            "the experience would be good if the ambience was better\n",
            "{'label': '👎', 'score': 0.8859145641326904}\n",
            "\n",
            "the ambience enhanced my experience\n",
            "{'label': '👍', 'score': 0.997870683670044}\n",
            "\n",
            "I like dancing in the rain\n",
            "{'label': '👍', 'score': 0.680288553237915}\n",
            "\n",
            "I like sleeping in the rain\n",
            "{'label': '👎', 'score': 0.8354451656341553}\n",
            "\n",
            "I like dancing and sleeping in the rain\n",
            "{'label': '👎', 'score': 0.6576552391052246}\n",
            "\n",
            "I like dancing and jumping in the rain\n",
            "{'label': '👍', 'score': 0.7468987703323364}\n",
            "\n",
            "I like to sleep when it rains\n",
            "{'label': '👎', 'score': 0.8717008829116821}\n",
            "\n",
            "I like the `actor` who is sleeping in the rain\n",
            "{'label': '👎', 'score': 0.7948604226112366}\n",
            "\n",
            "rains are awesome\n",
            "{'label': '👍', 'score': 0.9637765288352966}\n",
            "\n",
            "sleeping is awesome\n",
            "{'label': '👍', 'score': 0.9164507389068604}\n",
            "\n",
            "I like the song `sleeping in the rain`\n",
            "{'label': '👍', 'score': 0.8839947581291199}\n",
            "\n",
            "I like the movie `sleeping in the rain`\n",
            "{'label': '👍', 'score': 0.8519818186759949}\n",
            "\n",
            "I like the movie `dancing in the rain`\n",
            "{'label': '👍', 'score': 0.9123659133911133}\n",
            "\n"
          ]
        }
      ]
    },
    {
      "cell_type": "code",
      "source": [],
      "metadata": {
        "id": "H7kFSYXlQUHY"
      },
      "execution_count": null,
      "outputs": []
    }
  ]
}