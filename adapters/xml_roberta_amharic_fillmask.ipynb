{
  "nbformat": 4,
  "nbformat_minor": 0,
  "metadata": {
    "colab": {
      "provenance": []
    },
    "kernelspec": {
      "name": "python3",
      "display_name": "Python 3"
    },
    "language_info": {
      "name": "python"
    }
  },
  "cells": [
    {
      "cell_type": "code",
      "execution_count": null,
      "metadata": {
        "id": "3uUJ019GC_n-"
      },
      "outputs": [],
      "source": [
        "!pip install adapters"
      ]
    },
    {
      "cell_type": "code",
      "source": [
        "from adapters import AutoAdapterModel\n",
        "\n",
        "model_id = \"xlm-roberta-base\"\n",
        "\n",
        "model = AutoAdapterModel.from_pretrained(model_id)\n",
        "adapter = model.load_adapter(\"solwol/xml-roberta-base-adapter-amharic\", set_active=True)\n",
        "adapter"
      ],
      "metadata": {
        "id": "5cKeqIUwDC6x"
      },
      "execution_count": null,
      "outputs": []
    },
    {
      "cell_type": "code",
      "source": [
        "from transformers import AutoTokenizer\n",
        "\n",
        "tokenizer = AutoTokenizer.from_pretrained(model_id)"
      ],
      "metadata": {
        "id": "9S1OaFtuDlzE"
      },
      "execution_count": null,
      "outputs": []
    },
    {
      "cell_type": "code",
      "source": [
        "inputs = [\"መልካም አዲስ <mask> ይሁን\",\n",
        "         \"የኢትዮጵያ ዋና <mask> አዲስ አበባ ነው\",\n",
        "         \"ኬንያ የ ኢትዮጵያ አዋሳኝ <mask> አንዷ ናት\",\n",
        "         \"አጼ ምኒሊክ የኢትዮጵያ <mask> ነበሩ\"]\n",
        "encodes = tokenizer(inputs, return_tensors=\"pt\", padding=True)\n",
        "tokens = tokenizer.batch_decode(encodes[\"input_ids\"])\n",
        "tokens"
      ],
      "metadata": {
        "colab": {
          "base_uri": "https://localhost:8080/"
        },
        "id": "XgtlIl2OEHpC",
        "outputId": "0783cafa-c7a5-4469-ca21-c6c5d00ffa47"
      },
      "execution_count": 4,
      "outputs": [
        {
          "output_type": "execute_result",
          "data": {
            "text/plain": [
              "['<s> መልካም አዲስ<mask> ይሁን</s><pad><pad><pad><pad><pad><pad><pad><pad><pad><pad>',\n",
              " '<s> የኢትዮጵያ ዋና<mask> አዲስ አበባ ነው</s><pad><pad><pad><pad><pad><pad><pad><pad>',\n",
              " '<s> ኬንያ የ ኢትዮጵያ አዋሳኝ<mask> አንዷ ናት</s>',\n",
              " '<s> አጼ ምኒሊክ የኢትዮጵያ<mask> ነበሩ</s><pad><pad><pad><pad><pad><pad>']"
            ]
          },
          "metadata": {},
          "execution_count": 4
        }
      ]
    },
    {
      "cell_type": "code",
      "source": [
        "from transformers import FillMaskPipeline\n",
        "fillmask = FillMaskPipeline(model=model, tokenizer=tokenizer)"
      ],
      "metadata": {
        "id": "gAC8KjCPFdoA"
      },
      "execution_count": 5,
      "outputs": []
    },
    {
      "cell_type": "code",
      "source": [
        "outputs = fillmask(inputs)\n",
        "outputs[0]"
      ],
      "metadata": {
        "colab": {
          "base_uri": "https://localhost:8080/"
        },
        "id": "KdRXIS4gFyIw",
        "outputId": "2f103176-51c6-441e-c3ca-6328f253f30c"
      },
      "execution_count": 7,
      "outputs": [
        {
          "output_type": "execute_result",
          "data": {
            "text/plain": [
              "[{'score': 0.4049586057662964,\n",
              "  'token': 98040,\n",
              "  'token_str': 'አመት',\n",
              "  'sequence': 'መልካም አዲስ አመት ይሁን'},\n",
              " {'score': 0.21424812078475952,\n",
              "  'token': 48425,\n",
              "  'token_str': 'ዘመን',\n",
              "  'sequence': 'መልካም አዲስ ዘመን ይሁን'},\n",
              " {'score': 0.2039182484149933,\n",
              "  'token': 25186,\n",
              "  'token_str': 'ዓመት',\n",
              "  'sequence': 'መልካም አዲስ ዓመት ይሁን'},\n",
              " {'score': 0.06508922576904297,\n",
              "  'token': 17733,\n",
              "  'token_str': 'ቀን',\n",
              "  'sequence': 'መልካም አዲስ ቀን ይሁን'},\n",
              " {'score': 0.018085109069943428,\n",
              "  'token': 38455,\n",
              "  'token_str': 'ዓለም',\n",
              "  'sequence': 'መልካም አዲስ ዓለም ይሁን'}]"
            ]
          },
          "metadata": {},
          "execution_count": 7
        }
      ]
    },
    {
      "cell_type": "code",
      "source": [],
      "metadata": {
        "id": "zAjwo0ZDcpyu"
      },
      "execution_count": null,
      "outputs": []
    }
  ]
}