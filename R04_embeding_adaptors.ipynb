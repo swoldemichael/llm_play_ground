{
 "cells": [
  {
   "cell_type": "markdown",
   "metadata": {
    "id": "bsE5acPAhFCR"
   },
   "source": [
    "The purpose of this notebook is to show how to train adapter\n",
    "models to transform query embeddings based on user feedback.\n",
    "\n",
    "In this notebook, both queries and feedbacks are generated with the an LLM model. So, this is for demonstration purposes. You may obtain better fitted adapter model with actual user feedback.\n",
    "\n",
    "You will train a simple adapter model, transform model genenerated queires and see if you can get same, worse or better documents retrieved with the adapted queries.\n",
    "\n",
    "The leanrned adapter matrix is influenced by the distribution of +ve and -ve labels. So, there is a tendency to transform to one rigon on the embedding space if we have more +ve or -ve labels.\n",
    "\n",
    "This notebook is adapted from:\n",
    "https://learn.deeplearning.ai/advanced-retrieval-for-ai/lesson/6/embedding-adaptors\n",
    "\n",
    "Notebook is created on SageMaker Studio Lab (free)"
   ]
  },
  {
   "cell_type": "code",
   "execution_count": null,
   "metadata": {
    "id": "J13c1ujFSJi6",
    "tags": []
   },
   "outputs": [],
   "source": [
    "%pip install --upgrade --quiet pypdf python-dotenv umap-learn chromadb \\\n",
    "    langchain huggingface_hub sentence-transformers"
   ]
  },
  {
   "cell_type": "code",
   "execution_count": 1,
   "metadata": {
    "colab": {
     "base_uri": "https://localhost:8080/"
    },
    "id": "I7lb3ro57hPG",
    "outputId": "ec15c688-5c5b-47dc-cad5-0a0e38da54a7",
    "tags": []
   },
   "outputs": [
    {
     "name": "stdout",
     "output_type": "stream",
     "text": [
      "Token will not been saved to git credential helper. Pass `add_to_git_credential=True` if you want to set the git credential as well.\n",
      "Token is valid (permission: read).\n",
      "Your token has been saved to /home/studio-lab-user/.cache/huggingface/token\n",
      "Login successful\n"
     ]
    }
   ],
   "source": [
    "import os\n",
    "from dotenv import load_dotenv, find_dotenv\n",
    "from huggingface_hub import login\n",
    "_ = load_dotenv(find_dotenv()) # read local .env file\n",
    "hugging_face_access_token = os.environ['HUGGINGFACEHUB_API_TOKEN']\n",
    "login(hugging_face_access_token)"
   ]
  },
  {
   "cell_type": "code",
   "execution_count": 2,
   "metadata": {
    "id": "Lahzkg4ETIeY",
    "tags": []
   },
   "outputs": [
    {
     "name": "stderr",
     "output_type": "stream",
     "text": [
      "/home/studio-lab-user/.conda/envs/default/lib/python3.9/site-packages/torch/_utils.py:831: UserWarning: TypedStorage is deprecated. It will be removed in the future and UntypedStorage will be the only storage class. This should only matter to you if you are using storages directly.  To access UntypedStorage directly, use tensor.untyped_storage() instead of tensor.storage()\n",
      "  return self.fget.__get__(instance, owner)()\n"
     ]
    },
    {
     "data": {
      "text/plain": [
       "349"
      ]
     },
     "execution_count": 2,
     "metadata": {},
     "output_type": "execute_result"
    }
   ],
   "source": [
    "from embedding_utils import load_chroma, word_wrap\n",
    "from chromadb.utils.embedding_functions import SentenceTransformerEmbeddingFunction\n",
    "\n",
    "embedding_function = SentenceTransformerEmbeddingFunction()\n",
    "\n",
    "chroma_collection = load_chroma(filename='microsoft_annual_report_2022.pdf',\n",
    "    collection_name='microsoft_annual_report_2022',\n",
    "    embedding_function=embedding_function)\n",
    "\n",
    "chroma_collection.count()"
   ]
  },
  {
   "cell_type": "code",
   "execution_count": 39,
   "metadata": {
    "id": "VfSGcXb-3XMV",
    "tags": []
   },
   "outputs": [],
   "source": [
    "import numpy as np\n",
    "from tqdm import tqdm\n",
    "def project_embeddings(embeddings, umap_transform):\n",
    "    umap_embeddings = np.empty((len(embeddings),2))\n",
    "    for i, embedding in enumerate(tqdm(embeddings)):\n",
    "        umap_embeddings[i] = umap_transform.transform([embedding])\n",
    "    return umap_embeddings"
   ]
  },
  {
   "cell_type": "code",
   "execution_count": 41,
   "metadata": {
    "colab": {
     "base_uri": "https://localhost:8080/"
    },
    "id": "jsxwQrruVJbs",
    "outputId": "86c22957-eee9-4a29-d01b-930534ff0543",
    "tags": []
   },
   "outputs": [
    {
     "name": "stderr",
     "output_type": "stream",
     "text": [
      "/home/studio-lab-user/.conda/envs/default/lib/python3.9/site-packages/umap/umap_.py:1943: UserWarning: n_jobs value -1 overridden to 1 by setting random_state. Use no seed for parallelism.\n",
      "  warn(f\"n_jobs value {self.n_jobs} overridden to 1 by setting random_state. Use no seed for parallelism.\")\n",
      "100%|██████████| 349/349 [06:07<00:00,  1.05s/it]\n"
     ]
    }
   ],
   "source": [
    "# https://pypi.org/project/umap-learn/\n",
    "import umap\n",
    "embeddings = chroma_collection.get(include=['embeddings'])['embeddings']\n",
    "umap_transform = umap.UMAP(random_state=0, transform_seed=0).fit(embeddings)\n",
    "projected_dataset_embeddings = project_embeddings(embeddings, umap_transform)"
   ]
  },
  {
   "cell_type": "code",
   "execution_count": 4,
   "metadata": {
    "id": "RGfQfJGj8kuy",
    "tags": []
   },
   "outputs": [],
   "source": [
    "from dataclasses import dataclass\n",
    "\n",
    "@dataclass\n",
    "class PlotLayer:\n",
    "    embedding: list\n",
    "    size: int = None\n",
    "    color: str = None\n",
    "    facecolor: str = None\n",
    "    edgecolor: str = None\n",
    "    marker: str = None\n",
    "    label: str = None\n",
    "\n",
    "%matplotlib inline\n",
    "import matplotlib.pyplot as plt\n",
    "\n",
    "def plot_projections(title, PlotLayers: list[PlotLayer], legend: list[str] = []) -> None:\n",
    "    plt.figure()\n",
    "    for PlotLayer in PlotLayers:\n",
    "        plt.scatter(PlotLayer.embedding[:, 0], PlotLayer.embedding[:, 1],\n",
    "            s=PlotLayer.size, marker=PlotLayer.marker, color=PlotLayer.color,\n",
    "            facecolor = PlotLayer.facecolor, edgecolor=PlotLayer.edgecolor)\n",
    "\n",
    "    plt.gca().set_aspect('equal', 'datalim')\n",
    "    plt.title(title)\n",
    "    plt.axis('off')\n",
    "    if len(legend) > 0:\n",
    "        plt.legend(legend)"
   ]
  },
  {
   "cell_type": "code",
   "execution_count": 5,
   "metadata": {
    "colab": {
     "base_uri": "https://localhost:8080/",
     "height": 356,
     "referenced_widgets": [
      "825d998b583a4d3ab1f1a4ec44747139",
      "9ed95e50bb4e469abdc0f595f9e671f9",
      "7cb41f32b0c244e6b46ad196e7f8612e",
      "894dcf6587df4735ae1ea380ec8a7cb6",
      "1daf109263c84d07a30c7d12d53fa5f8",
      "cdd4ed09093848e4a8819620f68799b4",
      "bec366f5b6a84166a1b4e5d62fc36f85",
      "ced86ee911774b77a782006331bc401e",
      "a4bfc37e855f49a88eb48aa7ca554e95",
      "b075914a735645e08e008a786c4598b3",
      "14e946c4bd3f4e7eb295b120266fd87a",
      "5bc0a81781d44c749423967e464ce9c0",
      "67cbe3fe94af45f2a452dd518ca24d59",
      "3666584c783e408abca01c8076c1cbb4",
      "9da42de9f6ea4048bafd5b027eb5d063",
      "c756d598ec9d444e83a03f96a2735cb7",
      "51d8f23ab3a843a4af0cb7982a5c8e43",
      "839cd5ac24d24f91b920d6569232d492",
      "af42c78485bb471a805e4107071c2005",
      "6deeb9438c9a4c199b72f41251e84a50",
      "f31d59bc6147494e9a818dbb788c1989",
      "102c914bc651429aae2d4bdaabef47f7",
      "636e028370de4598ae4b78ee42dac220",
      "a7d4ba030d6a430b940632fe687f8d4b",
      "46437c608ebc4dd48b4a645b21195002",
      "56a39aa0c5434b33aa6fb70409186874",
      "c0f1e6e385504fcc98b5661fbb41f903",
      "80f31a6015fd4602b75c2db5ada4fbd5",
      "3183441602f04b5a9a101eb426f74e01",
      "db9a12b899624a92b4599d77c3de08b7",
      "72f515430a594b5f80fc0756d45459bf",
      "be3db1c4584d4c35a1947005b380a54a",
      "60df4b231d03446aa17a735fb82f3dd6",
      "63e1301b22874f32bcc823739bcd1299",
      "2429eea3f9a047c4b84491a03df06b7e",
      "a5fcbc1d299a443cbe760ee93f9405a3",
      "3f9f30effcef407695737da5eabc097a",
      "8eaae38b20c44990851ef9a28a90cbee",
      "d98a917cf3b84a3cbb4d9e3922579f70",
      "aba5887a53d246608fe9e20b2c177fdd",
      "d7e87610e69f48c599c8496e521bff82",
      "368b59d10b9b4827bf13d7a199f311b2",
      "66996b4b1f87484cada1dc192843b280",
      "c4483bb9676c4ed89696fa0535f3aeca",
      "17a5bf5f9175493380132d5fcd5e9e23",
      "0c0c3a33be2a4a8f8911e55aa3ecb95f",
      "d9af64a0707447ee8558de9ca3e0053b",
      "5aeeb802b112497e884f1050aee00205",
      "b6e5b5a3674c46aeb1f1be79e66b50a2",
      "af8d32da420e4faa952d4465bade2c37",
      "11ea25458a2e44369b5c3123a085b004",
      "9b5a2bca16144aa7b6450715da4b526a",
      "1bc32219699f4030950a6f8354584b2e",
      "897f622661f64181b8619a1fe3cecb84",
      "70b7c5a2562a4a1c92e12f694d2cb6a4"
     ]
    },
    "id": "w9sdo0MoI2RG",
    "outputId": "b80f7aed-9bd4-4cea-a63d-9d93dfcbae60",
    "tags": []
   },
   "outputs": [
    {
     "name": "stderr",
     "output_type": "stream",
     "text": [
      "WARNING! repo_id is not default parameter.\n",
      "                    repo_id was transferred to model_kwargs.\n",
      "                    Please confirm that repo_id is what you intended.\n",
      "WARNING! task is not default parameter.\n",
      "                    task was transferred to model_kwargs.\n",
      "                    Please confirm that task is what you intended.\n",
      "WARNING! huggingfacehub_api_token is not default parameter.\n",
      "                    huggingfacehub_api_token was transferred to model_kwargs.\n",
      "                    Please confirm that huggingfacehub_api_token is what you intended.\n"
     ]
    }
   ],
   "source": [
    "import llm_utils\n",
    "llm = llm_utils.HuggingFaceHub(\n",
    "    repo_id=\"HuggingFaceH4/zephyr-7b-beta\",\n",
    "    task=\"text-generation\",\n",
    "    model_kwargs={\n",
    "        \"max_new_tokens\": 512,\n",
    "        \"top_k\": 30,\n",
    "        \"temperature\": 0.1,\n",
    "        \"repetition_penalty\": 1.03,\n",
    "    },\n",
    ")\n",
    "\n",
    "chat_model = llm_utils.ChatHuggingFace(llm=llm)"
   ]
  },
  {
   "cell_type": "code",
   "execution_count": 6,
   "metadata": {
    "id": "eramcy_Lh3FZ",
    "tags": []
   },
   "outputs": [],
   "source": [
    "from langchain.schema import HumanMessage, SystemMessage\n",
    "from langchain.prompts import ChatPromptTemplate\n",
    "def generate_queries(chat_model):\n",
    "\n",
    "    system_message = \"\"\"\n",
    "        You are a helpful expert financial research assistant.\n",
    "        You help users analyze financial statements to better\n",
    "        understand companies. Suggest 10 to 16 short questions that\n",
    "        are important to ask when analyzing an annual report.\n",
    "        Do not output any compound questions\n",
    "        (questions with multiple sentences or conjunctions).\n",
    "        Output each question on a separate line divided by a newline.\n",
    "    \"\"\"\n",
    "\n",
    "    messages = [\n",
    "      SystemMessage(content=system_message),\n",
    "      HumanMessage(\n",
    "        content=\"Follow instructions when generating queries\"\n",
    "\n",
    "      ),\n",
    "    ]\n",
    "\n",
    "    response = chat_model.invoke(messages)\n",
    "    response = response.content.split(\"\\n\")\n",
    "    return response"
   ]
  },
  {
   "cell_type": "markdown",
   "metadata": {},
   "source": [
    "#### Note: you probably need to sample or clean these queries, for example if too many were generated or empty spaces were included, etc. This depends on the power of the LLM you are using."
   ]
  },
  {
   "cell_type": "code",
   "execution_count": 7,
   "metadata": {
    "colab": {
     "base_uri": "https://localhost:8080/"
    },
    "id": "jl1kkoAGjzWq",
    "outputId": "97f0140d-8e8f-4ad9-e64f-200768487b34",
    "tags": []
   },
   "outputs": [
    {
     "name": "stdout",
     "output_type": "stream",
     "text": [
      "1. What is the company's revenue for the past year?\n",
      "2. How does this year's revenue compare to the previous year's revenue?\n",
      "3. What is the company's net income for the past year?\n",
      "4. How does this year's net income compare to the previous year's net income?\n",
      "5. What is the company's gross profit margin?\n",
      "6. Has the gross profit margin increased, decreased, or remained the same from the previous year?\n",
      "7. What is the company's current ratio?\n",
      "8. Is the current ratio higher or lower than the previous year's current ratio?\n",
      "9. What is the company's debt-to-equity ratio?\n",
      "10. Has the debt-to-equity ratio increased, decreased, or remained the same from the previous year?\n",
      "11. What is the company's return on equity (ROE)?\n",
      "12. How does this year's ROE compare to the previous year's ROE?\n",
      "13. What is the company's inventory turnover ratio?\n",
      "14. Has the inventory turnover ratio increased, decreased, or remained the same from the previous year?\n",
      "15. What is the company's accounts receivable turnover ratio?\n",
      "16. Has the accounts receivable turnover ratio increased, decreased, or remained the same from the previous year?\n"
     ]
    }
   ],
   "source": [
    "generated_queries = generate_queries(chat_model=chat_model)\n",
    "for query in generated_queries:\n",
    "    print(query)"
   ]
  },
  {
   "cell_type": "code",
   "execution_count": 8,
   "metadata": {
    "colab": {
     "base_uri": "https://localhost:8080/"
    },
    "id": "rESsDl7hkMN0",
    "outputId": "59d9f52c-bb25-4f12-acf5-fe3b23bc421c",
    "tags": []
   },
   "outputs": [
    {
     "name": "stdout",
     "output_type": "stream",
     "text": [
      "160\n"
     ]
    },
    {
     "data": {
      "text/plain": [
       "16"
      ]
     },
     "execution_count": 8,
     "metadata": {},
     "output_type": "execute_result"
    }
   ],
   "source": [
    "results = chroma_collection.query(query_texts=generated_queries, n_results=10,\n",
    "                                  include=['documents', 'embeddings'])\n",
    "retrieved_documents = results['documents']\n",
    "print(len(retrieved_documents) * len(retrieved_documents[0]))\n",
    "\n",
    "retrieved_embeddings = results['embeddings']\n",
    "\n",
    "# generated query embeddings\n",
    "query_embeddings = embedding_function(generated_queries)\n",
    "len(query_embeddings)"
   ]
  },
  {
   "cell_type": "markdown",
   "metadata": {},
   "source": [
    "#### The prompt below depends on the model\n",
    "#### The model won't probably follow instructions\n",
    "#### So you need to adapt it to your use"
   ]
  },
  {
   "cell_type": "code",
   "execution_count": 9,
   "metadata": {
    "id": "wCW-qFj4llpl",
    "tags": []
   },
   "outputs": [],
   "source": [
    "def evaluate_results(query, statement, chat_model):\n",
    "\n",
    "    system_message = \"\"\"\n",
    "        You are a helpful expert financial research assistant.\n",
    "        You help users analyze financial statements\n",
    "        to better understand companies.\n",
    "        For the given query, evaluate whether the following satement is relevant.\n",
    "        Answer yes or no.\n",
    "    \"\"\"\n",
    "\n",
    "    messages = [\n",
    "      SystemMessage(content=system_message),\n",
    "      HumanMessage(\n",
    "        content=f\"Query: {query}, Statement: {statement}\"\n",
    "\n",
    "      ),\n",
    "    ]\n",
    "\n",
    "    response = chat_model.invoke(messages)\n",
    "    content = response.content\n",
    "    if len(content.strip()) > 0:\n",
    "        if 'yes' in content or  \"Yes\" in content:\n",
    "            return 1\n",
    "        if 'no' in content or \"No\" in content:\n",
    "            return -1\n",
    "    return 0\n"
   ]
  },
  {
   "cell_type": "code",
   "execution_count": 10,
   "metadata": {
    "id": "wNeer5YuoUX6",
    "tags": []
   },
   "outputs": [],
   "source": [
    "adapter_query_embeddings = [] # for query embeddings\n",
    "adapter_doc_embeddings = [] # for result embeddings\n",
    "adapter_labels = [] # for generated labels"
   ]
  },
  {
   "cell_type": "code",
   "execution_count": 11,
   "metadata": {
    "id": "z8NxboYapxf4",
    "tags": []
   },
   "outputs": [
    {
     "name": "stderr",
     "output_type": "stream",
     "text": [
      "100%|██████████| 16/16 [19:03<00:00, 71.46s/it]\n"
     ]
    }
   ],
   "source": [
    "# q and d are used as list indices\n",
    "# query and document are texts that are evaluated\n",
    "# label is the result of query and document evaluation\n",
    "\n",
    "for q, query in enumerate(tqdm(generated_queries)):\n",
    "    for d, document in enumerate(retrieved_documents[q]):\n",
    "        if len(document.strip()) != 0:\n",
    "            label = evaluate_results(query, document, chat_model)\n",
    "            if label == 1 or label == -1:\n",
    "                adapter_query_embeddings.append(query_embeddings[q])\n",
    "                adapter_doc_embeddings.append(retrieved_embeddings[q][d])\n",
    "                adapter_labels.append(label)"
   ]
  },
  {
   "cell_type": "code",
   "execution_count": 12,
   "metadata": {
    "colab": {
     "base_uri": "https://localhost:8080/"
    },
    "id": "uQ5HOQrwsIog",
    "outputId": "dd7a408e-7ca8-4fc4-f85e-b9621dbbc0f4",
    "tags": []
   },
   "outputs": [
    {
     "data": {
      "text/plain": [
       "(156, 156, 156)"
      ]
     },
     "execution_count": 12,
     "metadata": {},
     "output_type": "execute_result"
    }
   ],
   "source": [
    "len(adapter_labels), len(adapter_query_embeddings), len(adapter_doc_embeddings)"
   ]
  },
  {
   "cell_type": "code",
   "execution_count": 55,
   "metadata": {
    "tags": []
   },
   "outputs": [
    {
     "name": "stdout",
     "output_type": "stream",
     "text": [
      "positives = 30.0 and negatives = -126.0\n"
     ]
    }
   ],
   "source": [
    "p = sum([n for n in adapter_labels if n == 1])\n",
    "n = sum([n for n in adapter_labels if n == -1])\n",
    "print(f\"positives = {p} and negatives = {n}\")"
   ]
  },
  {
   "cell_type": "markdown",
   "metadata": {},
   "source": [
    "As you can see, most of the labels are negative and our adapter matrix will be influenced towards making queries more negative. Your model may return balance, more positive or more negative labels."
   ]
  },
  {
   "cell_type": "code",
   "execution_count": 29,
   "metadata": {
    "colab": {
     "base_uri": "https://localhost:8080/"
    },
    "id": "YSYHwNNxxDuL",
    "outputId": "fdda64b7-321a-4528-bbd5-18b94c0b02df",
    "tags": []
   },
   "outputs": [
    {
     "name": "stdout",
     "output_type": "stream",
     "text": [
      "torch.Size([156, 384]) torch.Size([156, 384]) torch.Size([156])\n"
     ]
    }
   ],
   "source": [
    "import torch\n",
    "from torch.utils.data import TensorDataset\n",
    "\n",
    "adapter_query_embeddings = torch.Tensor(adapter_query_embeddings)\n",
    "adapter_doc_embeddings = torch.Tensor(adapter_doc_embeddings)\n",
    "adapter_labels = torch.Tensor(adapter_labels)\n",
    "adapter_labels = adapter_labels.reshape(adapter_labels.shape[0],)\n",
    "\n",
    "#check shapes match for TensorDataSet creation\n",
    "print(adapter_query_embeddings.shape, adapter_doc_embeddings.shape, adapter_labels.shape)\n",
    "\n",
    "dataset = TensorDataset(adapter_query_embeddings, adapter_doc_embeddings, adapter_labels)"
   ]
  },
  {
   "cell_type": "code",
   "execution_count": 30,
   "metadata": {
    "id": "J-RNZVM9fF7N",
    "tags": []
   },
   "outputs": [],
   "source": [
    "class AdapterModel(torch.nn.Module):\n",
    "    def __init__(self, adpater_matrix_shape):\n",
    "        super().__init__()\n",
    "        self.adapter_matrix = torch.nn.Parameter(\n",
    "            torch.zeros(adpater_matrix_shape),\n",
    "            requires_grad=True)\n",
    "\n",
    "        # try different initializaiton methods\n",
    "        torch.nn.init.xavier_uniform_(self.adapter_matrix)\n",
    "\n",
    "    def forward(self, input):\n",
    "        output = self.adapter_matrix @ input.t()\n",
    "        return output.t()"
   ]
  },
  {
   "cell_type": "code",
   "execution_count": 31,
   "metadata": {
    "id": "TRN_UXWXf86D",
    "tags": []
   },
   "outputs": [],
   "source": [
    "def get_model():\n",
    "    model = AdapterModel((384, 384))\n",
    "    return model"
   ]
  },
  {
   "cell_type": "code",
   "execution_count": 32,
   "metadata": {
    "colab": {
     "base_uri": "https://localhost:8080/"
    },
    "id": "FO__Z6egorYt",
    "outputId": "b0291578-c7dc-4649-e794-14d2ea112e26",
    "tags": []
   },
   "outputs": [
    {
     "name": "stdout",
     "output_type": "stream",
     "text": [
      "torch.Size([384, 384])\n",
      "Parameter containing:\n",
      "tensor([[-0.0407,  0.0765, -0.0735,  ...,  0.0749, -0.0676,  0.0298],\n",
      "        [-0.0623, -0.0272,  0.0451,  ..., -0.0563, -0.0235,  0.0543],\n",
      "        [-0.0733, -0.0675,  0.0452,  ...,  0.0749, -0.0413,  0.0147],\n",
      "        ...,\n",
      "        [-0.0072,  0.0225,  0.0426,  ..., -0.0498,  0.0473, -0.0272],\n",
      "        [ 0.0121, -0.0410,  0.0283,  ..., -0.0048, -0.0553, -0.0117],\n",
      "        [ 0.0280,  0.0495, -0.0825,  ..., -0.0133, -0.0516,  0.0774]],\n",
      "       requires_grad=True)\n"
     ]
    }
   ],
   "source": [
    "model = get_model()\n",
    "for p in model.parameters():\n",
    "    print(p.shape)\n",
    "    print(p)"
   ]
  },
  {
   "cell_type": "code",
   "execution_count": 79,
   "metadata": {
    "colab": {
     "base_uri": "https://localhost:8080/"
    },
    "id": "UqFqYYtFip8R",
    "outputId": "83403c9f-b6ec-46aa-fbad-a8808b57fe69",
    "tags": []
   },
   "outputs": [
    {
     "data": {
      "text/plain": [
       "torch.Size([3, 384])"
      ]
     },
     "execution_count": 79,
     "metadata": {},
     "output_type": "execute_result"
    }
   ],
   "source": [
    "model = get_model()\n",
    "test_vectors = torch.ones([3, 384])\n",
    "test_vector.shape\n",
    "result = model(test_vectors)\n",
    "result.shape"
   ]
  },
  {
   "cell_type": "code",
   "execution_count": 34,
   "metadata": {
    "id": "zm-jtQYsS5du",
    "tags": []
   },
   "outputs": [],
   "source": [
    "# define train function\n",
    "def train(model, optimizer, loss_func, epochs=100):\n",
    "    optimizer.zero_grad()\n",
    "    for epoch in tqdm(range(epochs)):\n",
    "        for query_embedding, document_embedding, label in dataset:\n",
    "            updated_query_embedding = model(query_embedding)\n",
    "            cosine_similarity = F.cosine_similarity(updated_query_embedding, document_embedding, dim=0)\n",
    "            loss = loss_func(cosine_similarity, label)\n",
    "            loss.backward()\n",
    "            optimizer.step()\n",
    "            optimizer.zero_grad()\n",
    "    print(\"\\n\")\n",
    "    print(f\"loss = {loss.detach().numpy()}\")\n"
   ]
  },
  {
   "cell_type": "code",
   "execution_count": 83,
   "metadata": {
    "colab": {
     "base_uri": "https://localhost:8080/"
    },
    "id": "lGB1gtdG9tvK",
    "outputId": "f19b8d15-6a37-4716-9533-bb49bd9bff09",
    "tags": []
   },
   "outputs": [
    {
     "name": "stderr",
     "output_type": "stream",
     "text": [
      "100%|██████████| 100/100 [00:22<00:00,  4.36it/s]"
     ]
    },
    {
     "name": "stdout",
     "output_type": "stream",
     "text": [
      "\n",
      "\n",
      "loss = 0.14351259171962738\n"
     ]
    },
    {
     "name": "stderr",
     "output_type": "stream",
     "text": [
      "\n"
     ]
    }
   ],
   "source": [
    "import torch.nn.functional as F\n",
    "from torch import optim\n",
    "\n",
    "model = get_model()\n",
    "\n",
    "# create a loss function\n",
    "def loss_function(cosine_similarity, label):\n",
    "    return F.mse_loss(cosine_similarity, label)\n",
    "\n",
    "# crete an optimizer\n",
    "optimizer = optim.SGD(model.parameters(), lr=0.01)\n",
    "\n",
    "#train\n",
    "train(model=model, optimizer=optimizer, loss_func=loss_function)"
   ]
  },
  {
   "cell_type": "markdown",
   "metadata": {},
   "source": [
    "As we have anticipated, the model is shrinking dimensions. This is the result of too many negative labels in the model's evaluation of quries and retrieved documents. Because LLM results are non-deterministic, I can't say if this distribution of +ve and -ve labels is accurate or not."
   ]
  },
  {
   "cell_type": "code",
   "execution_count": 90,
   "metadata": {
    "colab": {
     "base_uri": "https://localhost:8080/",
     "height": 430
    },
    "id": "UwDf_-fRxRFX",
    "outputId": "a40c0c64-1cb1-4400-c5f2-df9b16cd2383",
    "tags": []
   },
   "outputs": [
    {
     "data": {
      "image/png": "[encoded data removed]",
      "text/plain": [
       "<Figure size 640x480 with 1 Axes>"
      ]
     },
     "metadata": {},
     "output_type": "display_data"
    }
   ],
   "source": [
    "# The transformation of a unit vector by the lreaned adapter matrix.\n",
    "# Some of the dimenstion are stretched in the positive and some\n",
    "# in the opposite dimensions. Some are shrinked to 0\n",
    "\n",
    "test_vector = torch.ones(384)\n",
    "\n",
    "model.eval()\n",
    "with torch.no_grad():\n",
    "    scaled_vector = model(test_vector)\n",
    "\n",
    "plt.plot(scaled_vector.numpy())\n",
    "plt.show()"
   ]
  },
  {
   "cell_type": "markdown",
   "metadata": {},
   "source": [
    "Transform query embedding using the trained adapter matrix"
   ]
  },
  {
   "cell_type": "code",
   "execution_count": 77,
   "metadata": {
    "colab": {
     "base_uri": "https://localhost:8080/"
    },
    "id": "HgbsYuwGxkX_",
    "outputId": "257d5f28-f91d-4a57-cee5-56a7046172d9",
    "tags": []
   },
   "outputs": [
    {
     "name": "stderr",
     "output_type": "stream",
     "text": [
      "100%|██████████| 16/16 [00:19<00:00,  1.22s/it]\n",
      "100%|██████████| 16/16 [00:17<00:00,  1.09s/it]\n"
     ]
    }
   ],
   "source": [
    "query_embeddings = embedding_function(generated_queries)\n",
    "\n",
    "input_query_embeddings = torch.Tensor(query_embeddings)\n",
    "\n",
    "with torch.no_grad():\n",
    "    adapted_query_embeddings = model(input_query_embeddings).numpy()\n",
    "\n",
    "projected_query_embeddings = project_embeddings(query_embeddings, umap_transform)\n",
    "projected_adapted_query_embeddings = project_embeddings(adapted_query_embeddings, umap_transform)"
   ]
  },
  {
   "cell_type": "markdown",
   "metadata": {},
   "source": [
    "You can see that the adapter matrix shifted results to certain parts of the embedding space."
   ]
  },
  {
   "cell_type": "code",
   "execution_count": 78,
   "metadata": {
    "colab": {
     "base_uri": "https://localhost:8080/",
     "height": 428
    },
    "id": "oCl3zKshxxXN",
    "outputId": "5d166a71-b457-404e-d455-5f4b61eb32f7",
    "tags": []
   },
   "outputs": [
    {
     "data": {
      "image/png": "[encoded data removed]",
      "text/plain": [
       "<Figure size 640x480 with 1 Axes>"
      ]
     },
     "metadata": {},
     "output_type": "display_data"
    }
   ],
   "source": [
    "# Plot the projected query and retrieved documents in the embedding space\n",
    "# Notice how queries are now appearing\n",
    "layers = [PlotLayer(projected_dataset_embeddings, size=10, color='gray', label=\"embeding space\"),\n",
    "               PlotLayer(projected_query_embeddings, size=150, marker='X', color='r', label=\"original\"),\n",
    "               PlotLayer(projected_adapted_query_embeddings, size=150, marker='X', color='green', label=\"adapted\" )]\n",
    "plot_projections(\"Adapted queries\", layers, [\"embeding space\", \"original\", \"adapted\"])"
   ]
  },
  {
   "cell_type": "code",
   "execution_count": 61,
   "metadata": {
    "colab": {
     "base_uri": "https://localhost:8080/"
    },
    "id": "fLl3Ywdj_fIL",
    "outputId": "135efd14-3eb8-4f5b-e02b-c7b1e819983f",
    "tags": []
   },
   "outputs": [
    {
     "name": "stdout",
     "output_type": "stream",
     "text": [
      "label       orignial similarity   adapted similarity\n",
      "------------------------------------------------------------\n",
      "tensor(-1.) 0.5732989511351894 -0.1412449710817114\n",
      "------------------------------------------------------------\n",
      "tensor(1.) 0.5565748562849344 0.4417865683362831\n",
      "------------------------------------------------------------\n",
      "tensor(1.) 0.5508922804343204 0.5100411206056531\n",
      "------------------------------------------------------------\n",
      "tensor(1.) 0.5382811072769018 0.3189831551623042\n",
      "------------------------------------------------------------\n",
      "tensor(-1.) 0.5361228632778401 0.05587418216320944\n",
      "------------------------------------------------------------\n",
      "tensor(-1.) 0.5344083908585426 0.13188004246149898\n",
      "------------------------------------------------------------\n",
      "tensor(1.) 0.5339079388047 0.2438254669817415\n",
      "------------------------------------------------------------\n",
      "tensor(1.) 0.5277888274623441 0.5114655250085908\n",
      "------------------------------------------------------------\n",
      "tensor(1.) 0.5261167124213905 0.36409190907172273\n",
      "------------------------------------------------------------\n",
      "tensor(1.) 0.5184547008625711 0.3278112018325597\n",
      "------------------------------------------------------------\n",
      "label       orignial similarity   adapted similarity\n",
      "------------------------------------------------------------\n",
      "tensor(-1.) 0.5653966082508692 -0.13001135453623558\n",
      "------------------------------------------------------------\n",
      "tensor(1.) 0.548091305927854 0.3178172364396644\n",
      "------------------------------------------------------------\n",
      "tensor(1.) 0.5390825903542904 0.26350291741154447\n",
      "------------------------------------------------------------\n",
      "tensor(-1.) 0.5311240108416535 -0.2154125810927846\n",
      "------------------------------------------------------------\n",
      "tensor(1.) 0.5233234687635073 0.29651125200954165\n",
      "------------------------------------------------------------\n",
      "tensor(-1.) 0.5184057478910618 -0.06519638515556175\n",
      "------------------------------------------------------------\n",
      "tensor(-1.) 0.5177518244793868 -0.12859755953752053\n",
      "------------------------------------------------------------\n",
      "tensor(1.) 0.5127272661262905 0.3154552371130571\n",
      "------------------------------------------------------------\n",
      "tensor(1.) 0.49780276347172764 0.0826052993233316\n",
      "------------------------------------------------------------\n",
      "tensor(-1.) 0.4954130268398107 -0.20541949143478305\n",
      "------------------------------------------------------------\n",
      "label       orignial similarity   adapted similarity\n",
      "------------------------------------------------------------\n",
      "tensor(-1.) 0.5754763686387967 -0.19664796525567896\n",
      "------------------------------------------------------------\n",
      "tensor(1.) 0.5674922886371656 0.1702872384807612\n",
      "------------------------------------------------------------\n",
      "tensor(-1.) 0.5674648669851542 -0.3384545781766376\n",
      "------------------------------------------------------------\n",
      "tensor(-1.) 0.5655687619264447 0.03739491203065947\n",
      "------------------------------------------------------------\n",
      "tensor(1.) 0.5556207757714419 -0.08775636425357783\n",
      "------------------------------------------------------------\n",
      "tensor(1.) 0.5507724789800752 0.10232896330653252\n",
      "------------------------------------------------------------\n",
      "tensor(-1.) 0.5488030977940982 0.18024811065516183\n",
      "------------------------------------------------------------\n",
      "tensor(-1.) 0.5383657916821136 0.11775507099954668\n",
      "------------------------------------------------------------\n",
      "tensor(-1.) 0.529447051730227 -0.2687780806927047\n",
      "------------------------------------------------------------\n",
      "tensor(1.) 0.5225146971971076 -0.3779316057633598\n",
      "------------------------------------------------------------\n",
      "label       orignial similarity   adapted similarity\n",
      "------------------------------------------------------------\n",
      "tensor(-1.) 0.5914631657662524 -0.2466153782352709\n",
      "------------------------------------------------------------\n",
      "tensor(-1.) 0.5075380026432268 0.20422938528326925\n",
      "------------------------------------------------------------\n",
      "tensor(-1.) 0.5039041393279929 -0.3402330913316086\n",
      "------------------------------------------------------------\n",
      "tensor(1.) 0.4962848677833375 -0.011164916209526338\n",
      "------------------------------------------------------------\n",
      "tensor(-1.) 0.49278888863199594 -0.3204634520717912\n",
      "------------------------------------------------------------\n",
      "tensor(1.) 0.492718706002115 0.1687872274172219\n",
      "------------------------------------------------------------\n",
      "tensor(1.) 0.4888435821772855 -0.2602885574419782\n",
      "------------------------------------------------------------\n",
      "tensor(1.) 0.48557037114022383 0.11807043576562254\n",
      "------------------------------------------------------------\n",
      "tensor(1.) 0.48253343540627036 0.2058511570593543\n",
      "------------------------------------------------------------\n",
      "tensor(1.) 0.4645298237472757 0.2284336233411376\n",
      "------------------------------------------------------------\n",
      "label       orignial similarity   adapted similarity\n",
      "------------------------------------------------------------\n",
      "tensor(-1.) 0.5622759732063644 0.17524345452421092\n",
      "------------------------------------------------------------\n",
      "tensor(-1.) 0.5297232617478693 0.12367162611934594\n",
      "------------------------------------------------------------\n",
      "tensor(1.) 0.517179084418476 -0.6184471093138458\n",
      "------------------------------------------------------------\n",
      "tensor(-1.) 0.5059198686976216 -0.43701924232863487\n",
      "------------------------------------------------------------\n",
      "tensor(-1.) 0.49600864200500083 -0.385673489821467\n",
      "------------------------------------------------------------\n",
      "tensor(-1.) 0.49187597900551727 0.2161487351479877\n",
      "------------------------------------------------------------\n",
      "tensor(-1.) 0.4809402416853581 -0.4432243025454903\n",
      "------------------------------------------------------------\n",
      "tensor(-1.) 0.47659088212428036 -0.5246777469266903\n",
      "------------------------------------------------------------\n",
      "tensor(1.) 0.4726866253942835 -0.5775767689433761\n",
      "------------------------------------------------------------\n",
      "tensor(-1.) 0.4725151406884227 -0.35293663436848727\n",
      "------------------------------------------------------------\n",
      "label       orignial similarity   adapted similarity\n",
      "------------------------------------------------------------\n",
      "tensor(-1.) 0.5867261823555487 -0.5353439458631183\n",
      "------------------------------------------------------------\n",
      "tensor(-1.) 0.5861442789437432 -0.34455356780716045\n",
      "------------------------------------------------------------\n",
      "tensor(-1.) 0.5327903206848041 -0.41433583624648146\n",
      "------------------------------------------------------------\n",
      "tensor(-1.) 0.5178373097432388 -0.7117294119849682\n",
      "------------------------------------------------------------\n",
      "tensor(-1.) 0.5138661367968294 -0.6577122130608174\n",
      "------------------------------------------------------------\n",
      "tensor(-1.) 0.5083994964731965 -0.6886432414185731\n",
      "------------------------------------------------------------\n",
      "tensor(-1.) 0.4974111631390785 -0.7008742991683966\n",
      "------------------------------------------------------------\n",
      "tensor(1.) 0.4897663522759232 -0.6336062542171047\n",
      "------------------------------------------------------------\n",
      "tensor(-1.) 0.4791653788633231 -0.6380615911050622\n",
      "------------------------------------------------------------\n",
      "tensor(1.) 0.47822973701763855 -0.5751171758290148\n",
      "------------------------------------------------------------\n",
      "label       orignial similarity   adapted similarity\n",
      "------------------------------------------------------------\n",
      "tensor(-1.) 0.48006860874880497 -0.10635786940138449\n",
      "------------------------------------------------------------\n",
      "tensor(-1.) 0.46365448102059176 -0.6495975261726198\n",
      "------------------------------------------------------------\n",
      "tensor(-1.) 0.45008885938318266 -0.4259147217296275\n",
      "------------------------------------------------------------\n",
      "tensor(-1.) 0.44452222294072496 -0.7207353916727463\n",
      "------------------------------------------------------------\n",
      "tensor(-1.) 0.4387302261519659 -0.6007473036927808\n",
      "------------------------------------------------------------\n",
      "tensor(-1.) 0.4271757714817303 -0.7060421644310161\n",
      "------------------------------------------------------------\n",
      "tensor(-1.) 0.42508520521949744 -0.415767067321104\n",
      "------------------------------------------------------------\n",
      "tensor(-1.) 0.4247155375937895 -0.6080460371869958\n",
      "------------------------------------------------------------\n",
      "tensor(-1.) 0.4238971412804298 -0.5239478455098369\n",
      "------------------------------------------------------------\n",
      "tensor(-1.) 0.42136658332519616 -0.5731883033332228\n",
      "------------------------------------------------------------\n",
      "label       orignial similarity   adapted similarity\n",
      "------------------------------------------------------------\n",
      "tensor(-1.) 0.37045052306952997 -0.6819136423485497\n",
      "------------------------------------------------------------\n",
      "tensor(-1.) 0.33376225621129674 -0.6725688139755457\n",
      "------------------------------------------------------------\n",
      "tensor(-1.) 0.3227437357377656 -0.7077771419850758\n",
      "------------------------------------------------------------\n",
      "tensor(-1.) 0.3092450699923011 -0.5954929211304508\n",
      "------------------------------------------------------------\n",
      "tensor(-1.) 0.30223105377100323 -0.6947144566755417\n",
      "------------------------------------------------------------\n",
      "tensor(-1.) 0.2985049195522134 -0.667409966615925\n",
      "------------------------------------------------------------\n",
      "tensor(-1.) 0.28916341099206994 -0.5967535554886959\n",
      "------------------------------------------------------------\n",
      "tensor(1.) 0.287964610214333 -0.6587666306428097\n",
      "------------------------------------------------------------\n",
      "tensor(-1.) 0.28687447643583774 -0.5610578208506823\n",
      "------------------------------------------------------------\n",
      "tensor(-1.) 0.28356341551467 -0.6377884108945241\n",
      "------------------------------------------------------------\n",
      "label       orignial similarity   adapted similarity\n",
      "------------------------------------------------------------\n",
      "tensor(-1.) 0.5566440569520192 -0.40103993325245585\n",
      "------------------------------------------------------------\n",
      "tensor(-1.) 0.5129449971811078 -0.7513376395854705\n",
      "------------------------------------------------------------\n",
      "tensor(-1.) 0.504800188663342 -0.5625086450346901\n",
      "------------------------------------------------------------\n",
      "tensor(-1.) 0.5045867755950209 -0.6381524779964834\n",
      "------------------------------------------------------------\n",
      "tensor(-1.) 0.4895180007511102 -0.6593135929482569\n",
      "------------------------------------------------------------\n",
      "tensor(-1.) 0.4791574923805586 -0.6982304260379844\n",
      "------------------------------------------------------------\n",
      "tensor(-1.) 0.4601979583924875 -0.6616178439722848\n",
      "------------------------------------------------------------\n",
      "tensor(-1.) 0.45786389846486275 -0.6600062818934178\n",
      "------------------------------------------------------------\n",
      "tensor(-1.) 0.4541943062119471 -0.6870547071870308\n",
      "------------------------------------------------------------\n",
      "tensor(-1.) 0.4541084311093804 -0.6831038243902559\n",
      "------------------------------------------------------------\n",
      "label       orignial similarity   adapted similarity\n",
      "------------------------------------------------------------\n",
      "tensor(-1.) 0.5278538380748701 -0.7616582917916247\n",
      "------------------------------------------------------------\n",
      "tensor(-1.) 0.5073173379154504 -0.5022298466984012\n",
      "------------------------------------------------------------\n",
      "tensor(-1.) 0.5054983729620403 -0.6871311395715684\n",
      "------------------------------------------------------------\n",
      "tensor(-1.) 0.48764042285896586 -0.6595594620263335\n",
      "------------------------------------------------------------\n",
      "tensor(-1.) 0.48653745021766825 -0.6847728873828168\n",
      "------------------------------------------------------------\n",
      "tensor(-1.) 0.4668176316079589 -0.7182431405250331\n",
      "------------------------------------------------------------\n",
      "tensor(-1.) 0.4668136098229223 -0.6573364548031628\n",
      "------------------------------------------------------------\n",
      "tensor(-1.) 0.4655815197439133 -0.7142739818108726\n",
      "------------------------------------------------------------\n",
      "tensor(-1.) 0.44703025339573005 -0.7097500531410914\n",
      "------------------------------------------------------------\n",
      "tensor(-1.) 0.44561929049176685 -0.6553945812239617\n",
      "------------------------------------------------------------\n",
      "label       orignial similarity   adapted similarity\n",
      "------------------------------------------------------------\n",
      "tensor(-1.) 0.5275490293655819 -0.5278358935506702\n",
      "------------------------------------------------------------\n",
      "tensor(-1.) 0.4971501503144317 -0.6925409919034244\n",
      "------------------------------------------------------------\n",
      "tensor(-1.) 0.4955450147783999 -0.6482429284218141\n",
      "------------------------------------------------------------\n",
      "tensor(-1.) 0.4925103562869045 -0.5169316644713371\n",
      "------------------------------------------------------------\n",
      "tensor(-1.) 0.48746196775132467 -0.6475363800920988\n",
      "------------------------------------------------------------\n",
      "tensor(1.) 0.48179703542502766 -0.6825221561216794\n",
      "------------------------------------------------------------\n",
      "tensor(-1.) 0.47148587947286025 -0.5877782631203647\n",
      "------------------------------------------------------------\n",
      "tensor(-1.) 0.4655921041137091 -0.6586413284530619\n",
      "------------------------------------------------------------\n",
      "tensor(-1.) 0.4476548669934346 -0.643319955648501\n",
      "------------------------------------------------------------\n",
      "tensor(-1.) 0.446376235096426 -0.38300189592384826\n",
      "------------------------------------------------------------\n",
      "label       orignial similarity   adapted similarity\n",
      "------------------------------------------------------------\n",
      "tensor(-1.) 0.3453551352947983 -0.5697887487763753\n",
      "------------------------------------------------------------\n",
      "tensor(1.) 0.29979160297507174 -0.540699687253108\n",
      "------------------------------------------------------------\n",
      "tensor(-1.) 0.29620873880452037 -0.5776493121532881\n",
      "------------------------------------------------------------\n",
      "tensor(-1.) 0.29424471556204584 -0.5847193404173447\n",
      "------------------------------------------------------------\n",
      "tensor(-1.) 0.2923304150952879 -0.5784178453445451\n",
      "------------------------------------------------------------\n",
      "tensor(-1.) 0.2908652224589172 -0.23576688688116948\n",
      "------------------------------------------------------------\n",
      "tensor(-1.) 0.2790075452338038 -0.5905277737176278\n",
      "------------------------------------------------------------\n",
      "tensor(-1.) 0.2776061633707048 -0.5544427416042456\n",
      "------------------------------------------------------------\n",
      "tensor(-1.) 0.27708188570137615 -0.6375122372390045\n",
      "------------------------------------------------------------\n",
      "tensor(-1.) 0.2709240522483591 -0.47785733113347917\n",
      "------------------------------------------------------------\n",
      "label       orignial similarity   adapted similarity\n",
      "------------------------------------------------------------\n",
      "tensor(-1.) 0.5025700518442391 -0.7755759776127022\n",
      "------------------------------------------------------------\n",
      "tensor(-1.) 0.4765254595079465 -0.7852737319316393\n",
      "------------------------------------------------------------\n",
      "tensor(-1.) 0.46311878926123456 -0.6981813573855902\n",
      "------------------------------------------------------------\n",
      "tensor(-1.) 0.4556806786499378 -0.8390553167380783\n",
      "------------------------------------------------------------\n",
      "tensor(-1.) 0.44065861926018246 -0.7248570525734815\n",
      "------------------------------------------------------------\n",
      "tensor(-1.) 0.43653835016197967 -0.6848718355461213\n",
      "------------------------------------------------------------\n",
      "tensor(-1.) 0.43620628547763457 -0.835580840347931\n",
      "------------------------------------------------------------\n",
      "tensor(-1.) 0.4349158821851468 -0.7931664798425373\n",
      "------------------------------------------------------------\n",
      "tensor(-1.) 0.4317731246575625 -0.6656525780421372\n",
      "------------------------------------------------------------\n",
      "tensor(-1.) 0.42503005628540586 -0.7400054713401092\n",
      "------------------------------------------------------------\n",
      "label       orignial similarity   adapted similarity\n",
      "------------------------------------------------------------\n",
      "tensor(-1.) 0.4858680705465838 -0.7373168714696964\n",
      "------------------------------------------------------------\n",
      "tensor(-1.) 0.4732932995777165 -0.7238621435187087\n",
      "------------------------------------------------------------\n",
      "tensor(-1.) 0.45900788336338916 -0.6916204624300037\n",
      "------------------------------------------------------------\n",
      "tensor(-1.) 0.44501206703227003 -0.6213105927341219\n",
      "------------------------------------------------------------\n",
      "tensor(-1.) 0.44182646720434693 -0.7545191374693889\n",
      "------------------------------------------------------------\n",
      "tensor(-1.) 0.4389637273637561 -0.7692004252171314\n",
      "------------------------------------------------------------\n",
      "tensor(-1.) 0.43546761082826413 -0.6935273802386446\n",
      "------------------------------------------------------------\n",
      "tensor(-1.) 0.4329709088387743 -0.7943279690892525\n",
      "------------------------------------------------------------\n",
      "tensor(-1.) 0.42395274656929305 -0.599628007771408\n",
      "------------------------------------------------------------\n",
      "tensor(-1.) 0.42280430736944064 -0.6693386101014842\n",
      "------------------------------------------------------------\n",
      "label       orignial similarity   adapted similarity\n",
      "------------------------------------------------------------\n",
      "tensor(-1.) 0.5352064297418764 -0.7272960471139566\n",
      "------------------------------------------------------------\n",
      "tensor(-1.) 0.5170425822295314 -0.8154186194484783\n",
      "------------------------------------------------------------\n",
      "tensor(-1.) 0.5047047044506834 -0.7637461462157541\n",
      "------------------------------------------------------------\n",
      "tensor(-1.) 0.4938974100079656 -0.7695961045752024\n",
      "------------------------------------------------------------\n",
      "tensor(-1.) 0.4936734021210198 -0.7727814576856002\n",
      "------------------------------------------------------------\n",
      "tensor(-1.) 0.49250247005127024 -0.831636440249208\n",
      "------------------------------------------------------------\n",
      "tensor(-1.) 0.4803543545396991 -0.7150031595512962\n",
      "------------------------------------------------------------\n",
      "tensor(-1.) 0.4787666122888561 -0.7481674767182117\n",
      "------------------------------------------------------------\n",
      "tensor(-1.) 0.468208279469172 -0.7540943961649476\n",
      "------------------------------------------------------------\n",
      "tensor(-1.) 0.45643330380264857 -0.6456327247390263\n",
      "------------------------------------------------------------\n",
      "label       orignial similarity   adapted similarity\n",
      "------------------------------------------------------------\n",
      "tensor(1.) 0.5634993442936529 -0.7344498564700301\n",
      "------------------------------------------------------------\n",
      "tensor(-1.) 0.5271121277405437 -0.7526341676671733\n",
      "------------------------------------------------------------\n",
      "tensor(-1.) 0.4988906128187618 -0.7651524894662245\n",
      "------------------------------------------------------------\n",
      "tensor(-1.) 0.4837219460491844 -0.6067361181682978\n",
      "------------------------------------------------------------\n",
      "tensor(-1.) 0.48277543004440004 -0.4326334167293655\n",
      "------------------------------------------------------------\n",
      "tensor(-1.) 0.4806502743021897 -0.7180260597677128\n",
      "------------------------------------------------------------\n",
      "tensor(-1.) 0.4730056290880215 -0.6598087743397234\n",
      "------------------------------------------------------------\n",
      "tensor(-1.) 0.4668936486649448 -0.8029699068056331\n",
      "------------------------------------------------------------\n",
      "tensor(-1.) 0.4632060555053798 -0.7650482552600393\n",
      "------------------------------------------------------------\n",
      "tensor(-1.) 0.4573681041172811 -0.627925657711384\n",
      "------------------------------------------------------------\n"
     ]
    }
   ],
   "source": [
    "label_index = 0\n",
    "\n",
    "for i in range(len(query_embeddings)):\n",
    "      print(\"label       orignial similarity   adapted similarity\")\n",
    "      print(\"-\"*60)\n",
    "      for j in range(len(retrieved_embeddings[i])):\n",
    "\n",
    "          label = adapter_labels[label_index]\n",
    "\n",
    "          old_query_embedding = torch.tensor(query_embeddings[i])\n",
    "          adapted_query = torch.tensor(adapted_query_embeddings[i])\n",
    "\n",
    "          sim0 = torch.cosine_similarity(old_query_embedding, adapted_query, dim=0).numpy()\n",
    "\n",
    "          document_embedding = torch.tensor(np.array(retrieved_embeddings[i][j]))\n",
    "\n",
    "          sim1 = torch.cosine_similarity(old_query_embedding, document_embedding, dim=0).numpy()\n",
    "          sim2 = torch.cosine_similarity(adapted_query, document_embedding, dim=0).numpy()\n",
    "\n",
    "          print(label, sim1, sim2)\n",
    "        \n",
    "          if label_index < len(adapter_labels)-1:\n",
    "\n",
    "              label_index += 1\n",
    "\n",
    "          print(\"-\"*60)\n"
   ]
  },
  {
   "cell_type": "markdown",
   "metadata": {},
   "source": [
    "Some of the queries are made better and some worse. Play with it and see why?"
   ]
  },
  {
   "cell_type": "code",
   "execution_count": 75,
   "metadata": {
    "colab": {
     "base_uri": "https://localhost:8080/"
    },
    "id": "GdbhzvJ14Jxs",
    "outputId": "2d8756f6-de9b-4e52-86e2-dfdb9e5d03b9",
    "tags": []
   },
   "outputs": [
    {
     "name": "stdout",
     "output_type": "stream",
     "text": [
      "3. What is the company's net income for the past year?\n",
      "\n",
      "37 general and administrative expenses include payroll, employee\n",
      "benefits, stock - based compensation expense, and other headcount -\n",
      "related expenses associated with finance, legal, facilities, certain\n",
      "human resources and other administrative personnel, certain taxes, and\n",
      "legal and other administrative fees. general and administrative\n",
      "expenses increased $ 793 million or 16 % driven by investments in\n",
      "corporate functions. other income ( expense ), net the components of\n",
      "other income ( expense ), net were as follows : ( in millions ) year\n",
      "ended june 30, 2022 2021 interest and dividends income $ 2, 094 $ 2,\n",
      "131 interest expense ( 2, 063 ) ( 2, 346 ) net recognized gains on\n",
      "investments 461 1, 232 net gains ( losses ) on derivatives ( 52 ) 17\n",
      "net gains ( losses ) on foreign currency remeasurements ( 75 ) 54\n",
      "other, net ( 32 ) 98 total $ 333 $ 1, 186\n"
     ]
    }
   ],
   "source": [
    "index = 2\n",
    "print(word_wrap(generated_queries[index]))\n",
    "print(\"\")\n",
    "qe = query_embeddings[index]\n",
    "results = chroma_collection.query(query_embeddings=qe, n_results=5,\n",
    "                                  include=['documents', 'embeddings'])\n",
    "docs = results[\"documents\"]\n",
    "for d in docs:\n",
    "    print(word_wrap(d[0]))"
   ]
  },
  {
   "cell_type": "code",
   "execution_count": 76,
   "metadata": {
    "colab": {
     "base_uri": "https://localhost:8080/"
    },
    "id": "WqVkJHay69c9",
    "outputId": "d29dc1b0-74c8-403c-968d-91fb2f591e0d",
    "tags": []
   },
   "outputs": [
    {
     "name": "stdout",
     "output_type": "stream",
     "text": [
      "3. What is the company's net income for the past year?\n",
      "\n",
      "['net income $ 72, 738 $ 61, 271 $ 44, 281 earnings per share : basic $ 9. 70 $ 8. 12 $ 5. 82 diluted $ 9. 65 $ 8. 05 $ 5. 76 weighted average shares outstanding : basic 7, 496 7, 547 7, 610 diluted 7, 540 7, 608 7, 683 refer to accompanying notes.', 'excluding tac, growth revenue from search and news advertising excluding traffic acquisition costs ( “ tac ” ) paid to bing ads network publishers and news partners summary results of operations ( in millions, except percentages and per share amounts ) 2022 2021 percentage change revenue $ 198, 270 $ 168, 088 18 % gross margin 135, 620 115, 856 17 % operating income 83, 383 69, 916 19 % net income 72, 738 61, 271 19 % diluted earnings per share 9. 65 8. 05 20 % adjusted net income ( non - gaap ) 69, 447 60, 651 15 % adjusted diluted earnings per share ( non - gaap ) 9. 21 7. 97 16 % adjusted net income and adjusted diluted earnings per share ( “ eps ” ) are non - gaap financial measures which exclude the net income tax benefit related to transfer of intangible properties in the first quarter of fiscal year 2022 and the', 'officer, fable group inc. board committees 1. audit committee 2. compensation committee 3. governance and nominating committee 4. environmental, social, and public policy committee executive officers satya nadella chairman and chief executive officer amy e. hood executive vice president and chief financial officer judson althoff executive vice president and chief commercial officer bradford l. smith vice chair and president christopher c. capossela executive vice president, marketing and consumer business, and chief marketing officer christopher d. young executive vice president, business development, strategy, and ventures kathleen t. hogan executive vice president and chief human resources officer', '50 cash flows statements ( in millions ) year ended june 30, 2022 2021 2020 operations net income $ 72, 738 $ 61, 271 $ 44, 281 adjustments to reconcile net income to net cash from operations : depreciation, amortization, and other 14, 460 11, 686 12, 796 stock - based compensation expense 7, 502 6, 118 5, 289 net recognized gains on investments and derivatives ( 409 ) ( 1, 249 ) ( 219 ) deferred income taxes ( 5, 702 ) ( 150 ) 11 changes in operating assets and liabilities : accounts receivable ( 6, 834 ) ( 6, 481 ) ( 2, 577 ) inventories ( 1, 123 ) ( 737 ) 168 other current assets ( 709 ) ( 932 ) ( 2, 330 ) other long - term assets ( 2, 805 ) ( 3, 459 ) ( 1, 037 ) accounts payable 2, 943 2, 798 3, 018 unearned revenue 5, 109 4, 633 2, 212 income taxes 696 ( 2, 309 ) ( 3, 631 ) other current liabilities 2, 344 4, 149 1, 346', '78 dividends our board of directors declared the following dividends : declaration date record date payment date dividend per share amount fiscal year 2022 ( in millions ) september 14, 2021 november 18, 2021 december 9, 2021 $ 0. 62 $ 4, 652 december 7, 2021 february 17, 2022 march 10, 2022 0. 62 4, 645 march 14, 2022 may 19, 2022 june 9, 2022 0. 62 4, 632 june 14, 2022 august 18, 2022 september 8, 2022 0. 62 4, 627 total $ 2. 48 $ 18, 556 fiscal year 2021 september 15, 2020 november 19, 2020 december 10, 2020 $ 0. 56 $ 4, 230 december 2, 2020 february 18, 2021 march 11, 2021 0. 56 4, 221 march 16, 2021 may 20, 2021 june 10, 2021 0. 56 4, 214 june 16, 2021 august 19, 2021 september 9, 2021 0. 56 4, 206 total']\n"
     ]
    }
   ],
   "source": [
    "print(word_wrap(generated_queries[index]))\n",
    "print(\"\")\n",
    "aqe = adapted_query_embeddings[index].tolist()\n",
    "results = chroma_collection.query(query_embeddings=aqe, n_results=5,\n",
    "                                  include=['documents', 'embeddings'])\n",
    "docs = results[\"documents\"]\n",
    "for d in docs:\n",
    "    print(word_wrap(d))"
   ]
  },
  {
   "cell_type": "code",
   "execution_count": null,
   "metadata": {
    "id": "ZkuBdecJXyfr"
   },
   "outputs": [],
   "source": []
  }
 ],
 "metadata": {
  "colab": {
   "provenance": []
  },
  "kernelspec": {
   "display_name": "default:Python",
   "language": "python",
   "name": "conda-env-default-py"
  },
  "language_info": {
   "codemirror_mode": {
    "name": "ipython",
    "version": 3
   },
   "file_extension": ".py",
   "mimetype": "text/x-python",
   "name": "python",
   "nbconvert_exporter": "python",
   "pygments_lexer": "ipython3",
   "version": "3.9.16"
  },
  "widgets": {
   "application/vnd.jupyter.widget-state+json": {
    "0c0c3a33be2a4a8f8911e55aa3ecb95f": {
     "model_module": "@jupyter-widgets/controls",
     "model_module_version": "1.5.0",
     "model_name": "HTMLModel",
     "state": {
      "_dom_classes": [],
      "_model_module": "@jupyter-widgets/controls",
      "_model_module_version": "1.5.0",
      "_model_name": "HTMLModel",
      "_view_count": null,
      "_view_module": "@jupyter-widgets/controls",
      "_view_module_version": "1.5.0",
      "_view_name": "HTMLView",
      "description": "",
      "description_tooltip": null,
      "layout": "IPY_MODEL_af8d32da420e4faa952d4465bade2c37",
      "placeholder": "​",
      "style": "IPY_MODEL_11ea25458a2e44369b5c3123a085b004",
      "value": "special_tokens_map.json: 100%"
     }
    },
    "102c914bc651429aae2d4bdaabef47f7": {
     "model_module": "@jupyter-widgets/controls",
     "model_module_version": "1.5.0",
     "model_name": "DescriptionStyleModel",
     "state": {
      "_model_module": "@jupyter-widgets/controls",
      "_model_module_version": "1.5.0",
      "_model_name": "DescriptionStyleModel",
      "_view_count": null,
      "_view_module": "@jupyter-widgets/base",
      "_view_module_version": "1.2.0",
      "_view_name": "StyleView",
      "description_width": ""
     }
    },
    "11ea25458a2e44369b5c3123a085b004": {
     "model_module": "@jupyter-widgets/controls",
     "model_module_version": "1.5.0",
     "model_name": "DescriptionStyleModel",
     "state": {
      "_model_module": "@jupyter-widgets/controls",
      "_model_module_version": "1.5.0",
      "_model_name": "DescriptionStyleModel",
      "_view_count": null,
      "_view_module": "@jupyter-widgets/base",
      "_view_module_version": "1.2.0",
      "_view_name": "StyleView",
      "description_width": ""
     }
    },
    "14e946c4bd3f4e7eb295b120266fd87a": {
     "model_module": "@jupyter-widgets/controls",
     "model_module_version": "1.5.0",
     "model_name": "DescriptionStyleModel",
     "state": {
      "_model_module": "@jupyter-widgets/controls",
      "_model_module_version": "1.5.0",
      "_model_name": "DescriptionStyleModel",
      "_view_count": null,
      "_view_module": "@jupyter-widgets/base",
      "_view_module_version": "1.2.0",
      "_view_name": "StyleView",
      "description_width": ""
     }
    },
    "17a5bf5f9175493380132d5fcd5e9e23": {
     "model_module": "@jupyter-widgets/controls",
     "model_module_version": "1.5.0",
     "model_name": "HBoxModel",
     "state": {
      "_dom_classes": [],
      "_model_module": "@jupyter-widgets/controls",
      "_model_module_version": "1.5.0",
      "_model_name": "HBoxModel",
      "_view_count": null,
      "_view_module": "@jupyter-widgets/controls",
      "_view_module_version": "1.5.0",
      "_view_name": "HBoxView",
      "box_style": "",
      "children": [
       "IPY_MODEL_0c0c3a33be2a4a8f8911e55aa3ecb95f",
       "IPY_MODEL_d9af64a0707447ee8558de9ca3e0053b",
       "IPY_MODEL_5aeeb802b112497e884f1050aee00205"
      ],
      "layout": "IPY_MODEL_b6e5b5a3674c46aeb1f1be79e66b50a2"
     }
    },
    "1bc32219699f4030950a6f8354584b2e": {
     "model_module": "@jupyter-widgets/controls",
     "model_module_version": "1.5.0",
     "model_name": "ProgressStyleModel",
     "state": {
      "_model_module": "@jupyter-widgets/controls",
      "_model_module_version": "1.5.0",
      "_model_name": "ProgressStyleModel",
      "_view_count": null,
      "_view_module": "@jupyter-widgets/base",
      "_view_module_version": "1.2.0",
      "_view_name": "StyleView",
      "bar_color": null,
      "description_width": ""
     }
    },
    "1daf109263c84d07a30c7d12d53fa5f8": {
     "model_module": "@jupyter-widgets/base",
     "model_module_version": "1.2.0",
     "model_name": "LayoutModel",
     "state": {
      "_model_module": "@jupyter-widgets/base",
      "_model_module_version": "1.2.0",
      "_model_name": "LayoutModel",
      "_view_count": null,
      "_view_module": "@jupyter-widgets/base",
      "_view_module_version": "1.2.0",
      "_view_name": "LayoutView",
      "align_content": null,
      "align_items": null,
      "align_self": null,
      "border": null,
      "bottom": null,
      "display": null,
      "flex": null,
      "flex_flow": null,
      "grid_area": null,
      "grid_auto_columns": null,
      "grid_auto_flow": null,
      "grid_auto_rows": null,
      "grid_column": null,
      "grid_gap": null,
      "grid_row": null,
      "grid_template_areas": null,
      "grid_template_columns": null,
      "grid_template_rows": null,
      "height": null,
      "justify_content": null,
      "justify_items": null,
      "left": null,
      "margin": null,
      "max_height": null,
      "max_width": null,
      "min_height": null,
      "min_width": null,
      "object_fit": null,
      "object_position": null,
      "order": null,
      "overflow": null,
      "overflow_x": null,
      "overflow_y": null,
      "padding": null,
      "right": null,
      "top": null,
      "visibility": null,
      "width": null
     }
    },
    "2429eea3f9a047c4b84491a03df06b7e": {
     "model_module": "@jupyter-widgets/controls",
     "model_module_version": "1.5.0",
     "model_name": "HTMLModel",
     "state": {
      "_dom_classes": [],
      "_model_module": "@jupyter-widgets/controls",
      "_model_module_version": "1.5.0",
      "_model_name": "HTMLModel",
      "_view_count": null,
      "_view_module": "@jupyter-widgets/controls",
      "_view_module_version": "1.5.0",
      "_view_name": "HTMLView",
      "description": "",
      "description_tooltip": null,
      "layout": "IPY_MODEL_d98a917cf3b84a3cbb4d9e3922579f70",
      "placeholder": "​",
      "style": "IPY_MODEL_aba5887a53d246608fe9e20b2c177fdd",
      "value": "added_tokens.json: 100%"
     }
    },
    "3183441602f04b5a9a101eb426f74e01": {
     "model_module": "@jupyter-widgets/controls",
     "model_module_version": "1.5.0",
     "model_name": "DescriptionStyleModel",
     "state": {
      "_model_module": "@jupyter-widgets/controls",
      "_model_module_version": "1.5.0",
      "_model_name": "DescriptionStyleModel",
      "_view_count": null,
      "_view_module": "@jupyter-widgets/base",
      "_view_module_version": "1.2.0",
      "_view_name": "StyleView",
      "description_width": ""
     }
    },
    "3666584c783e408abca01c8076c1cbb4": {
     "model_module": "@jupyter-widgets/controls",
     "model_module_version": "1.5.0",
     "model_name": "FloatProgressModel",
     "state": {
      "_dom_classes": [],
      "_model_module": "@jupyter-widgets/controls",
      "_model_module_version": "1.5.0",
      "_model_name": "FloatProgressModel",
      "_view_count": null,
      "_view_module": "@jupyter-widgets/controls",
      "_view_module_version": "1.5.0",
      "_view_name": "ProgressView",
      "bar_style": "success",
      "description": "",
      "description_tooltip": null,
      "layout": "IPY_MODEL_af42c78485bb471a805e4107071c2005",
      "max": 493443,
      "min": 0,
      "orientation": "horizontal",
      "style": "IPY_MODEL_6deeb9438c9a4c199b72f41251e84a50",
      "value": 493443
     }
    },
    "368b59d10b9b4827bf13d7a199f311b2": {
     "model_module": "@jupyter-widgets/controls",
     "model_module_version": "1.5.0",
     "model_name": "ProgressStyleModel",
     "state": {
      "_model_module": "@jupyter-widgets/controls",
      "_model_module_version": "1.5.0",
      "_model_name": "ProgressStyleModel",
      "_view_count": null,
      "_view_module": "@jupyter-widgets/base",
      "_view_module_version": "1.2.0",
      "_view_name": "StyleView",
      "bar_color": null,
      "description_width": ""
     }
    },
    "3f9f30effcef407695737da5eabc097a": {
     "model_module": "@jupyter-widgets/controls",
     "model_module_version": "1.5.0",
     "model_name": "HTMLModel",
     "state": {
      "_dom_classes": [],
      "_model_module": "@jupyter-widgets/controls",
      "_model_module_version": "1.5.0",
      "_model_name": "HTMLModel",
      "_view_count": null,
      "_view_module": "@jupyter-widgets/controls",
      "_view_module_version": "1.5.0",
      "_view_name": "HTMLView",
      "description": "",
      "description_tooltip": null,
      "layout": "IPY_MODEL_66996b4b1f87484cada1dc192843b280",
      "placeholder": "​",
      "style": "IPY_MODEL_c4483bb9676c4ed89696fa0535f3aeca",
      "value": " 42.0/42.0 [00:00&lt;00:00, 1.98kB/s]"
     }
    },
    "46437c608ebc4dd48b4a645b21195002": {
     "model_module": "@jupyter-widgets/controls",
     "model_module_version": "1.5.0",
     "model_name": "FloatProgressModel",
     "state": {
      "_dom_classes": [],
      "_model_module": "@jupyter-widgets/controls",
      "_model_module_version": "1.5.0",
      "_model_name": "FloatProgressModel",
      "_view_count": null,
      "_view_module": "@jupyter-widgets/controls",
      "_view_module_version": "1.5.0",
      "_view_name": "ProgressView",
      "bar_style": "success",
      "description": "",
      "description_tooltip": null,
      "layout": "IPY_MODEL_db9a12b899624a92b4599d77c3de08b7",
      "max": 1795303,
      "min": 0,
      "orientation": "horizontal",
      "style": "IPY_MODEL_72f515430a594b5f80fc0756d45459bf",
      "value": 1795303
     }
    },
    "51d8f23ab3a843a4af0cb7982a5c8e43": {
     "model_module": "@jupyter-widgets/base",
     "model_module_version": "1.2.0",
     "model_name": "LayoutModel",
     "state": {
      "_model_module": "@jupyter-widgets/base",
      "_model_module_version": "1.2.0",
      "_model_name": "LayoutModel",
      "_view_count": null,
      "_view_module": "@jupyter-widgets/base",
      "_view_module_version": "1.2.0",
      "_view_name": "LayoutView",
      "align_content": null,
      "align_items": null,
      "align_self": null,
      "border": null,
      "bottom": null,
      "display": null,
      "flex": null,
      "flex_flow": null,
      "grid_area": null,
      "grid_auto_columns": null,
      "grid_auto_flow": null,
      "grid_auto_rows": null,
      "grid_column": null,
      "grid_gap": null,
      "grid_row": null,
      "grid_template_areas": null,
      "grid_template_columns": null,
      "grid_template_rows": null,
      "height": null,
      "justify_content": null,
      "justify_items": null,
      "left": null,
      "margin": null,
      "max_height": null,
      "max_width": null,
      "min_height": null,
      "min_width": null,
      "object_fit": null,
      "object_position": null,
      "order": null,
      "overflow": null,
      "overflow_x": null,
      "overflow_y": null,
      "padding": null,
      "right": null,
      "top": null,
      "visibility": null,
      "width": null
     }
    },
    "56a39aa0c5434b33aa6fb70409186874": {
     "model_module": "@jupyter-widgets/controls",
     "model_module_version": "1.5.0",
     "model_name": "HTMLModel",
     "state": {
      "_dom_classes": [],
      "_model_module": "@jupyter-widgets/controls",
      "_model_module_version": "1.5.0",
      "_model_name": "HTMLModel",
      "_view_count": null,
      "_view_module": "@jupyter-widgets/controls",
      "_view_module_version": "1.5.0",
      "_view_name": "HTMLView",
      "description": "",
      "description_tooltip": null,
      "layout": "IPY_MODEL_be3db1c4584d4c35a1947005b380a54a",
      "placeholder": "​",
      "style": "IPY_MODEL_60df4b231d03446aa17a735fb82f3dd6",
      "value": " 1.80M/1.80M [00:00&lt;00:00, 23.0MB/s]"
     }
    },
    "5aeeb802b112497e884f1050aee00205": {
     "model_module": "@jupyter-widgets/controls",
     "model_module_version": "1.5.0",
     "model_name": "HTMLModel",
     "state": {
      "_dom_classes": [],
      "_model_module": "@jupyter-widgets/controls",
      "_model_module_version": "1.5.0",
      "_model_name": "HTMLModel",
      "_view_count": null,
      "_view_module": "@jupyter-widgets/controls",
      "_view_module_version": "1.5.0",
      "_view_name": "HTMLView",
      "description": "",
      "description_tooltip": null,
      "layout": "IPY_MODEL_897f622661f64181b8619a1fe3cecb84",
      "placeholder": "​",
      "style": "IPY_MODEL_70b7c5a2562a4a1c92e12f694d2cb6a4",
      "value": " 168/168 [00:00&lt;00:00, 7.72kB/s]"
     }
    },
    "5bc0a81781d44c749423967e464ce9c0": {
     "model_module": "@jupyter-widgets/controls",
     "model_module_version": "1.5.0",
     "model_name": "HBoxModel",
     "state": {
      "_dom_classes": [],
      "_model_module": "@jupyter-widgets/controls",
      "_model_module_version": "1.5.0",
      "_model_name": "HBoxModel",
      "_view_count": null,
      "_view_module": "@jupyter-widgets/controls",
      "_view_module_version": "1.5.0",
      "_view_name": "HBoxView",
      "box_style": "",
      "children": [
       "IPY_MODEL_67cbe3fe94af45f2a452dd518ca24d59",
       "IPY_MODEL_3666584c783e408abca01c8076c1cbb4",
       "IPY_MODEL_9da42de9f6ea4048bafd5b027eb5d063"
      ],
      "layout": "IPY_MODEL_c756d598ec9d444e83a03f96a2735cb7"
     }
    },
    "60df4b231d03446aa17a735fb82f3dd6": {
     "model_module": "@jupyter-widgets/controls",
     "model_module_version": "1.5.0",
     "model_name": "DescriptionStyleModel",
     "state": {
      "_model_module": "@jupyter-widgets/controls",
      "_model_module_version": "1.5.0",
      "_model_name": "DescriptionStyleModel",
      "_view_count": null,
      "_view_module": "@jupyter-widgets/base",
      "_view_module_version": "1.2.0",
      "_view_name": "StyleView",
      "description_width": ""
     }
    },
    "636e028370de4598ae4b78ee42dac220": {
     "model_module": "@jupyter-widgets/controls",
     "model_module_version": "1.5.0",
     "model_name": "HBoxModel",
     "state": {
      "_dom_classes": [],
      "_model_module": "@jupyter-widgets/controls",
      "_model_module_version": "1.5.0",
      "_model_name": "HBoxModel",
      "_view_count": null,
      "_view_module": "@jupyter-widgets/controls",
      "_view_module_version": "1.5.0",
      "_view_name": "HBoxView",
      "box_style": "",
      "children": [
       "IPY_MODEL_a7d4ba030d6a430b940632fe687f8d4b",
       "IPY_MODEL_46437c608ebc4dd48b4a645b21195002",
       "IPY_MODEL_56a39aa0c5434b33aa6fb70409186874"
      ],
      "layout": "IPY_MODEL_c0f1e6e385504fcc98b5661fbb41f903"
     }
    },
    "63e1301b22874f32bcc823739bcd1299": {
     "model_module": "@jupyter-widgets/controls",
     "model_module_version": "1.5.0",
     "model_name": "HBoxModel",
     "state": {
      "_dom_classes": [],
      "_model_module": "@jupyter-widgets/controls",
      "_model_module_version": "1.5.0",
      "_model_name": "HBoxModel",
      "_view_count": null,
      "_view_module": "@jupyter-widgets/controls",
      "_view_module_version": "1.5.0",
      "_view_name": "HBoxView",
      "box_style": "",
      "children": [
       "IPY_MODEL_2429eea3f9a047c4b84491a03df06b7e",
       "IPY_MODEL_a5fcbc1d299a443cbe760ee93f9405a3",
       "IPY_MODEL_3f9f30effcef407695737da5eabc097a"
      ],
      "layout": "IPY_MODEL_8eaae38b20c44990851ef9a28a90cbee"
     }
    },
    "66996b4b1f87484cada1dc192843b280": {
     "model_module": "@jupyter-widgets/base",
     "model_module_version": "1.2.0",
     "model_name": "LayoutModel",
     "state": {
      "_model_module": "@jupyter-widgets/base",
      "_model_module_version": "1.2.0",
      "_model_name": "LayoutModel",
      "_view_count": null,
      "_view_module": "@jupyter-widgets/base",
      "_view_module_version": "1.2.0",
      "_view_name": "LayoutView",
      "align_content": null,
      "align_items": null,
      "align_self": null,
      "border": null,
      "bottom": null,
      "display": null,
      "flex": null,
      "flex_flow": null,
      "grid_area": null,
      "grid_auto_columns": null,
      "grid_auto_flow": null,
      "grid_auto_rows": null,
      "grid_column": null,
      "grid_gap": null,
      "grid_row": null,
      "grid_template_areas": null,
      "grid_template_columns": null,
      "grid_template_rows": null,
      "height": null,
      "justify_content": null,
      "justify_items": null,
      "left": null,
      "margin": null,
      "max_height": null,
      "max_width": null,
      "min_height": null,
      "min_width": null,
      "object_fit": null,
      "object_position": null,
      "order": null,
      "overflow": null,
      "overflow_x": null,
      "overflow_y": null,
      "padding": null,
      "right": null,
      "top": null,
      "visibility": null,
      "width": null
     }
    },
    "67cbe3fe94af45f2a452dd518ca24d59": {
     "model_module": "@jupyter-widgets/controls",
     "model_module_version": "1.5.0",
     "model_name": "HTMLModel",
     "state": {
      "_dom_classes": [],
      "_model_module": "@jupyter-widgets/controls",
      "_model_module_version": "1.5.0",
      "_model_name": "HTMLModel",
      "_view_count": null,
      "_view_module": "@jupyter-widgets/controls",
      "_view_module_version": "1.5.0",
      "_view_name": "HTMLView",
      "description": "",
      "description_tooltip": null,
      "layout": "IPY_MODEL_51d8f23ab3a843a4af0cb7982a5c8e43",
      "placeholder": "​",
      "style": "IPY_MODEL_839cd5ac24d24f91b920d6569232d492",
      "value": "tokenizer.model: 100%"
     }
    },
    "6deeb9438c9a4c199b72f41251e84a50": {
     "model_module": "@jupyter-widgets/controls",
     "model_module_version": "1.5.0",
     "model_name": "ProgressStyleModel",
     "state": {
      "_model_module": "@jupyter-widgets/controls",
      "_model_module_version": "1.5.0",
      "_model_name": "ProgressStyleModel",
      "_view_count": null,
      "_view_module": "@jupyter-widgets/base",
      "_view_module_version": "1.2.0",
      "_view_name": "StyleView",
      "bar_color": null,
      "description_width": ""
     }
    },
    "70b7c5a2562a4a1c92e12f694d2cb6a4": {
     "model_module": "@jupyter-widgets/controls",
     "model_module_version": "1.5.0",
     "model_name": "DescriptionStyleModel",
     "state": {
      "_model_module": "@jupyter-widgets/controls",
      "_model_module_version": "1.5.0",
      "_model_name": "DescriptionStyleModel",
      "_view_count": null,
      "_view_module": "@jupyter-widgets/base",
      "_view_module_version": "1.2.0",
      "_view_name": "StyleView",
      "description_width": ""
     }
    },
    "72f515430a594b5f80fc0756d45459bf": {
     "model_module": "@jupyter-widgets/controls",
     "model_module_version": "1.5.0",
     "model_name": "ProgressStyleModel",
     "state": {
      "_model_module": "@jupyter-widgets/controls",
      "_model_module_version": "1.5.0",
      "_model_name": "ProgressStyleModel",
      "_view_count": null,
      "_view_module": "@jupyter-widgets/base",
      "_view_module_version": "1.2.0",
      "_view_name": "StyleView",
      "bar_color": null,
      "description_width": ""
     }
    },
    "7cb41f32b0c244e6b46ad196e7f8612e": {
     "model_module": "@jupyter-widgets/controls",
     "model_module_version": "1.5.0",
     "model_name": "FloatProgressModel",
     "state": {
      "_dom_classes": [],
      "_model_module": "@jupyter-widgets/controls",
      "_model_module_version": "1.5.0",
      "_model_name": "FloatProgressModel",
      "_view_count": null,
      "_view_module": "@jupyter-widgets/controls",
      "_view_module_version": "1.5.0",
      "_view_name": "ProgressView",
      "bar_style": "success",
      "description": "",
      "description_tooltip": null,
      "layout": "IPY_MODEL_ced86ee911774b77a782006331bc401e",
      "max": 1431,
      "min": 0,
      "orientation": "horizontal",
      "style": "IPY_MODEL_a4bfc37e855f49a88eb48aa7ca554e95",
      "value": 1431
     }
    },
    "80f31a6015fd4602b75c2db5ada4fbd5": {
     "model_module": "@jupyter-widgets/base",
     "model_module_version": "1.2.0",
     "model_name": "LayoutModel",
     "state": {
      "_model_module": "@jupyter-widgets/base",
      "_model_module_version": "1.2.0",
      "_model_name": "LayoutModel",
      "_view_count": null,
      "_view_module": "@jupyter-widgets/base",
      "_view_module_version": "1.2.0",
      "_view_name": "LayoutView",
      "align_content": null,
      "align_items": null,
      "align_self": null,
      "border": null,
      "bottom": null,
      "display": null,
      "flex": null,
      "flex_flow": null,
      "grid_area": null,
      "grid_auto_columns": null,
      "grid_auto_flow": null,
      "grid_auto_rows": null,
      "grid_column": null,
      "grid_gap": null,
      "grid_row": null,
      "grid_template_areas": null,
      "grid_template_columns": null,
      "grid_template_rows": null,
      "height": null,
      "justify_content": null,
      "justify_items": null,
      "left": null,
      "margin": null,
      "max_height": null,
      "max_width": null,
      "min_height": null,
      "min_width": null,
      "object_fit": null,
      "object_position": null,
      "order": null,
      "overflow": null,
      "overflow_x": null,
      "overflow_y": null,
      "padding": null,
      "right": null,
      "top": null,
      "visibility": null,
      "width": null
     }
    },
    "825d998b583a4d3ab1f1a4ec44747139": {
     "model_module": "@jupyter-widgets/controls",
     "model_module_version": "1.5.0",
     "model_name": "HBoxModel",
     "state": {
      "_dom_classes": [],
      "_model_module": "@jupyter-widgets/controls",
      "_model_module_version": "1.5.0",
      "_model_name": "HBoxModel",
      "_view_count": null,
      "_view_module": "@jupyter-widgets/controls",
      "_view_module_version": "1.5.0",
      "_view_name": "HBoxView",
      "box_style": "",
      "children": [
       "IPY_MODEL_9ed95e50bb4e469abdc0f595f9e671f9",
       "IPY_MODEL_7cb41f32b0c244e6b46ad196e7f8612e",
       "IPY_MODEL_894dcf6587df4735ae1ea380ec8a7cb6"
      ],
      "layout": "IPY_MODEL_1daf109263c84d07a30c7d12d53fa5f8"
     }
    },
    "839cd5ac24d24f91b920d6569232d492": {
     "model_module": "@jupyter-widgets/controls",
     "model_module_version": "1.5.0",
     "model_name": "DescriptionStyleModel",
     "state": {
      "_model_module": "@jupyter-widgets/controls",
      "_model_module_version": "1.5.0",
      "_model_name": "DescriptionStyleModel",
      "_view_count": null,
      "_view_module": "@jupyter-widgets/base",
      "_view_module_version": "1.2.0",
      "_view_name": "StyleView",
      "description_width": ""
     }
    },
    "894dcf6587df4735ae1ea380ec8a7cb6": {
     "model_module": "@jupyter-widgets/controls",
     "model_module_version": "1.5.0",
     "model_name": "HTMLModel",
     "state": {
      "_dom_classes": [],
      "_model_module": "@jupyter-widgets/controls",
      "_model_module_version": "1.5.0",
      "_model_name": "HTMLModel",
      "_view_count": null,
      "_view_module": "@jupyter-widgets/controls",
      "_view_module_version": "1.5.0",
      "_view_name": "HTMLView",
      "description": "",
      "description_tooltip": null,
      "layout": "IPY_MODEL_b075914a735645e08e008a786c4598b3",
      "placeholder": "​",
      "style": "IPY_MODEL_14e946c4bd3f4e7eb295b120266fd87a",
      "value": " 1.43k/1.43k [00:00&lt;00:00, 63.0kB/s]"
     }
    },
    "897f622661f64181b8619a1fe3cecb84": {
     "model_module": "@jupyter-widgets/base",
     "model_module_version": "1.2.0",
     "model_name": "LayoutModel",
     "state": {
      "_model_module": "@jupyter-widgets/base",
      "_model_module_version": "1.2.0",
      "_model_name": "LayoutModel",
      "_view_count": null,
      "_view_module": "@jupyter-widgets/base",
      "_view_module_version": "1.2.0",
      "_view_name": "LayoutView",
      "align_content": null,
      "align_items": null,
      "align_self": null,
      "border": null,
      "bottom": null,
      "display": null,
      "flex": null,
      "flex_flow": null,
      "grid_area": null,
      "grid_auto_columns": null,
      "grid_auto_flow": null,
      "grid_auto_rows": null,
      "grid_column": null,
      "grid_gap": null,
      "grid_row": null,
      "grid_template_areas": null,
      "grid_template_columns": null,
      "grid_template_rows": null,
      "height": null,
      "justify_content": null,
      "justify_items": null,
      "left": null,
      "margin": null,
      "max_height": null,
      "max_width": null,
      "min_height": null,
      "min_width": null,
      "object_fit": null,
      "object_position": null,
      "order": null,
      "overflow": null,
      "overflow_x": null,
      "overflow_y": null,
      "padding": null,
      "right": null,
      "top": null,
      "visibility": null,
      "width": null
     }
    },
    "8eaae38b20c44990851ef9a28a90cbee": {
     "model_module": "@jupyter-widgets/base",
     "model_module_version": "1.2.0",
     "model_name": "LayoutModel",
     "state": {
      "_model_module": "@jupyter-widgets/base",
      "_model_module_version": "1.2.0",
      "_model_name": "LayoutModel",
      "_view_count": null,
      "_view_module": "@jupyter-widgets/base",
      "_view_module_version": "1.2.0",
      "_view_name": "LayoutView",
      "align_content": null,
      "align_items": null,
      "align_self": null,
      "border": null,
      "bottom": null,
      "display": null,
      "flex": null,
      "flex_flow": null,
      "grid_area": null,
      "grid_auto_columns": null,
      "grid_auto_flow": null,
      "grid_auto_rows": null,
      "grid_column": null,
      "grid_gap": null,
      "grid_row": null,
      "grid_template_areas": null,
      "grid_template_columns": null,
      "grid_template_rows": null,
      "height": null,
      "justify_content": null,
      "justify_items": null,
      "left": null,
      "margin": null,
      "max_height": null,
      "max_width": null,
      "min_height": null,
      "min_width": null,
      "object_fit": null,
      "object_position": null,
      "order": null,
      "overflow": null,
      "overflow_x": null,
      "overflow_y": null,
      "padding": null,
      "right": null,
      "top": null,
      "visibility": null,
      "width": null
     }
    },
    "9b5a2bca16144aa7b6450715da4b526a": {
     "model_module": "@jupyter-widgets/base",
     "model_module_version": "1.2.0",
     "model_name": "LayoutModel",
     "state": {
      "_model_module": "@jupyter-widgets/base",
      "_model_module_version": "1.2.0",
      "_model_name": "LayoutModel",
      "_view_count": null,
      "_view_module": "@jupyter-widgets/base",
      "_view_module_version": "1.2.0",
      "_view_name": "LayoutView",
      "align_content": null,
      "align_items": null,
      "align_self": null,
      "border": null,
      "bottom": null,
      "display": null,
      "flex": null,
      "flex_flow": null,
      "grid_area": null,
      "grid_auto_columns": null,
      "grid_auto_flow": null,
      "grid_auto_rows": null,
      "grid_column": null,
      "grid_gap": null,
      "grid_row": null,
      "grid_template_areas": null,
      "grid_template_columns": null,
      "grid_template_rows": null,
      "height": null,
      "justify_content": null,
      "justify_items": null,
      "left": null,
      "margin": null,
      "max_height": null,
      "max_width": null,
      "min_height": null,
      "min_width": null,
      "object_fit": null,
      "object_position": null,
      "order": null,
      "overflow": null,
      "overflow_x": null,
      "overflow_y": null,
      "padding": null,
      "right": null,
      "top": null,
      "visibility": null,
      "width": null
     }
    },
    "9da42de9f6ea4048bafd5b027eb5d063": {
     "model_module": "@jupyter-widgets/controls",
     "model_module_version": "1.5.0",
     "model_name": "HTMLModel",
     "state": {
      "_dom_classes": [],
      "_model_module": "@jupyter-widgets/controls",
      "_model_module_version": "1.5.0",
      "_model_name": "HTMLModel",
      "_view_count": null,
      "_view_module": "@jupyter-widgets/controls",
      "_view_module_version": "1.5.0",
      "_view_name": "HTMLView",
      "description": "",
      "description_tooltip": null,
      "layout": "IPY_MODEL_f31d59bc6147494e9a818dbb788c1989",
      "placeholder": "​",
      "style": "IPY_MODEL_102c914bc651429aae2d4bdaabef47f7",
      "value": " 493k/493k [00:00&lt;00:00, 18.1MB/s]"
     }
    },
    "9ed95e50bb4e469abdc0f595f9e671f9": {
     "model_module": "@jupyter-widgets/controls",
     "model_module_version": "1.5.0",
     "model_name": "HTMLModel",
     "state": {
      "_dom_classes": [],
      "_model_module": "@jupyter-widgets/controls",
      "_model_module_version": "1.5.0",
      "_model_name": "HTMLModel",
      "_view_count": null,
      "_view_module": "@jupyter-widgets/controls",
      "_view_module_version": "1.5.0",
      "_view_name": "HTMLView",
      "description": "",
      "description_tooltip": null,
      "layout": "IPY_MODEL_cdd4ed09093848e4a8819620f68799b4",
      "placeholder": "​",
      "style": "IPY_MODEL_bec366f5b6a84166a1b4e5d62fc36f85",
      "value": "tokenizer_config.json: 100%"
     }
    },
    "a4bfc37e855f49a88eb48aa7ca554e95": {
     "model_module": "@jupyter-widgets/controls",
     "model_module_version": "1.5.0",
     "model_name": "ProgressStyleModel",
     "state": {
      "_model_module": "@jupyter-widgets/controls",
      "_model_module_version": "1.5.0",
      "_model_name": "ProgressStyleModel",
      "_view_count": null,
      "_view_module": "@jupyter-widgets/base",
      "_view_module_version": "1.2.0",
      "_view_name": "StyleView",
      "bar_color": null,
      "description_width": ""
     }
    },
    "a5fcbc1d299a443cbe760ee93f9405a3": {
     "model_module": "@jupyter-widgets/controls",
     "model_module_version": "1.5.0",
     "model_name": "FloatProgressModel",
     "state": {
      "_dom_classes": [],
      "_model_module": "@jupyter-widgets/controls",
      "_model_module_version": "1.5.0",
      "_model_name": "FloatProgressModel",
      "_view_count": null,
      "_view_module": "@jupyter-widgets/controls",
      "_view_module_version": "1.5.0",
      "_view_name": "ProgressView",
      "bar_style": "success",
      "description": "",
      "description_tooltip": null,
      "layout": "IPY_MODEL_d7e87610e69f48c599c8496e521bff82",
      "max": 42,
      "min": 0,
      "orientation": "horizontal",
      "style": "IPY_MODEL_368b59d10b9b4827bf13d7a199f311b2",
      "value": 42
     }
    },
    "a7d4ba030d6a430b940632fe687f8d4b": {
     "model_module": "@jupyter-widgets/controls",
     "model_module_version": "1.5.0",
     "model_name": "HTMLModel",
     "state": {
      "_dom_classes": [],
      "_model_module": "@jupyter-widgets/controls",
      "_model_module_version": "1.5.0",
      "_model_name": "HTMLModel",
      "_view_count": null,
      "_view_module": "@jupyter-widgets/controls",
      "_view_module_version": "1.5.0",
      "_view_name": "HTMLView",
      "description": "",
      "description_tooltip": null,
      "layout": "IPY_MODEL_80f31a6015fd4602b75c2db5ada4fbd5",
      "placeholder": "​",
      "style": "IPY_MODEL_3183441602f04b5a9a101eb426f74e01",
      "value": "tokenizer.json: 100%"
     }
    },
    "aba5887a53d246608fe9e20b2c177fdd": {
     "model_module": "@jupyter-widgets/controls",
     "model_module_version": "1.5.0",
     "model_name": "DescriptionStyleModel",
     "state": {
      "_model_module": "@jupyter-widgets/controls",
      "_model_module_version": "1.5.0",
      "_model_name": "DescriptionStyleModel",
      "_view_count": null,
      "_view_module": "@jupyter-widgets/base",
      "_view_module_version": "1.2.0",
      "_view_name": "StyleView",
      "description_width": ""
     }
    },
    "af42c78485bb471a805e4107071c2005": {
     "model_module": "@jupyter-widgets/base",
     "model_module_version": "1.2.0",
     "model_name": "LayoutModel",
     "state": {
      "_model_module": "@jupyter-widgets/base",
      "_model_module_version": "1.2.0",
      "_model_name": "LayoutModel",
      "_view_count": null,
      "_view_module": "@jupyter-widgets/base",
      "_view_module_version": "1.2.0",
      "_view_name": "LayoutView",
      "align_content": null,
      "align_items": null,
      "align_self": null,
      "border": null,
      "bottom": null,
      "display": null,
      "flex": null,
      "flex_flow": null,
      "grid_area": null,
      "grid_auto_columns": null,
      "grid_auto_flow": null,
      "grid_auto_rows": null,
      "grid_column": null,
      "grid_gap": null,
      "grid_row": null,
      "grid_template_areas": null,
      "grid_template_columns": null,
      "grid_template_rows": null,
      "height": null,
      "justify_content": null,
      "justify_items": null,
      "left": null,
      "margin": null,
      "max_height": null,
      "max_width": null,
      "min_height": null,
      "min_width": null,
      "object_fit": null,
      "object_position": null,
      "order": null,
      "overflow": null,
      "overflow_x": null,
      "overflow_y": null,
      "padding": null,
      "right": null,
      "top": null,
      "visibility": null,
      "width": null
     }
    },
    "af8d32da420e4faa952d4465bade2c37": {
     "model_module": "@jupyter-widgets/base",
     "model_module_version": "1.2.0",
     "model_name": "LayoutModel",
     "state": {
      "_model_module": "@jupyter-widgets/base",
      "_model_module_version": "1.2.0",
      "_model_name": "LayoutModel",
      "_view_count": null,
      "_view_module": "@jupyter-widgets/base",
      "_view_module_version": "1.2.0",
      "_view_name": "LayoutView",
      "align_content": null,
      "align_items": null,
      "align_self": null,
      "border": null,
      "bottom": null,
      "display": null,
      "flex": null,
      "flex_flow": null,
      "grid_area": null,
      "grid_auto_columns": null,
      "grid_auto_flow": null,
      "grid_auto_rows": null,
      "grid_column": null,
      "grid_gap": null,
      "grid_row": null,
      "grid_template_areas": null,
      "grid_template_columns": null,
      "grid_template_rows": null,
      "height": null,
      "justify_content": null,
      "justify_items": null,
      "left": null,
      "margin": null,
      "max_height": null,
      "max_width": null,
      "min_height": null,
      "min_width": null,
      "object_fit": null,
      "object_position": null,
      "order": null,
      "overflow": null,
      "overflow_x": null,
      "overflow_y": null,
      "padding": null,
      "right": null,
      "top": null,
      "visibility": null,
      "width": null
     }
    },
    "b075914a735645e08e008a786c4598b3": {
     "model_module": "@jupyter-widgets/base",
     "model_module_version": "1.2.0",
     "model_name": "LayoutModel",
     "state": {
      "_model_module": "@jupyter-widgets/base",
      "_model_module_version": "1.2.0",
      "_model_name": "LayoutModel",
      "_view_count": null,
      "_view_module": "@jupyter-widgets/base",
      "_view_module_version": "1.2.0",
      "_view_name": "LayoutView",
      "align_content": null,
      "align_items": null,
      "align_self": null,
      "border": null,
      "bottom": null,
      "display": null,
      "flex": null,
      "flex_flow": null,
      "grid_area": null,
      "grid_auto_columns": null,
      "grid_auto_flow": null,
      "grid_auto_rows": null,
      "grid_column": null,
      "grid_gap": null,
      "grid_row": null,
      "grid_template_areas": null,
      "grid_template_columns": null,
      "grid_template_rows": null,
      "height": null,
      "justify_content": null,
      "justify_items": null,
      "left": null,
      "margin": null,
      "max_height": null,
      "max_width": null,
      "min_height": null,
      "min_width": null,
      "object_fit": null,
      "object_position": null,
      "order": null,
      "overflow": null,
      "overflow_x": null,
      "overflow_y": null,
      "padding": null,
      "right": null,
      "top": null,
      "visibility": null,
      "width": null
     }
    },
    "b6e5b5a3674c46aeb1f1be79e66b50a2": {
     "model_module": "@jupyter-widgets/base",
     "model_module_version": "1.2.0",
     "model_name": "LayoutModel",
     "state": {
      "_model_module": "@jupyter-widgets/base",
      "_model_module_version": "1.2.0",
      "_model_name": "LayoutModel",
      "_view_count": null,
      "_view_module": "@jupyter-widgets/base",
      "_view_module_version": "1.2.0",
      "_view_name": "LayoutView",
      "align_content": null,
      "align_items": null,
      "align_self": null,
      "border": null,
      "bottom": null,
      "display": null,
      "flex": null,
      "flex_flow": null,
      "grid_area": null,
      "grid_auto_columns": null,
      "grid_auto_flow": null,
      "grid_auto_rows": null,
      "grid_column": null,
      "grid_gap": null,
      "grid_row": null,
      "grid_template_areas": null,
      "grid_template_columns": null,
      "grid_template_rows": null,
      "height": null,
      "justify_content": null,
      "justify_items": null,
      "left": null,
      "margin": null,
      "max_height": null,
      "max_width": null,
      "min_height": null,
      "min_width": null,
      "object_fit": null,
      "object_position": null,
      "order": null,
      "overflow": null,
      "overflow_x": null,
      "overflow_y": null,
      "padding": null,
      "right": null,
      "top": null,
      "visibility": null,
      "width": null
     }
    },
    "be3db1c4584d4c35a1947005b380a54a": {
     "model_module": "@jupyter-widgets/base",
     "model_module_version": "1.2.0",
     "model_name": "LayoutModel",
     "state": {
      "_model_module": "@jupyter-widgets/base",
      "_model_module_version": "1.2.0",
      "_model_name": "LayoutModel",
      "_view_count": null,
      "_view_module": "@jupyter-widgets/base",
      "_view_module_version": "1.2.0",
      "_view_name": "LayoutView",
      "align_content": null,
      "align_items": null,
      "align_self": null,
      "border": null,
      "bottom": null,
      "display": null,
      "flex": null,
      "flex_flow": null,
      "grid_area": null,
      "grid_auto_columns": null,
      "grid_auto_flow": null,
      "grid_auto_rows": null,
      "grid_column": null,
      "grid_gap": null,
      "grid_row": null,
      "grid_template_areas": null,
      "grid_template_columns": null,
      "grid_template_rows": null,
      "height": null,
      "justify_content": null,
      "justify_items": null,
      "left": null,
      "margin": null,
      "max_height": null,
      "max_width": null,
      "min_height": null,
      "min_width": null,
      "object_fit": null,
      "object_position": null,
      "order": null,
      "overflow": null,
      "overflow_x": null,
      "overflow_y": null,
      "padding": null,
      "right": null,
      "top": null,
      "visibility": null,
      "width": null
     }
    },
    "bec366f5b6a84166a1b4e5d62fc36f85": {
     "model_module": "@jupyter-widgets/controls",
     "model_module_version": "1.5.0",
     "model_name": "DescriptionStyleModel",
     "state": {
      "_model_module": "@jupyter-widgets/controls",
      "_model_module_version": "1.5.0",
      "_model_name": "DescriptionStyleModel",
      "_view_count": null,
      "_view_module": "@jupyter-widgets/base",
      "_view_module_version": "1.2.0",
      "_view_name": "StyleView",
      "description_width": ""
     }
    },
    "c0f1e6e385504fcc98b5661fbb41f903": {
     "model_module": "@jupyter-widgets/base",
     "model_module_version": "1.2.0",
     "model_name": "LayoutModel",
     "state": {
      "_model_module": "@jupyter-widgets/base",
      "_model_module_version": "1.2.0",
      "_model_name": "LayoutModel",
      "_view_count": null,
      "_view_module": "@jupyter-widgets/base",
      "_view_module_version": "1.2.0",
      "_view_name": "LayoutView",
      "align_content": null,
      "align_items": null,
      "align_self": null,
      "border": null,
      "bottom": null,
      "display": null,
      "flex": null,
      "flex_flow": null,
      "grid_area": null,
      "grid_auto_columns": null,
      "grid_auto_flow": null,
      "grid_auto_rows": null,
      "grid_column": null,
      "grid_gap": null,
      "grid_row": null,
      "grid_template_areas": null,
      "grid_template_columns": null,
      "grid_template_rows": null,
      "height": null,
      "justify_content": null,
      "justify_items": null,
      "left": null,
      "margin": null,
      "max_height": null,
      "max_width": null,
      "min_height": null,
      "min_width": null,
      "object_fit": null,
      "object_position": null,
      "order": null,
      "overflow": null,
      "overflow_x": null,
      "overflow_y": null,
      "padding": null,
      "right": null,
      "top": null,
      "visibility": null,
      "width": null
     }
    },
    "c4483bb9676c4ed89696fa0535f3aeca": {
     "model_module": "@jupyter-widgets/controls",
     "model_module_version": "1.5.0",
     "model_name": "DescriptionStyleModel",
     "state": {
      "_model_module": "@jupyter-widgets/controls",
      "_model_module_version": "1.5.0",
      "_model_name": "DescriptionStyleModel",
      "_view_count": null,
      "_view_module": "@jupyter-widgets/base",
      "_view_module_version": "1.2.0",
      "_view_name": "StyleView",
      "description_width": ""
     }
    },
    "c756d598ec9d444e83a03f96a2735cb7": {
     "model_module": "@jupyter-widgets/base",
     "model_module_version": "1.2.0",
     "model_name": "LayoutModel",
     "state": {
      "_model_module": "@jupyter-widgets/base",
      "_model_module_version": "1.2.0",
      "_model_name": "LayoutModel",
      "_view_count": null,
      "_view_module": "@jupyter-widgets/base",
      "_view_module_version": "1.2.0",
      "_view_name": "LayoutView",
      "align_content": null,
      "align_items": null,
      "align_self": null,
      "border": null,
      "bottom": null,
      "display": null,
      "flex": null,
      "flex_flow": null,
      "grid_area": null,
      "grid_auto_columns": null,
      "grid_auto_flow": null,
      "grid_auto_rows": null,
      "grid_column": null,
      "grid_gap": null,
      "grid_row": null,
      "grid_template_areas": null,
      "grid_template_columns": null,
      "grid_template_rows": null,
      "height": null,
      "justify_content": null,
      "justify_items": null,
      "left": null,
      "margin": null,
      "max_height": null,
      "max_width": null,
      "min_height": null,
      "min_width": null,
      "object_fit": null,
      "object_position": null,
      "order": null,
      "overflow": null,
      "overflow_x": null,
      "overflow_y": null,
      "padding": null,
      "right": null,
      "top": null,
      "visibility": null,
      "width": null
     }
    },
    "cdd4ed09093848e4a8819620f68799b4": {
     "model_module": "@jupyter-widgets/base",
     "model_module_version": "1.2.0",
     "model_name": "LayoutModel",
     "state": {
      "_model_module": "@jupyter-widgets/base",
      "_model_module_version": "1.2.0",
      "_model_name": "LayoutModel",
      "_view_count": null,
      "_view_module": "@jupyter-widgets/base",
      "_view_module_version": "1.2.0",
      "_view_name": "LayoutView",
      "align_content": null,
      "align_items": null,
      "align_self": null,
      "border": null,
      "bottom": null,
      "display": null,
      "flex": null,
      "flex_flow": null,
      "grid_area": null,
      "grid_auto_columns": null,
      "grid_auto_flow": null,
      "grid_auto_rows": null,
      "grid_column": null,
      "grid_gap": null,
      "grid_row": null,
      "grid_template_areas": null,
      "grid_template_columns": null,
      "grid_template_rows": null,
      "height": null,
      "justify_content": null,
      "justify_items": null,
      "left": null,
      "margin": null,
      "max_height": null,
      "max_width": null,
      "min_height": null,
      "min_width": null,
      "object_fit": null,
      "object_position": null,
      "order": null,
      "overflow": null,
      "overflow_x": null,
      "overflow_y": null,
      "padding": null,
      "right": null,
      "top": null,
      "visibility": null,
      "width": null
     }
    },
    "ced86ee911774b77a782006331bc401e": {
     "model_module": "@jupyter-widgets/base",
     "model_module_version": "1.2.0",
     "model_name": "LayoutModel",
     "state": {
      "_model_module": "@jupyter-widgets/base",
      "_model_module_version": "1.2.0",
      "_model_name": "LayoutModel",
      "_view_count": null,
      "_view_module": "@jupyter-widgets/base",
      "_view_module_version": "1.2.0",
      "_view_name": "LayoutView",
      "align_content": null,
      "align_items": null,
      "align_self": null,
      "border": null,
      "bottom": null,
      "display": null,
      "flex": null,
      "flex_flow": null,
      "grid_area": null,
      "grid_auto_columns": null,
      "grid_auto_flow": null,
      "grid_auto_rows": null,
      "grid_column": null,
      "grid_gap": null,
      "grid_row": null,
      "grid_template_areas": null,
      "grid_template_columns": null,
      "grid_template_rows": null,
      "height": null,
      "justify_content": null,
      "justify_items": null,
      "left": null,
      "margin": null,
      "max_height": null,
      "max_width": null,
      "min_height": null,
      "min_width": null,
      "object_fit": null,
      "object_position": null,
      "order": null,
      "overflow": null,
      "overflow_x": null,
      "overflow_y": null,
      "padding": null,
      "right": null,
      "top": null,
      "visibility": null,
      "width": null
     }
    },
    "d7e87610e69f48c599c8496e521bff82": {
     "model_module": "@jupyter-widgets/base",
     "model_module_version": "1.2.0",
     "model_name": "LayoutModel",
     "state": {
      "_model_module": "@jupyter-widgets/base",
      "_model_module_version": "1.2.0",
      "_model_name": "LayoutModel",
      "_view_count": null,
      "_view_module": "@jupyter-widgets/base",
      "_view_module_version": "1.2.0",
      "_view_name": "LayoutView",
      "align_content": null,
      "align_items": null,
      "align_self": null,
      "border": null,
      "bottom": null,
      "display": null,
      "flex": null,
      "flex_flow": null,
      "grid_area": null,
      "grid_auto_columns": null,
      "grid_auto_flow": null,
      "grid_auto_rows": null,
      "grid_column": null,
      "grid_gap": null,
      "grid_row": null,
      "grid_template_areas": null,
      "grid_template_columns": null,
      "grid_template_rows": null,
      "height": null,
      "justify_content": null,
      "justify_items": null,
      "left": null,
      "margin": null,
      "max_height": null,
      "max_width": null,
      "min_height": null,
      "min_width": null,
      "object_fit": null,
      "object_position": null,
      "order": null,
      "overflow": null,
      "overflow_x": null,
      "overflow_y": null,
      "padding": null,
      "right": null,
      "top": null,
      "visibility": null,
      "width": null
     }
    },
    "d98a917cf3b84a3cbb4d9e3922579f70": {
     "model_module": "@jupyter-widgets/base",
     "model_module_version": "1.2.0",
     "model_name": "LayoutModel",
     "state": {
      "_model_module": "@jupyter-widgets/base",
      "_model_module_version": "1.2.0",
      "_model_name": "LayoutModel",
      "_view_count": null,
      "_view_module": "@jupyter-widgets/base",
      "_view_module_version": "1.2.0",
      "_view_name": "LayoutView",
      "align_content": null,
      "align_items": null,
      "align_self": null,
      "border": null,
      "bottom": null,
      "display": null,
      "flex": null,
      "flex_flow": null,
      "grid_area": null,
      "grid_auto_columns": null,
      "grid_auto_flow": null,
      "grid_auto_rows": null,
      "grid_column": null,
      "grid_gap": null,
      "grid_row": null,
      "grid_template_areas": null,
      "grid_template_columns": null,
      "grid_template_rows": null,
      "height": null,
      "justify_content": null,
      "justify_items": null,
      "left": null,
      "margin": null,
      "max_height": null,
      "max_width": null,
      "min_height": null,
      "min_width": null,
      "object_fit": null,
      "object_position": null,
      "order": null,
      "overflow": null,
      "overflow_x": null,
      "overflow_y": null,
      "padding": null,
      "right": null,
      "top": null,
      "visibility": null,
      "width": null
     }
    },
    "d9af64a0707447ee8558de9ca3e0053b": {
     "model_module": "@jupyter-widgets/controls",
     "model_module_version": "1.5.0",
     "model_name": "FloatProgressModel",
     "state": {
      "_dom_classes": [],
      "_model_module": "@jupyter-widgets/controls",
      "_model_module_version": "1.5.0",
      "_model_name": "FloatProgressModel",
      "_view_count": null,
      "_view_module": "@jupyter-widgets/controls",
      "_view_module_version": "1.5.0",
      "_view_name": "ProgressView",
      "bar_style": "success",
      "description": "",
      "description_tooltip": null,
      "layout": "IPY_MODEL_9b5a2bca16144aa7b6450715da4b526a",
      "max": 168,
      "min": 0,
      "orientation": "horizontal",
      "style": "IPY_MODEL_1bc32219699f4030950a6f8354584b2e",
      "value": 168
     }
    },
    "db9a12b899624a92b4599d77c3de08b7": {
     "model_module": "@jupyter-widgets/base",
     "model_module_version": "1.2.0",
     "model_name": "LayoutModel",
     "state": {
      "_model_module": "@jupyter-widgets/base",
      "_model_module_version": "1.2.0",
      "_model_name": "LayoutModel",
      "_view_count": null,
      "_view_module": "@jupyter-widgets/base",
      "_view_module_version": "1.2.0",
      "_view_name": "LayoutView",
      "align_content": null,
      "align_items": null,
      "align_self": null,
      "border": null,
      "bottom": null,
      "display": null,
      "flex": null,
      "flex_flow": null,
      "grid_area": null,
      "grid_auto_columns": null,
      "grid_auto_flow": null,
      "grid_auto_rows": null,
      "grid_column": null,
      "grid_gap": null,
      "grid_row": null,
      "grid_template_areas": null,
      "grid_template_columns": null,
      "grid_template_rows": null,
      "height": null,
      "justify_content": null,
      "justify_items": null,
      "left": null,
      "margin": null,
      "max_height": null,
      "max_width": null,
      "min_height": null,
      "min_width": null,
      "object_fit": null,
      "object_position": null,
      "order": null,
      "overflow": null,
      "overflow_x": null,
      "overflow_y": null,
      "padding": null,
      "right": null,
      "top": null,
      "visibility": null,
      "width": null
     }
    },
    "f31d59bc6147494e9a818dbb788c1989": {
     "model_module": "@jupyter-widgets/base",
     "model_module_version": "1.2.0",
     "model_name": "LayoutModel",
     "state": {
      "_model_module": "@jupyter-widgets/base",
      "_model_module_version": "1.2.0",
      "_model_name": "LayoutModel",
      "_view_count": null,
      "_view_module": "@jupyter-widgets/base",
      "_view_module_version": "1.2.0",
      "_view_name": "LayoutView",
      "align_content": null,
      "align_items": null,
      "align_self": null,
      "border": null,
      "bottom": null,
      "display": null,
      "flex": null,
      "flex_flow": null,
      "grid_area": null,
      "grid_auto_columns": null,
      "grid_auto_flow": null,
      "grid_auto_rows": null,
      "grid_column": null,
      "grid_gap": null,
      "grid_row": null,
      "grid_template_areas": null,
      "grid_template_columns": null,
      "grid_template_rows": null,
      "height": null,
      "justify_content": null,
      "justify_items": null,
      "left": null,
      "margin": null,
      "max_height": null,
      "max_width": null,
      "min_height": null,
      "min_width": null,
      "object_fit": null,
      "object_position": null,
      "order": null,
      "overflow": null,
      "overflow_x": null,
      "overflow_y": null,
      "padding": null,
      "right": null,
      "top": null,
      "visibility": null,
      "width": null
     }
    }
   }
  }
 },
 "nbformat": 4,
 "nbformat_minor": 4
}
